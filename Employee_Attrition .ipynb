{
 "cells": [
  {
   "cell_type": "markdown",
   "metadata": {},
   "source": [
    "Employee_Attrition Machine Learning Project\n"
   ]
  },
  {
   "cell_type": "code",
   "execution_count": 79,
   "metadata": {},
   "outputs": [],
   "source": [
    "#load libraries\n",
    "import numpy as np # linear algebra\n",
    "import pandas as pd \n",
    "import matplotlib.pyplot as plt\n",
    "import seaborn as sns\n",
    "\n",
    "import plotly as py\n",
    "import plotly.express as px\n",
    "import plotly.graph_objects as go\n",
    "from plotly.offline import download_plotlyjs, init_notebook_mode, plot, iplot\n",
    "\n"
   ]
  },
  {
   "cell_type": "code",
   "execution_count": 80,
   "metadata": {},
   "outputs": [
    {
     "name": "stdout",
     "output_type": "stream",
     "text": [
      "Requirement already satisfied: xgboost in c:\\program files (x86)\\anaconda_python\\lib\\site-packages (1.4.2)\n",
      "Requirement already satisfied: numpy in c:\\program files (x86)\\anaconda_python\\lib\\site-packages (from xgboost) (1.16.2)\n",
      "Requirement already satisfied: scipy in c:\\program files (x86)\\anaconda_python\\lib\\site-packages (from xgboost) (1.2.1)\n"
     ]
    }
   ],
   "source": [
    "!pip install xgboost"
   ]
  },
  {
   "cell_type": "code",
   "execution_count": 81,
   "metadata": {},
   "outputs": [],
   "source": [
    "import warnings\n",
    "warnings.filterwarnings(\"ignore\")"
   ]
  },
  {
   "cell_type": "code",
   "execution_count": 84,
   "metadata": {},
   "outputs": [],
   "source": [
    "maindf = pd.read_csv('HR-Employee-Attrition.csv')"
   ]
  },
  {
   "cell_type": "code",
   "execution_count": 86,
   "metadata": {},
   "outputs": [
    {
     "data": {
      "text/html": [
       "<div>\n",
       "<style scoped>\n",
       "    .dataframe tbody tr th:only-of-type {\n",
       "        vertical-align: middle;\n",
       "    }\n",
       "\n",
       "    .dataframe tbody tr th {\n",
       "        vertical-align: top;\n",
       "    }\n",
       "\n",
       "    .dataframe thead th {\n",
       "        text-align: right;\n",
       "    }\n",
       "</style>\n",
       "<table border=\"1\" class=\"dataframe\">\n",
       "  <thead>\n",
       "    <tr style=\"text-align: right;\">\n",
       "      <th></th>\n",
       "      <th>Age</th>\n",
       "      <th>Attrition</th>\n",
       "      <th>BusinessTravel</th>\n",
       "      <th>DailyRate</th>\n",
       "      <th>Department</th>\n",
       "      <th>DistanceFromHome</th>\n",
       "      <th>Education</th>\n",
       "      <th>EducationField</th>\n",
       "      <th>EmployeeCount</th>\n",
       "      <th>EmployeeNumber</th>\n",
       "      <th>EnvironmentSatisfaction</th>\n",
       "      <th>Gender</th>\n",
       "      <th>HourlyRate</th>\n",
       "      <th>JobInvolvement</th>\n",
       "      <th>JobLevel</th>\n",
       "      <th>JobRole</th>\n",
       "      <th>JobSatisfaction</th>\n",
       "      <th>MaritalStatus</th>\n",
       "      <th>MonthlyIncome</th>\n",
       "      <th>MonthlyRate</th>\n",
       "      <th>NumCompaniesWorked</th>\n",
       "      <th>Over18</th>\n",
       "      <th>OverTime</th>\n",
       "      <th>PercentSalaryHike</th>\n",
       "      <th>PerformanceRating</th>\n",
       "      <th>RelationshipSatisfaction</th>\n",
       "      <th>StandardHours</th>\n",
       "      <th>StockOptionLevel</th>\n",
       "      <th>TotalWorkingYears</th>\n",
       "      <th>TrainingTimesLastYear</th>\n",
       "      <th>WorkLifeBalance</th>\n",
       "      <th>YearsAtCompany</th>\n",
       "      <th>YearsInCurrentRole</th>\n",
       "      <th>YearsSinceLastPromotion</th>\n",
       "      <th>YearsWithCurrManager</th>\n",
       "    </tr>\n",
       "  </thead>\n",
       "  <tbody>\n",
       "    <tr>\n",
       "      <th>0</th>\n",
       "      <td>41</td>\n",
       "      <td>Yes</td>\n",
       "      <td>Travel_Rarely</td>\n",
       "      <td>1102</td>\n",
       "      <td>Sales</td>\n",
       "      <td>1</td>\n",
       "      <td>2</td>\n",
       "      <td>Life Sciences</td>\n",
       "      <td>1</td>\n",
       "      <td>1</td>\n",
       "      <td>2</td>\n",
       "      <td>Female</td>\n",
       "      <td>94</td>\n",
       "      <td>3</td>\n",
       "      <td>2</td>\n",
       "      <td>Sales Executive</td>\n",
       "      <td>4</td>\n",
       "      <td>Single</td>\n",
       "      <td>5993</td>\n",
       "      <td>19479</td>\n",
       "      <td>8</td>\n",
       "      <td>Y</td>\n",
       "      <td>Yes</td>\n",
       "      <td>11</td>\n",
       "      <td>3</td>\n",
       "      <td>1</td>\n",
       "      <td>80</td>\n",
       "      <td>0</td>\n",
       "      <td>8</td>\n",
       "      <td>0</td>\n",
       "      <td>1</td>\n",
       "      <td>6</td>\n",
       "      <td>4</td>\n",
       "      <td>0</td>\n",
       "      <td>5</td>\n",
       "    </tr>\n",
       "    <tr>\n",
       "      <th>1</th>\n",
       "      <td>49</td>\n",
       "      <td>No</td>\n",
       "      <td>Travel_Frequently</td>\n",
       "      <td>279</td>\n",
       "      <td>Research &amp; Development</td>\n",
       "      <td>8</td>\n",
       "      <td>1</td>\n",
       "      <td>Life Sciences</td>\n",
       "      <td>1</td>\n",
       "      <td>2</td>\n",
       "      <td>3</td>\n",
       "      <td>Male</td>\n",
       "      <td>61</td>\n",
       "      <td>2</td>\n",
       "      <td>2</td>\n",
       "      <td>Research Scientist</td>\n",
       "      <td>2</td>\n",
       "      <td>Married</td>\n",
       "      <td>5130</td>\n",
       "      <td>24907</td>\n",
       "      <td>1</td>\n",
       "      <td>Y</td>\n",
       "      <td>No</td>\n",
       "      <td>23</td>\n",
       "      <td>4</td>\n",
       "      <td>4</td>\n",
       "      <td>80</td>\n",
       "      <td>1</td>\n",
       "      <td>10</td>\n",
       "      <td>3</td>\n",
       "      <td>3</td>\n",
       "      <td>10</td>\n",
       "      <td>7</td>\n",
       "      <td>1</td>\n",
       "      <td>7</td>\n",
       "    </tr>\n",
       "    <tr>\n",
       "      <th>2</th>\n",
       "      <td>37</td>\n",
       "      <td>Yes</td>\n",
       "      <td>Travel_Rarely</td>\n",
       "      <td>1373</td>\n",
       "      <td>Research &amp; Development</td>\n",
       "      <td>2</td>\n",
       "      <td>2</td>\n",
       "      <td>Other</td>\n",
       "      <td>1</td>\n",
       "      <td>4</td>\n",
       "      <td>4</td>\n",
       "      <td>Male</td>\n",
       "      <td>92</td>\n",
       "      <td>2</td>\n",
       "      <td>1</td>\n",
       "      <td>Laboratory Technician</td>\n",
       "      <td>3</td>\n",
       "      <td>Single</td>\n",
       "      <td>2090</td>\n",
       "      <td>2396</td>\n",
       "      <td>6</td>\n",
       "      <td>Y</td>\n",
       "      <td>Yes</td>\n",
       "      <td>15</td>\n",
       "      <td>3</td>\n",
       "      <td>2</td>\n",
       "      <td>80</td>\n",
       "      <td>0</td>\n",
       "      <td>7</td>\n",
       "      <td>3</td>\n",
       "      <td>3</td>\n",
       "      <td>0</td>\n",
       "      <td>0</td>\n",
       "      <td>0</td>\n",
       "      <td>0</td>\n",
       "    </tr>\n",
       "    <tr>\n",
       "      <th>3</th>\n",
       "      <td>33</td>\n",
       "      <td>No</td>\n",
       "      <td>Travel_Frequently</td>\n",
       "      <td>1392</td>\n",
       "      <td>Research &amp; Development</td>\n",
       "      <td>3</td>\n",
       "      <td>4</td>\n",
       "      <td>Life Sciences</td>\n",
       "      <td>1</td>\n",
       "      <td>5</td>\n",
       "      <td>4</td>\n",
       "      <td>Female</td>\n",
       "      <td>56</td>\n",
       "      <td>3</td>\n",
       "      <td>1</td>\n",
       "      <td>Research Scientist</td>\n",
       "      <td>3</td>\n",
       "      <td>Married</td>\n",
       "      <td>2909</td>\n",
       "      <td>23159</td>\n",
       "      <td>1</td>\n",
       "      <td>Y</td>\n",
       "      <td>Yes</td>\n",
       "      <td>11</td>\n",
       "      <td>3</td>\n",
       "      <td>3</td>\n",
       "      <td>80</td>\n",
       "      <td>0</td>\n",
       "      <td>8</td>\n",
       "      <td>3</td>\n",
       "      <td>3</td>\n",
       "      <td>8</td>\n",
       "      <td>7</td>\n",
       "      <td>3</td>\n",
       "      <td>0</td>\n",
       "    </tr>\n",
       "    <tr>\n",
       "      <th>4</th>\n",
       "      <td>27</td>\n",
       "      <td>No</td>\n",
       "      <td>Travel_Rarely</td>\n",
       "      <td>591</td>\n",
       "      <td>Research &amp; Development</td>\n",
       "      <td>2</td>\n",
       "      <td>1</td>\n",
       "      <td>Medical</td>\n",
       "      <td>1</td>\n",
       "      <td>7</td>\n",
       "      <td>1</td>\n",
       "      <td>Male</td>\n",
       "      <td>40</td>\n",
       "      <td>3</td>\n",
       "      <td>1</td>\n",
       "      <td>Laboratory Technician</td>\n",
       "      <td>2</td>\n",
       "      <td>Married</td>\n",
       "      <td>3468</td>\n",
       "      <td>16632</td>\n",
       "      <td>9</td>\n",
       "      <td>Y</td>\n",
       "      <td>No</td>\n",
       "      <td>12</td>\n",
       "      <td>3</td>\n",
       "      <td>4</td>\n",
       "      <td>80</td>\n",
       "      <td>1</td>\n",
       "      <td>6</td>\n",
       "      <td>3</td>\n",
       "      <td>3</td>\n",
       "      <td>2</td>\n",
       "      <td>2</td>\n",
       "      <td>2</td>\n",
       "      <td>2</td>\n",
       "    </tr>\n",
       "  </tbody>\n",
       "</table>\n",
       "</div>"
      ],
      "text/plain": [
       "   Age Attrition     BusinessTravel  DailyRate              Department  \\\n",
       "0   41       Yes      Travel_Rarely       1102                   Sales   \n",
       "1   49        No  Travel_Frequently        279  Research & Development   \n",
       "2   37       Yes      Travel_Rarely       1373  Research & Development   \n",
       "3   33        No  Travel_Frequently       1392  Research & Development   \n",
       "4   27        No      Travel_Rarely        591  Research & Development   \n",
       "\n",
       "   DistanceFromHome  Education EducationField  EmployeeCount  EmployeeNumber  \\\n",
       "0                 1          2  Life Sciences              1               1   \n",
       "1                 8          1  Life Sciences              1               2   \n",
       "2                 2          2          Other              1               4   \n",
       "3                 3          4  Life Sciences              1               5   \n",
       "4                 2          1        Medical              1               7   \n",
       "\n",
       "   EnvironmentSatisfaction  Gender  HourlyRate  JobInvolvement  JobLevel  \\\n",
       "0                        2  Female          94               3         2   \n",
       "1                        3    Male          61               2         2   \n",
       "2                        4    Male          92               2         1   \n",
       "3                        4  Female          56               3         1   \n",
       "4                        1    Male          40               3         1   \n",
       "\n",
       "                 JobRole  JobSatisfaction MaritalStatus  MonthlyIncome  \\\n",
       "0        Sales Executive                4        Single           5993   \n",
       "1     Research Scientist                2       Married           5130   \n",
       "2  Laboratory Technician                3        Single           2090   \n",
       "3     Research Scientist                3       Married           2909   \n",
       "4  Laboratory Technician                2       Married           3468   \n",
       "\n",
       "   MonthlyRate  NumCompaniesWorked Over18 OverTime  PercentSalaryHike  \\\n",
       "0        19479                   8      Y      Yes                 11   \n",
       "1        24907                   1      Y       No                 23   \n",
       "2         2396                   6      Y      Yes                 15   \n",
       "3        23159                   1      Y      Yes                 11   \n",
       "4        16632                   9      Y       No                 12   \n",
       "\n",
       "   PerformanceRating  RelationshipSatisfaction  StandardHours  \\\n",
       "0                  3                         1             80   \n",
       "1                  4                         4             80   \n",
       "2                  3                         2             80   \n",
       "3                  3                         3             80   \n",
       "4                  3                         4             80   \n",
       "\n",
       "   StockOptionLevel  TotalWorkingYears  TrainingTimesLastYear  \\\n",
       "0                 0                  8                      0   \n",
       "1                 1                 10                      3   \n",
       "2                 0                  7                      3   \n",
       "3                 0                  8                      3   \n",
       "4                 1                  6                      3   \n",
       "\n",
       "   WorkLifeBalance  YearsAtCompany  YearsInCurrentRole  \\\n",
       "0                1               6                   4   \n",
       "1                3              10                   7   \n",
       "2                3               0                   0   \n",
       "3                3               8                   7   \n",
       "4                3               2                   2   \n",
       "\n",
       "   YearsSinceLastPromotion  YearsWithCurrManager  \n",
       "0                        0                     5  \n",
       "1                        1                     7  \n",
       "2                        0                     0  \n",
       "3                        3                     0  \n",
       "4                        2                     2  "
      ]
     },
     "execution_count": 86,
     "metadata": {},
     "output_type": "execute_result"
    }
   ],
   "source": [
    "maindf.head()\n"
   ]
  },
  {
   "cell_type": "code",
   "execution_count": 88,
   "metadata": {},
   "outputs": [
    {
     "data": {
      "text/plain": [
       "(1470, 35)"
      ]
     },
     "execution_count": 88,
     "metadata": {},
     "output_type": "execute_result"
    }
   ],
   "source": [
    "maindf.shape"
   ]
  },
  {
   "cell_type": "code",
   "execution_count": 89,
   "metadata": {},
   "outputs": [
    {
     "data": {
      "text/plain": [
       "int64     26\n",
       "object     9\n",
       "dtype: int64"
      ]
     },
     "execution_count": 89,
     "metadata": {},
     "output_type": "execute_result"
    }
   ],
   "source": [
    "#let's see what data types how many features we are having\n",
    "maindf.dtypes.value_counts()"
   ]
  },
  {
   "cell_type": "code",
   "execution_count": 90,
   "metadata": {},
   "outputs": [
    {
     "data": {
      "text/plain": [
       "No     1233\n",
       "Yes     237\n",
       "Name: Attrition, dtype: int64"
      ]
     },
     "execution_count": 90,
     "metadata": {},
     "output_type": "execute_result"
    }
   ],
   "source": [
    "maindf['Attrition'].value_counts()"
   ]
  },
  {
   "cell_type": "code",
   "execution_count": 93,
   "metadata": {},
   "outputs": [
    {
     "data": {
      "text/plain": [
       "0"
      ]
     },
     "execution_count": 93,
     "metadata": {},
     "output_type": "execute_result"
    }
   ],
   "source": [
    "# let's see the total Missing values in dataset\n",
    "maindf.isnull().sum().sum()"
   ]
  },
  {
   "cell_type": "code",
   "execution_count": null,
   "metadata": {},
   "outputs": [],
   "source": []
  },
  {
   "cell_type": "code",
   "execution_count": 100,
   "metadata": {},
   "outputs": [
    {
     "data": {
      "image/png": "[encoded data removed]",
      "text/plain": [
       "<Figure size 720x576 with 4 Axes>"
      ]
     },
     "metadata": {
      "needs_background": "light"
     },
     "output_type": "display_data"
    }
   ],
   "source": [
    "f, axes = plt.subplots(2, 2, figsize=(10, 8), \n",
    "                       sharex=False, sharey=False)\n",
    "\n",
    "# Defining our colormap scheme\n",
    "s = np.linspace(0, 5, 5)\n",
    "cmap = sns.cubehelix_palette(start=0.0, light=1, as_cmap=True)\n",
    "\n",
    "# Generate and plot\n",
    "x = maindf['Age'].values\n",
    "y = maindf['TotalWorkingYears'].values\n",
    "sns.kdeplot(x, y, cmap=cmap, shade=True, cut=5, ax=axes[0,0])\n",
    "axes[0,0].set( title = 'Age against Total working years')\n",
    "cmap = sns.cubehelix_palette(start=0.333333333333, light=1, as_cmap=True)\n",
    "\n",
    "# Generate and plot\n",
    "x = maindf['YearsAtCompany'].values\n",
    "y = maindf['JobSatisfaction'].values\n",
    "sns.kdeplot(x, y, cmap=cmap, shade=True,  ax=axes[0,1])\n",
    "axes[0,1].set( title = 'Daily Rate against distance')\n",
    "cmap = sns.cubehelix_palette(start=2.0, light=1, as_cmap=True)\n",
    "\n",
    "# Generate and plot\n",
    "x = maindf['RelationshipSatisfaction'].values\n",
    "y = maindf['YearsWithCurrManager'].values\n",
    "sns.kdeplot(x, y, cmap=cmap, shade=True,  ax=axes[1,0])\n",
    "axes[1,0].set( title = 'Relationship Satisfaction vs years with manager')\n",
    "cmap = sns.cubehelix_palette(start=2.666666666667, light=1, as_cmap=True)\n",
    "\n",
    "# Generate and plot\n",
    "x = maindf['WorkLifeBalance'].values\n",
    "y = maindf['JobSatisfaction'].values\n",
    "sns.kdeplot(x, y, cmap=cmap, shade=True,  ax=axes[1,1])\n",
    "axes[1,1].set( title = 'WorklifeBalance against Satisfaction')\n",
    "\n",
    "f.tight_layout()"
   ]
  },
  {
   "cell_type": "code",
   "execution_count": 101,
   "metadata": {},
   "outputs": [
    {
     "data": {
      "image/png": "[encoded data removed]",
      "text/plain": [
       "<Figure size 936x648 with 2 Axes>"
      ]
     },
     "metadata": {
      "needs_background": "light"
     },
     "output_type": "display_data"
    }
   ],
   "source": [
    "plt.figure(figsize=(13,9))\n",
    "sns.heatmap(maindf.corr(),vmax=0.8,linewidth=0.1,cmap='coolwarm')\n",
    "plt.show()"
   ]
  },
  {
   "cell_type": "code",
   "execution_count": 103,
   "metadata": {},
   "outputs": [
    {
     "name": "stdout",
     "output_type": "stream",
     "text": [
      "total categorical_features 9\n"
     ]
    }
   ],
   "source": [
    "categorical_features = maindf.select_dtypes(include=[np.object]).columns\n",
    "print(\"total categorical_features\",len(categorical_features))"
   ]
  },
  {
   "cell_type": "code",
   "execution_count": 104,
   "metadata": {},
   "outputs": [
    {
     "data": {
      "text/html": [
       "<div>\n",
       "<style scoped>\n",
       "    .dataframe tbody tr th:only-of-type {\n",
       "        vertical-align: middle;\n",
       "    }\n",
       "\n",
       "    .dataframe tbody tr th {\n",
       "        vertical-align: top;\n",
       "    }\n",
       "\n",
       "    .dataframe thead th {\n",
       "        text-align: right;\n",
       "    }\n",
       "</style>\n",
       "<table border=\"1\" class=\"dataframe\">\n",
       "  <thead>\n",
       "    <tr style=\"text-align: right;\">\n",
       "      <th></th>\n",
       "      <th>Attrition</th>\n",
       "      <th>BusinessTravel</th>\n",
       "      <th>Department</th>\n",
       "      <th>EducationField</th>\n",
       "      <th>Gender</th>\n",
       "      <th>JobRole</th>\n",
       "      <th>MaritalStatus</th>\n",
       "      <th>Over18</th>\n",
       "      <th>OverTime</th>\n",
       "    </tr>\n",
       "  </thead>\n",
       "  <tbody>\n",
       "    <tr>\n",
       "      <th>0</th>\n",
       "      <td>Yes</td>\n",
       "      <td>Travel_Rarely</td>\n",
       "      <td>Sales</td>\n",
       "      <td>Life Sciences</td>\n",
       "      <td>Female</td>\n",
       "      <td>Sales Executive</td>\n",
       "      <td>Single</td>\n",
       "      <td>Y</td>\n",
       "      <td>Yes</td>\n",
       "    </tr>\n",
       "    <tr>\n",
       "      <th>1</th>\n",
       "      <td>No</td>\n",
       "      <td>Travel_Frequently</td>\n",
       "      <td>Research &amp; Development</td>\n",
       "      <td>Life Sciences</td>\n",
       "      <td>Male</td>\n",
       "      <td>Research Scientist</td>\n",
       "      <td>Married</td>\n",
       "      <td>Y</td>\n",
       "      <td>No</td>\n",
       "    </tr>\n",
       "    <tr>\n",
       "      <th>2</th>\n",
       "      <td>Yes</td>\n",
       "      <td>Travel_Rarely</td>\n",
       "      <td>Research &amp; Development</td>\n",
       "      <td>Other</td>\n",
       "      <td>Male</td>\n",
       "      <td>Laboratory Technician</td>\n",
       "      <td>Single</td>\n",
       "      <td>Y</td>\n",
       "      <td>Yes</td>\n",
       "    </tr>\n",
       "    <tr>\n",
       "      <th>3</th>\n",
       "      <td>No</td>\n",
       "      <td>Travel_Frequently</td>\n",
       "      <td>Research &amp; Development</td>\n",
       "      <td>Life Sciences</td>\n",
       "      <td>Female</td>\n",
       "      <td>Research Scientist</td>\n",
       "      <td>Married</td>\n",
       "      <td>Y</td>\n",
       "      <td>Yes</td>\n",
       "    </tr>\n",
       "    <tr>\n",
       "      <th>4</th>\n",
       "      <td>No</td>\n",
       "      <td>Travel_Rarely</td>\n",
       "      <td>Research &amp; Development</td>\n",
       "      <td>Medical</td>\n",
       "      <td>Male</td>\n",
       "      <td>Laboratory Technician</td>\n",
       "      <td>Married</td>\n",
       "      <td>Y</td>\n",
       "      <td>No</td>\n",
       "    </tr>\n",
       "  </tbody>\n",
       "</table>\n",
       "</div>"
      ],
      "text/plain": [
       "  Attrition     BusinessTravel              Department EducationField  Gender  \\\n",
       "0       Yes      Travel_Rarely                   Sales  Life Sciences  Female   \n",
       "1        No  Travel_Frequently  Research & Development  Life Sciences    Male   \n",
       "2       Yes      Travel_Rarely  Research & Development          Other    Male   \n",
       "3        No  Travel_Frequently  Research & Development  Life Sciences  Female   \n",
       "4        No      Travel_Rarely  Research & Development        Medical    Male   \n",
       "\n",
       "                 JobRole MaritalStatus Over18 OverTime  \n",
       "0        Sales Executive        Single      Y      Yes  \n",
       "1     Research Scientist       Married      Y       No  \n",
       "2  Laboratory Technician        Single      Y      Yes  \n",
       "3     Research Scientist       Married      Y      Yes  \n",
       "4  Laboratory Technician       Married      Y       No  "
      ]
     },
     "execution_count": 104,
     "metadata": {},
     "output_type": "execute_result"
    }
   ],
   "source": [
    "maindf[categorical_features].head()"
   ]
  },
  {
   "cell_type": "code",
   "execution_count": 105,
   "metadata": {},
   "outputs": [
    {
     "data": {
      "text/plain": [
       "Travel_Rarely        1043\n",
       "Travel_Frequently     277\n",
       "Non-Travel            150\n",
       "Name: BusinessTravel, dtype: int64"
      ]
     },
     "execution_count": 105,
     "metadata": {},
     "output_type": "execute_result"
    }
   ],
   "source": [
    "# Business Travel\n",
    "maindf['BusinessTravel'].value_counts()\n"
   ]
  },
  {
   "cell_type": "code",
   "execution_count": 14,
   "metadata": {},
   "outputs": [
    {
     "data": {
      "image/png": "[encoded data removed]",
      "text/plain": [
       "<Figure size 576x360 with 1 Axes>"
      ]
     },
     "metadata": {
      "needs_background": "light"
     },
     "output_type": "display_data"
    }
   ],
   "source": [
    "plt.figure(figsize=(8,5))\n",
    "sns.countplot(x='BusinessTravel',hue='Attrition', data=empdf, palette='plasma')\n",
    "plt.title(\"Attrition wrt BusinessTravel\")\n",
    "plt.show()"
   ]
  },
  {
   "cell_type": "code",
   "execution_count": 106,
   "metadata": {},
   "outputs": [
    {
     "data": {
      "application/vnd.plotly.v1+json": {
       "config": {
        "plotlyServerURL": "https://plot.ly"
       },
       "data": [
        {
         "alignmentgroup": "True",
         "bingroup": "x",
         "hovertemplate": "Attrition=Yes<br>BusinessTravel=%{x}<br>count=%{y}<extra></extra>",
         "legendgroup": "Yes",
         "marker": {
          "color": "#636efa",
          "pattern": {
           "shape": ""
          }
         },
         "name": "Yes",
         "offsetgroup": "Yes",
         "orientation": "v",
         "showlegend": true,
         "type": "histogram",
         "x": [
          "Travel_Rarely",
          "Travel_Rarely",
          "Travel_Rarely",
          "Travel_Rarely",
          "Travel_Rarely",
          "Travel_Frequently",
          "Travel_Rarely",
          "Travel_Rarely",
          "Travel_Rarely",
          "Travel_Rarely",
          "Travel_Rarely",
          "Travel_Rarely",
          "Travel_Rarely",
          "Travel_Rarely",
          "Travel_Rarely",
          "Travel_Rarely",
          "Travel_Frequently",
          "Travel_Rarely",
          "Travel_Frequently",
          "Travel_Rarely",
          "Travel_Rarely",
          "Travel_Rarely",
          "Travel_Rarely",
          "Travel_Rarely",
          "Travel_Frequently",
          "Travel_Rarely",
          "Travel_Frequently",
          "Travel_Rarely",
          "Travel_Rarely",
          "Travel_Rarely",
          "Travel_Rarely",
          "Travel_Rarely",
          "Travel_Rarely",
          "Travel_Rarely",
          "Travel_Frequently",
          "Travel_Rarely",
          "Travel_Rarely",
          "Travel_Rarely",
          "Travel_Rarely",
          "Travel_Rarely",
          "Travel_Frequently",
          "Travel_Frequently",
          "Travel_Rarely",
          "Non-Travel",
          "Travel_Frequently",
          "Travel_Rarely",
          "Travel_Rarely",
          "Travel_Rarely",
          "Travel_Rarely",
          "Travel_Rarely",
          "Travel_Rarely",
          "Travel_Rarely",
          "Travel_Frequently",
          "Travel_Rarely",
          "Travel_Frequently",
          "Travel_Rarely",
          "Travel_Rarely",
          "Non-Travel",
          "Travel_Frequently",
          "Travel_Frequently",
          "Travel_Rarely",
          "Travel_Rarely",
          "Travel_Frequently",
          "Travel_Rarely",
          "Travel_Rarely",
          "Travel_Rarely",
          "Travel_Rarely",
          "Travel_Frequently",
          "Travel_Frequently",
          "Travel_Frequently",
          "Travel_Frequently",
          "Travel_Frequently",
          "Travel_Rarely",
          "Non-Travel",
          "Travel_Frequently",
          "Travel_Frequently",
          "Travel_Rarely",
          "Travel_Rarely",
          "Travel_Frequently",
          "Travel_Rarely",
          "Travel_Frequently",
          "Travel_Rarely",
          "Travel_Frequently",
          "Travel_Rarely",
          "Travel_Frequently",
          "Travel_Rarely",
          "Travel_Frequently",
          "Travel_Rarely",
          "Travel_Rarely",
          "Travel_Rarely",
          "Travel_Rarely",
          "Travel_Rarely",
          "Travel_Rarely",
          "Travel_Rarely",
          "Travel_Rarely",
          "Travel_Rarely",
          "Travel_Frequently",
          "Travel_Frequently",
          "Travel_Rarely",
          "Travel_Rarely",
          "Travel_Frequently",
          "Travel_Rarely",
          "Travel_Rarely",
          "Travel_Rarely",
          "Travel_Rarely",
          "Travel_Rarely",
          "Travel_Rarely",
          "Travel_Rarely",
          "Travel_Rarely",
          "Travel_Rarely",
          "Travel_Rarely",
          "Travel_Rarely",
          "Non-Travel",
          "Non-Travel",
          "Travel_Rarely",
          "Travel_Rarely",
          "Travel_Rarely",
          "Travel_Rarely",
          "Travel_Frequently",
          "Travel_Rarely",
          "Non-Travel",
          "Travel_Rarely",
          "Travel_Rarely",
          "Travel_Rarely",
          "Travel_Frequently",
          "Travel_Frequently",
          "Travel_Rarely",
          "Travel_Rarely",
          "Non-Travel",
          "Travel_Rarely",
          "Travel_Rarely",
          "Travel_Frequently",
          "Travel_Rarely",
          "Travel_Rarely",
          "Travel_Rarely",
          "Travel_Frequently",
          "Travel_Frequently",
          "Travel_Frequently",
          "Non-Travel",
          "Travel_Rarely",
          "Travel_Frequently",
          "Travel_Rarely",
          "Travel_Frequently",
          "Travel_Rarely",
          "Travel_Rarely",
          "Travel_Rarely",
          "Travel_Frequently",
          "Non-Travel",
          "Travel_Rarely",
          "Non-Travel",
          "Travel_Frequently",
          "Travel_Rarely",
          "Travel_Frequently",
          "Travel_Rarely",
          "Travel_Rarely",
          "Travel_Rarely",
          "Travel_Rarely",
          "Travel_Rarely",
          "Travel_Rarely",
          "Travel_Frequently",
          "Travel_Rarely",
          "Travel_Rarely",
          "Travel_Rarely",
          "Travel_Frequently",
          "Travel_Frequently",
          "Travel_Rarely",
          "Travel_Rarely",
          "Travel_Frequently",
          "Travel_Frequently",
          "Travel_Frequently",
          "Travel_Rarely",
          "Travel_Rarely",
          "Travel_Rarely",
          "Non-Travel",
          "Travel_Frequently",
          "Travel_Frequently",
          "Travel_Rarely",
          "Travel_Frequently",
          "Travel_Frequently",
          "Travel_Rarely",
          "Travel_Frequently",
          "Travel_Frequently",
          "Travel_Rarely",
          "Travel_Rarely",
          "Travel_Frequently",
          "Travel_Rarely",
          "Travel_Rarely",
          "Travel_Rarely",
          "Travel_Rarely",
          "Travel_Rarely",
          "Travel_Frequently",
          "Travel_Rarely",
          "Travel_Rarely",
          "Travel_Rarely",
          "Travel_Frequently",
          "Travel_Rarely",
          "Travel_Frequently",
          "Travel_Rarely",
          "Travel_Rarely",
          "Travel_Rarely",
          "Travel_Frequently",
          "Travel_Rarely",
          "Travel_Rarely",
          "Travel_Frequently",
          "Travel_Rarely",
          "Travel_Rarely",
          "Travel_Rarely",
          "Travel_Frequently",
          "Travel_Rarely",
          "Travel_Rarely",
          "Travel_Frequently",
          "Travel_Rarely",
          "Travel_Frequently",
          "Travel_Rarely",
          "Travel_Rarely",
          "Travel_Rarely",
          "Travel_Rarely",
          "Travel_Rarely",
          "Travel_Rarely",
          "Travel_Frequently",
          "Travel_Rarely",
          "Travel_Rarely",
          "Travel_Rarely",
          "Non-Travel",
          "Travel_Rarely",
          "Travel_Frequently",
          "Travel_Rarely",
          "Travel_Frequently",
          "Travel_Frequently",
          "Travel_Rarely",
          "Travel_Frequently",
          "Travel_Rarely",
          "Travel_Frequently",
          "Travel_Rarely",
          "Travel_Rarely",
          "Travel_Frequently",
          "Travel_Rarely"
         ],
         "xaxis": "x",
         "yaxis": "y"
        },
        {
         "alignmentgroup": "True",
         "bingroup": "x",
         "hovertemplate": "Attrition=No<br>BusinessTravel=%{x}<br>count=%{y}<extra></extra>",
         "legendgroup": "No",
         "marker": {
          "color": "#EF553B",
          "pattern": {
           "shape": ""
          }
         },
         "name": "No",
         "offsetgroup": "No",
         "orientation": "v",
         "showlegend": true,
         "type": "histogram",
         "x": [
          "Travel_Frequently",
          "Travel_Frequently",
          "Travel_Rarely",
          "Travel_Frequently",
          "Travel_Rarely",
          "Travel_Rarely",
          "Travel_Frequently",
          "Travel_Rarely",
          "Travel_Rarely",
          "Travel_Rarely",
          "Travel_Rarely",
          "Travel_Rarely",
          "Travel_Rarely",
          "Travel_Rarely",
          "Non-Travel",
          "Travel_Rarely",
          "Travel_Rarely",
          "Non-Travel",
          "Travel_Rarely",
          "Travel_Rarely",
          "Travel_Rarely",
          "Travel_Rarely",
          "Travel_Rarely",
          "Travel_Rarely",
          "Travel_Rarely",
          "Travel_Rarely",
          "Travel_Rarely",
          "Travel_Rarely",
          "Travel_Rarely",
          "Travel_Rarely",
          "Travel_Frequently",
          "Travel_Rarely",
          "Travel_Rarely",
          "Travel_Frequently",
          "Travel_Frequently",
          "Non-Travel",
          "Travel_Rarely",
          "Travel_Frequently",
          "Travel_Rarely",
          "Travel_Rarely",
          "Non-Travel",
          "Travel_Rarely",
          "Travel_Frequently",
          "Travel_Frequently",
          "Travel_Rarely",
          "Travel_Rarely",
          "Travel_Rarely",
          "Travel_Rarely",
          "Travel_Frequently",
          "Travel_Rarely",
          "Travel_Rarely",
          "Travel_Rarely",
          "Travel_Rarely",
          "Travel_Frequently",
          "Travel_Rarely",
          "Travel_Frequently",
          "Travel_Frequently",
          "Travel_Rarely",
          "Travel_Rarely",
          "Travel_Rarely",
          "Travel_Rarely",
          "Travel_Rarely",
          "Travel_Rarely",
          "Travel_Rarely",
          "Travel_Rarely",
          "Travel_Rarely",
          "Travel_Rarely",
          "Travel_Rarely",
          "Travel_Rarely",
          "Non-Travel",
          "Travel_Rarely",
          "Travel_Rarely",
          "Travel_Rarely",
          "Travel_Rarely",
          "Travel_Rarely",
          "Travel_Frequently",
          "Travel_Rarely",
          "Travel_Rarely",
          "Travel_Frequently",
          "Travel_Rarely",
          "Travel_Rarely",
          "Travel_Rarely",
          "Non-Travel",
          "Travel_Rarely",
          "Non-Travel",
          "Travel_Rarely",
          "Travel_Rarely",
          "Non-Travel",
          "Non-Travel",
          "Travel_Frequently",
          "Travel_Rarely",
          "Travel_Rarely",
          "Travel_Frequently",
          "Non-Travel",
          "Travel_Rarely",
          "Travel_Rarely",
          "Travel_Rarely",
          "Travel_Rarely",
          "Travel_Frequently",
          "Travel_Rarely",
          "Travel_Frequently",
          "Travel_Frequently",
          "Non-Travel",
          "Travel_Rarely",
          "Travel_Rarely",
          "Travel_Rarely",
          "Travel_Rarely",
          "Travel_Frequently",
          "Travel_Frequently",
          "Travel_Rarely",
          "Travel_Rarely",
          "Travel_Rarely",
          "Travel_Rarely",
          "Travel_Rarely",
          "Travel_Rarely",
          "Travel_Rarely",
          "Travel_Rarely",
          "Travel_Rarely",
          "Travel_Frequently",
          "Travel_Rarely",
          "Travel_Rarely",
          "Travel_Frequently",
          "Travel_Rarely",
          "Travel_Rarely",
          "Travel_Frequently",
          "Travel_Rarely",
          "Travel_Rarely",
          "Travel_Rarely",
          "Travel_Frequently",
          "Non-Travel",
          "Travel_Rarely",
          "Travel_Rarely",
          "Travel_Rarely",
          "Travel_Frequently",
          "Travel_Rarely",
          "Non-Travel",
          "Travel_Rarely",
          "Travel_Rarely",
          "Non-Travel",
          "Travel_Rarely",
          "Travel_Rarely",
          "Travel_Rarely",
          "Travel_Rarely",
          "Travel_Rarely",
          "Travel_Rarely",
          "Travel_Frequently",
          "Non-Travel",
          "Travel_Rarely",
          "Travel_Rarely",
          "Travel_Rarely",
          "Travel_Rarely",
          "Travel_Rarely",
          "Travel_Rarely",
          "Travel_Rarely",
          "Travel_Rarely",
          "Travel_Rarely",
          "Travel_Rarely",
          "Travel_Rarely",
          "Travel_Rarely",
          "Travel_Frequently",
          "Travel_Rarely",
          "Travel_Rarely",
          "Travel_Rarely",
          "Non-Travel",
          "Non-Travel",
          "Travel_Rarely",
          "Travel_Frequently",
          "Non-Travel",
          "Travel_Rarely",
          "Travel_Rarely",
          "Travel_Frequently",
          "Non-Travel",
          "Travel_Frequently",
          "Travel_Rarely",
          "Travel_Rarely",
          "Travel_Frequently",
          "Non-Travel",
          "Travel_Rarely",
          "Non-Travel",
          "Travel_Frequently",
          "Travel_Rarely",
          "Travel_Rarely",
          "Non-Travel",
          "Travel_Rarely",
          "Travel_Rarely",
          "Travel_Rarely",
          "Travel_Frequently",
          "Travel_Rarely",
          "Non-Travel",
          "Travel_Rarely",
          "Travel_Frequently",
          "Travel_Frequently",
          "Travel_Frequently",
          "Travel_Rarely",
          "Travel_Rarely",
          "Travel_Rarely",
          "Travel_Rarely",
          "Travel_Rarely",
          "Non-Travel",
          "Travel_Rarely",
          "Travel_Rarely",
          "Non-Travel",
          "Travel_Rarely",
          "Travel_Rarely",
          "Travel_Rarely",
          "Travel_Frequently",
          "Travel_Rarely",
          "Travel_Rarely",
          "Travel_Rarely",
          "Travel_Frequently",
          "Travel_Frequently",
          "Travel_Rarely",
          "Travel_Rarely",
          "Travel_Rarely",
          "Travel_Rarely",
          "Travel_Rarely",
          "Travel_Rarely",
          "Travel_Rarely",
          "Travel_Frequently",
          "Non-Travel",
          "Travel_Rarely",
          "Travel_Rarely",
          "Travel_Rarely",
          "Travel_Rarely",
          "Non-Travel",
          "Travel_Rarely",
          "Travel_Rarely",
          "Travel_Rarely",
          "Travel_Rarely",
          "Travel_Rarely",
          "Travel_Rarely",
          "Non-Travel",
          "Travel_Rarely",
          "Travel_Rarely",
          "Travel_Frequently",
          "Travel_Rarely",
          "Travel_Rarely",
          "Travel_Rarely",
          "Travel_Frequently",
          "Travel_Rarely",
          "Travel_Frequently",
          "Travel_Rarely",
          "Travel_Rarely",
          "Travel_Rarely",
          "Travel_Frequently",
          "Travel_Rarely",
          "Travel_Frequently",
          "Travel_Frequently",
          "Travel_Frequently",
          "Travel_Rarely",
          "Travel_Frequently",
          "Travel_Rarely",
          "Travel_Rarely",
          "Travel_Rarely",
          "Travel_Rarely",
          "Travel_Rarely",
          "Travel_Rarely",
          "Non-Travel",
          "Travel_Rarely",
          "Travel_Rarely",
          "Non-Travel",
          "Travel_Rarely",
          "Travel_Rarely",
          "Travel_Frequently",
          "Travel_Rarely",
          "Travel_Frequently",
          "Travel_Rarely",
          "Travel_Frequently",
          "Travel_Rarely",
          "Travel_Rarely",
          "Travel_Rarely",
          "Travel_Rarely",
          "Travel_Rarely",
          "Travel_Rarely",
          "Travel_Rarely",
          "Travel_Frequently",
          "Travel_Frequently",
          "Travel_Frequently",
          "Travel_Rarely",
          "Travel_Frequently",
          "Non-Travel",
          "Travel_Frequently",
          "Travel_Rarely",
          "Travel_Rarely",
          "Travel_Rarely",
          "Travel_Rarely",
          "Travel_Rarely",
          "Travel_Rarely",
          "Travel_Rarely",
          "Travel_Rarely",
          "Travel_Rarely",
          "Travel_Rarely",
          "Travel_Rarely",
          "Travel_Rarely",
          "Travel_Rarely",
          "Travel_Frequently",
          "Travel_Rarely",
          "Non-Travel",
          "Travel_Rarely",
          "Travel_Rarely",
          "Travel_Rarely",
          "Travel_Rarely",
          "Non-Travel",
          "Travel_Rarely",
          "Travel_Rarely",
          "Non-Travel",
          "Travel_Frequently",
          "Travel_Rarely",
          "Travel_Rarely",
          "Non-Travel",
          "Travel_Rarely",
          "Non-Travel",
          "Travel_Rarely",
          "Travel_Rarely",
          "Travel_Rarely",
          "Travel_Rarely",
          "Travel_Rarely",
          "Travel_Rarely",
          "Travel_Rarely",
          "Travel_Rarely",
          "Travel_Rarely",
          "Travel_Rarely",
          "Travel_Rarely",
          "Travel_Rarely",
          "Travel_Rarely",
          "Travel_Rarely",
          "Travel_Rarely",
          "Travel_Rarely",
          "Travel_Rarely",
          "Travel_Rarely",
          "Travel_Rarely",
          "Travel_Rarely",
          "Travel_Rarely",
          "Non-Travel",
          "Travel_Rarely",
          "Travel_Frequently",
          "Travel_Rarely",
          "Travel_Rarely",
          "Non-Travel",
          "Travel_Rarely",
          "Travel_Frequently",
          "Travel_Frequently",
          "Travel_Rarely",
          "Travel_Rarely",
          "Travel_Rarely",
          "Travel_Rarely",
          "Travel_Rarely",
          "Travel_Rarely",
          "Travel_Frequently",
          "Travel_Rarely",
          "Travel_Rarely",
          "Travel_Rarely",
          "Travel_Frequently",
          "Travel_Frequently",
          "Travel_Rarely",
          "Travel_Rarely",
          "Non-Travel",
          "Travel_Rarely",
          "Non-Travel",
          "Travel_Rarely",
          "Travel_Rarely",
          "Non-Travel",
          "Travel_Frequently",
          "Travel_Rarely",
          "Travel_Rarely",
          "Travel_Rarely",
          "Travel_Rarely",
          "Travel_Rarely",
          "Travel_Rarely",
          "Travel_Rarely",
          "Travel_Rarely",
          "Travel_Rarely",
          "Travel_Frequently",
          "Non-Travel",
          "Travel_Rarely",
          "Travel_Rarely",
          "Non-Travel",
          "Travel_Rarely",
          "Travel_Rarely",
          "Travel_Frequently",
          "Travel_Rarely",
          "Travel_Rarely",
          "Travel_Rarely",
          "Travel_Rarely",
          "Travel_Rarely",
          "Travel_Rarely",
          "Non-Travel",
          "Non-Travel",
          "Travel_Rarely",
          "Travel_Rarely",
          "Travel_Rarely",
          "Travel_Rarely",
          "Travel_Frequently",
          "Travel_Rarely",
          "Non-Travel",
          "Travel_Rarely",
          "Travel_Frequently",
          "Travel_Rarely",
          "Travel_Rarely",
          "Travel_Rarely",
          "Travel_Rarely",
          "Travel_Rarely",
          "Travel_Rarely",
          "Travel_Frequently",
          "Travel_Rarely",
          "Travel_Rarely",
          "Travel_Rarely",
          "Travel_Rarely",
          "Travel_Rarely",
          "Travel_Rarely",
          "Travel_Rarely",
          "Travel_Rarely",
          "Travel_Rarely",
          "Travel_Rarely",
          "Travel_Frequently",
          "Travel_Rarely",
          "Travel_Rarely",
          "Travel_Rarely",
          "Travel_Rarely",
          "Travel_Rarely",
          "Travel_Rarely",
          "Travel_Rarely",
          "Travel_Rarely",
          "Travel_Frequently",
          "Travel_Rarely",
          "Travel_Rarely",
          "Travel_Rarely",
          "Travel_Rarely",
          "Travel_Rarely",
          "Travel_Rarely",
          "Travel_Frequently",
          "Travel_Rarely",
          "Travel_Rarely",
          "Travel_Rarely",
          "Non-Travel",
          "Travel_Rarely",
          "Travel_Rarely",
          "Travel_Rarely",
          "Travel_Frequently",
          "Travel_Rarely",
          "Travel_Frequently",
          "Travel_Rarely",
          "Travel_Rarely",
          "Travel_Rarely",
          "Travel_Rarely",
          "Travel_Rarely",
          "Travel_Rarely",
          "Travel_Rarely",
          "Travel_Rarely",
          "Travel_Rarely",
          "Travel_Frequently",
          "Travel_Rarely",
          "Travel_Rarely",
          "Travel_Rarely",
          "Travel_Frequently",
          "Travel_Rarely",
          "Travel_Rarely",
          "Non-Travel",
          "Travel_Rarely",
          "Non-Travel",
          "Travel_Frequently",
          "Travel_Rarely",
          "Travel_Rarely",
          "Travel_Frequently",
          "Travel_Rarely",
          "Travel_Rarely",
          "Travel_Rarely",
          "Travel_Rarely",
          "Travel_Rarely",
          "Travel_Rarely",
          "Travel_Rarely",
          "Travel_Rarely",
          "Non-Travel",
          "Travel_Frequently",
          "Travel_Rarely",
          "Travel_Rarely",
          "Travel_Rarely",
          "Travel_Rarely",
          "Travel_Rarely",
          "Travel_Rarely",
          "Travel_Rarely",
          "Non-Travel",
          "Non-Travel",
          "Travel_Frequently",
          "Travel_Rarely",
          "Travel_Rarely",
          "Travel_Rarely",
          "Travel_Frequently",
          "Travel_Rarely",
          "Travel_Frequently",
          "Travel_Rarely",
          "Travel_Rarely",
          "Travel_Rarely",
          "Travel_Frequently",
          "Travel_Rarely",
          "Travel_Frequently",
          "Non-Travel",
          "Travel_Rarely",
          "Travel_Rarely",
          "Travel_Rarely",
          "Travel_Rarely",
          "Travel_Rarely",
          "Travel_Rarely",
          "Travel_Rarely",
          "Travel_Rarely",
          "Travel_Rarely",
          "Travel_Rarely",
          "Travel_Frequently",
          "Travel_Rarely",
          "Travel_Rarely",
          "Travel_Rarely",
          "Travel_Frequently",
          "Travel_Frequently",
          "Travel_Rarely",
          "Travel_Rarely",
          "Travel_Rarely",
          "Travel_Rarely",
          "Travel_Rarely",
          "Non-Travel",
          "Travel_Rarely",
          "Travel_Rarely",
          "Travel_Rarely",
          "Travel_Rarely",
          "Travel_Rarely",
          "Travel_Rarely",
          "Travel_Rarely",
          "Travel_Frequently",
          "Travel_Rarely",
          "Travel_Rarely",
          "Travel_Rarely",
          "Travel_Frequently",
          "Travel_Rarely",
          "Travel_Rarely",
          "Travel_Rarely",
          "Travel_Rarely",
          "Travel_Frequently",
          "Travel_Rarely",
          "Travel_Rarely",
          "Travel_Rarely",
          "Non-Travel",
          "Travel_Rarely",
          "Travel_Rarely",
          "Non-Travel",
          "Travel_Frequently",
          "Travel_Rarely",
          "Travel_Rarely",
          "Travel_Rarely",
          "Travel_Rarely",
          "Travel_Rarely",
          "Travel_Frequently",
          "Travel_Rarely",
          "Travel_Frequently",
          "Travel_Rarely",
          "Non-Travel",
          "Non-Travel",
          "Travel_Rarely",
          "Travel_Rarely",
          "Travel_Rarely",
          "Travel_Rarely",
          "Travel_Rarely",
          "Travel_Rarely",
          "Travel_Rarely",
          "Travel_Rarely",
          "Travel_Rarely",
          "Travel_Rarely",
          "Travel_Rarely",
          "Travel_Rarely",
          "Travel_Rarely",
          "Travel_Rarely",
          "Travel_Rarely",
          "Travel_Rarely",
          "Travel_Rarely",
          "Travel_Rarely",
          "Non-Travel",
          "Travel_Rarely",
          "Travel_Rarely",
          "Non-Travel",
          "Travel_Rarely",
          "Travel_Frequently",
          "Travel_Rarely",
          "Travel_Rarely",
          "Travel_Rarely",
          "Travel_Frequently",
          "Travel_Rarely",
          "Travel_Rarely",
          "Non-Travel",
          "Travel_Frequently",
          "Travel_Rarely",
          "Travel_Rarely",
          "Travel_Rarely",
          "Travel_Rarely",
          "Non-Travel",
          "Travel_Rarely",
          "Travel_Rarely",
          "Travel_Frequently",
          "Non-Travel",
          "Non-Travel",
          "Travel_Rarely",
          "Travel_Rarely",
          "Travel_Rarely",
          "Travel_Frequently",
          "Travel_Frequently",
          "Travel_Rarely",
          "Non-Travel",
          "Travel_Rarely",
          "Travel_Rarely",
          "Travel_Frequently",
          "Travel_Rarely",
          "Travel_Rarely",
          "Travel_Frequently",
          "Non-Travel",
          "Travel_Rarely",
          "Travel_Rarely",
          "Travel_Rarely",
          "Travel_Rarely",
          "Travel_Rarely",
          "Travel_Rarely",
          "Travel_Rarely",
          "Travel_Rarely",
          "Travel_Rarely",
          "Travel_Rarely",
          "Travel_Rarely",
          "Travel_Rarely",
          "Travel_Rarely",
          "Travel_Rarely",
          "Travel_Frequently",
          "Non-Travel",
          "Travel_Rarely",
          "Travel_Rarely",
          "Non-Travel",
          "Travel_Frequently",
          "Non-Travel",
          "Travel_Rarely",
          "Non-Travel",
          "Travel_Rarely",
          "Travel_Rarely",
          "Travel_Rarely",
          "Travel_Frequently",
          "Travel_Rarely",
          "Travel_Rarely",
          "Travel_Frequently",
          "Travel_Rarely",
          "Travel_Rarely",
          "Travel_Rarely",
          "Travel_Frequently",
          "Travel_Rarely",
          "Travel_Rarely",
          "Travel_Frequently",
          "Travel_Rarely",
          "Non-Travel",
          "Travel_Rarely",
          "Travel_Rarely",
          "Travel_Rarely",
          "Travel_Rarely",
          "Travel_Rarely",
          "Travel_Rarely",
          "Travel_Rarely",
          "Non-Travel",
          "Travel_Frequently",
          "Travel_Rarely",
          "Travel_Rarely",
          "Travel_Rarely",
          "Travel_Frequently",
          "Travel_Rarely",
          "Travel_Rarely",
          "Travel_Frequently",
          "Non-Travel",
          "Non-Travel",
          "Non-Travel",
          "Travel_Rarely",
          "Travel_Rarely",
          "Travel_Rarely",
          "Travel_Rarely",
          "Travel_Rarely",
          "Travel_Rarely",
          "Travel_Frequently",
          "Travel_Rarely",
          "Travel_Rarely",
          "Non-Travel",
          "Non-Travel",
          "Travel_Frequently",
          "Travel_Rarely",
          "Travel_Frequently",
          "Travel_Rarely",
          "Travel_Frequently",
          "Travel_Frequently",
          "Travel_Rarely",
          "Travel_Rarely",
          "Travel_Rarely",
          "Travel_Frequently",
          "Travel_Rarely",
          "Travel_Rarely",
          "Travel_Rarely",
          "Travel_Rarely",
          "Travel_Rarely",
          "Travel_Frequently",
          "Travel_Rarely",
          "Travel_Rarely",
          "Travel_Rarely",
          "Travel_Rarely",
          "Travel_Rarely",
          "Travel_Frequently",
          "Travel_Rarely",
          "Travel_Frequently",
          "Travel_Frequently",
          "Non-Travel",
          "Travel_Rarely",
          "Travel_Rarely",
          "Travel_Rarely",
          "Travel_Rarely",
          "Travel_Rarely",
          "Travel_Rarely",
          "Travel_Rarely",
          "Travel_Rarely",
          "Travel_Rarely",
          "Non-Travel",
          "Travel_Rarely",
          "Travel_Rarely",
          "Travel_Frequently",
          "Travel_Frequently",
          "Travel_Rarely",
          "Travel_Rarely",
          "Travel_Rarely",
          "Travel_Frequently",
          "Travel_Rarely",
          "Travel_Rarely",
          "Travel_Rarely",
          "Travel_Rarely",
          "Travel_Rarely",
          "Non-Travel",
          "Travel_Rarely",
          "Travel_Frequently",
          "Travel_Frequently",
          "Travel_Rarely",
          "Travel_Rarely",
          "Travel_Rarely",
          "Travel_Rarely",
          "Travel_Rarely",
          "Travel_Frequently",
          "Non-Travel",
          "Travel_Rarely",
          "Travel_Frequently",
          "Travel_Rarely",
          "Travel_Rarely",
          "Travel_Rarely",
          "Travel_Rarely",
          "Travel_Rarely",
          "Travel_Rarely",
          "Travel_Rarely",
          "Travel_Rarely",
          "Travel_Frequently",
          "Travel_Rarely",
          "Travel_Rarely",
          "Travel_Rarely",
          "Travel_Rarely",
          "Travel_Rarely",
          "Travel_Rarely",
          "Travel_Rarely",
          "Travel_Rarely",
          "Travel_Rarely",
          "Travel_Rarely",
          "Travel_Rarely",
          "Non-Travel",
          "Travel_Rarely",
          "Travel_Rarely",
          "Travel_Frequently",
          "Travel_Rarely",
          "Travel_Frequently",
          "Travel_Frequently",
          "Travel_Rarely",
          "Travel_Frequently",
          "Travel_Rarely",
          "Travel_Rarely",
          "Travel_Rarely",
          "Travel_Rarely",
          "Travel_Frequently",
          "Travel_Frequently",
          "Non-Travel",
          "Travel_Rarely",
          "Travel_Rarely",
          "Travel_Rarely",
          "Travel_Frequently",
          "Travel_Rarely",
          "Travel_Rarely",
          "Travel_Rarely",
          "Travel_Rarely",
          "Travel_Rarely",
          "Non-Travel",
          "Travel_Rarely",
          "Travel_Rarely",
          "Travel_Rarely",
          "Non-Travel",
          "Non-Travel",
          "Non-Travel",
          "Travel_Rarely",
          "Travel_Rarely",
          "Non-Travel",
          "Travel_Rarely",
          "Travel_Rarely",
          "Travel_Frequently",
          "Travel_Frequently",
          "Travel_Rarely",
          "Travel_Rarely",
          "Travel_Rarely",
          "Travel_Rarely",
          "Travel_Rarely",
          "Travel_Frequently",
          "Travel_Rarely",
          "Travel_Rarely",
          "Travel_Rarely",
          "Non-Travel",
          "Travel_Rarely",
          "Travel_Frequently",
          "Travel_Rarely",
          "Non-Travel",
          "Travel_Rarely",
          "Travel_Rarely",
          "Travel_Frequently",
          "Travel_Rarely",
          "Travel_Rarely",
          "Travel_Rarely",
          "Travel_Frequently",
          "Travel_Frequently",
          "Travel_Rarely",
          "Travel_Frequently",
          "Travel_Rarely",
          "Non-Travel",
          "Travel_Rarely",
          "Travel_Frequently",
          "Travel_Rarely",
          "Travel_Rarely",
          "Travel_Rarely",
          "Travel_Rarely",
          "Travel_Rarely",
          "Travel_Rarely",
          "Travel_Frequently",
          "Travel_Rarely",
          "Travel_Rarely",
          "Travel_Rarely",
          "Travel_Rarely",
          "Travel_Rarely",
          "Travel_Rarely",
          "Travel_Rarely",
          "Travel_Rarely",
          "Travel_Rarely",
          "Travel_Frequently",
          "Travel_Rarely",
          "Travel_Rarely",
          "Travel_Rarely",
          "Travel_Rarely",
          "Non-Travel",
          "Travel_Rarely",
          "Travel_Rarely",
          "Travel_Rarely",
          "Travel_Rarely",
          "Travel_Rarely",
          "Travel_Rarely",
          "Non-Travel",
          "Travel_Rarely",
          "Travel_Rarely",
          "Travel_Rarely",
          "Travel_Rarely",
          "Travel_Rarely",
          "Non-Travel",
          "Travel_Rarely",
          "Non-Travel",
          "Travel_Rarely",
          "Travel_Rarely",
          "Travel_Rarely",
          "Travel_Rarely",
          "Travel_Frequently",
          "Travel_Rarely",
          "Travel_Rarely",
          "Travel_Frequently",
          "Travel_Frequently",
          "Non-Travel",
          "Travel_Rarely",
          "Travel_Rarely",
          "Travel_Frequently",
          "Travel_Rarely",
          "Non-Travel",
          "Travel_Frequently",
          "Travel_Rarely",
          "Travel_Rarely",
          "Travel_Rarely",
          "Travel_Rarely",
          "Travel_Rarely",
          "Travel_Rarely",
          "Travel_Frequently",
          "Travel_Rarely",
          "Travel_Frequently",
          "Travel_Rarely",
          "Travel_Rarely",
          "Travel_Rarely",
          "Travel_Frequently",
          "Travel_Rarely",
          "Travel_Rarely",
          "Travel_Rarely",
          "Travel_Rarely",
          "Travel_Rarely",
          "Travel_Rarely",
          "Travel_Frequently",
          "Travel_Rarely",
          "Travel_Rarely",
          "Travel_Rarely",
          "Travel_Rarely",
          "Travel_Rarely",
          "Travel_Rarely",
          "Travel_Frequently",
          "Travel_Rarely",
          "Travel_Rarely",
          "Travel_Rarely",
          "Travel_Rarely",
          "Non-Travel",
          "Travel_Rarely",
          "Travel_Rarely",
          "Travel_Rarely",
          "Travel_Rarely",
          "Travel_Rarely",
          "Travel_Rarely",
          "Travel_Rarely",
          "Travel_Frequently",
          "Travel_Rarely",
          "Travel_Rarely",
          "Non-Travel",
          "Travel_Rarely",
          "Travel_Rarely",
          "Travel_Rarely",
          "Travel_Rarely",
          "Travel_Rarely",
          "Travel_Rarely",
          "Travel_Rarely",
          "Travel_Rarely",
          "Travel_Rarely",
          "Travel_Rarely",
          "Travel_Rarely",
          "Travel_Frequently",
          "Travel_Rarely",
          "Travel_Rarely",
          "Travel_Frequently",
          "Travel_Rarely",
          "Travel_Rarely",
          "Travel_Frequently",
          "Travel_Rarely",
          "Travel_Rarely",
          "Travel_Rarely",
          "Travel_Rarely",
          "Non-Travel",
          "Travel_Frequently",
          "Travel_Rarely",
          "Travel_Rarely",
          "Travel_Rarely",
          "Travel_Rarely",
          "Non-Travel",
          "Travel_Frequently",
          "Travel_Rarely",
          "Travel_Frequently",
          "Travel_Rarely",
          "Travel_Rarely",
          "Travel_Rarely",
          "Travel_Rarely",
          "Travel_Rarely",
          "Travel_Rarely",
          "Travel_Rarely",
          "Travel_Rarely",
          "Travel_Rarely",
          "Non-Travel",
          "Travel_Rarely",
          "Travel_Frequently",
          "Travel_Rarely",
          "Travel_Rarely",
          "Travel_Rarely",
          "Travel_Rarely",
          "Travel_Frequently",
          "Travel_Frequently",
          "Travel_Frequently",
          "Travel_Rarely",
          "Travel_Frequently",
          "Travel_Rarely",
          "Travel_Rarely",
          "Travel_Frequently",
          "Travel_Rarely",
          "Travel_Rarely",
          "Travel_Rarely",
          "Travel_Rarely",
          "Travel_Rarely",
          "Travel_Rarely",
          "Travel_Rarely",
          "Non-Travel",
          "Travel_Rarely",
          "Travel_Rarely",
          "Travel_Rarely",
          "Travel_Frequently",
          "Travel_Rarely",
          "Travel_Rarely",
          "Travel_Rarely",
          "Travel_Rarely",
          "Travel_Rarely",
          "Travel_Frequently",
          "Travel_Rarely",
          "Travel_Rarely",
          "Travel_Rarely",
          "Travel_Rarely",
          "Non-Travel",
          "Travel_Rarely",
          "Travel_Rarely",
          "Travel_Rarely",
          "Travel_Rarely",
          "Non-Travel",
          "Travel_Rarely",
          "Travel_Rarely",
          "Travel_Rarely",
          "Travel_Rarely",
          "Travel_Frequently",
          "Travel_Rarely",
          "Travel_Rarely",
          "Travel_Frequently",
          "Travel_Rarely",
          "Travel_Rarely",
          "Travel_Rarely",
          "Travel_Rarely",
          "Travel_Rarely",
          "Non-Travel",
          "Travel_Rarely",
          "Travel_Rarely",
          "Travel_Frequently",
          "Travel_Rarely",
          "Non-Travel",
          "Travel_Rarely",
          "Travel_Rarely",
          "Travel_Rarely",
          "Travel_Rarely",
          "Travel_Rarely",
          "Non-Travel",
          "Travel_Rarely",
          "Travel_Rarely",
          "Travel_Frequently",
          "Non-Travel",
          "Travel_Rarely",
          "Travel_Rarely",
          "Travel_Rarely",
          "Travel_Frequently",
          "Travel_Frequently",
          "Travel_Rarely",
          "Travel_Rarely",
          "Travel_Frequently",
          "Travel_Rarely",
          "Travel_Rarely",
          "Non-Travel",
          "Travel_Rarely",
          "Travel_Frequently",
          "Travel_Rarely",
          "Travel_Rarely",
          "Non-Travel",
          "Travel_Rarely",
          "Travel_Rarely",
          "Travel_Rarely",
          "Non-Travel",
          "Travel_Rarely",
          "Non-Travel",
          "Non-Travel",
          "Travel_Rarely",
          "Travel_Rarely",
          "Travel_Rarely",
          "Travel_Rarely",
          "Travel_Rarely",
          "Travel_Rarely",
          "Travel_Rarely",
          "Travel_Rarely",
          "Travel_Rarely",
          "Travel_Rarely",
          "Travel_Rarely",
          "Travel_Rarely",
          "Non-Travel",
          "Travel_Rarely",
          "Travel_Rarely",
          "Non-Travel",
          "Non-Travel",
          "Travel_Frequently",
          "Non-Travel",
          "Travel_Rarely",
          "Travel_Rarely",
          "Travel_Rarely",
          "Travel_Rarely",
          "Travel_Rarely",
          "Non-Travel",
          "Travel_Rarely",
          "Travel_Rarely",
          "Travel_Rarely",
          "Travel_Rarely",
          "Travel_Frequently",
          "Travel_Rarely",
          "Travel_Rarely",
          "Travel_Rarely",
          "Travel_Frequently",
          "Non-Travel",
          "Non-Travel",
          "Travel_Rarely",
          "Travel_Frequently",
          "Travel_Frequently",
          "Travel_Frequently",
          "Travel_Frequently",
          "Non-Travel",
          "Travel_Rarely",
          "Travel_Rarely",
          "Non-Travel",
          "Travel_Rarely",
          "Travel_Rarely",
          "Travel_Rarely",
          "Travel_Rarely",
          "Travel_Rarely",
          "Travel_Rarely",
          "Travel_Rarely",
          "Travel_Frequently",
          "Travel_Rarely",
          "Travel_Rarely",
          "Travel_Rarely",
          "Travel_Rarely",
          "Travel_Rarely",
          "Travel_Rarely",
          "Travel_Rarely",
          "Travel_Rarely",
          "Travel_Rarely",
          "Travel_Rarely",
          "Travel_Frequently",
          "Travel_Rarely",
          "Travel_Rarely",
          "Travel_Rarely",
          "Travel_Frequently",
          "Travel_Rarely",
          "Travel_Rarely",
          "Travel_Rarely",
          "Travel_Rarely",
          "Travel_Rarely",
          "Travel_Rarely",
          "Travel_Rarely",
          "Travel_Frequently",
          "Travel_Frequently",
          "Travel_Rarely",
          "Travel_Frequently",
          "Non-Travel",
          "Travel_Rarely",
          "Travel_Frequently",
          "Non-Travel",
          "Travel_Rarely",
          "Travel_Rarely",
          "Travel_Frequently",
          "Travel_Rarely",
          "Travel_Rarely",
          "Travel_Frequently",
          "Travel_Rarely",
          "Travel_Rarely",
          "Non-Travel",
          "Non-Travel",
          "Non-Travel",
          "Travel_Rarely",
          "Travel_Rarely",
          "Travel_Rarely",
          "Travel_Rarely",
          "Non-Travel",
          "Travel_Frequently",
          "Travel_Rarely",
          "Travel_Rarely",
          "Travel_Rarely",
          "Travel_Rarely",
          "Travel_Rarely",
          "Travel_Frequently",
          "Travel_Rarely",
          "Travel_Frequently",
          "Travel_Rarely",
          "Travel_Rarely",
          "Travel_Rarely",
          "Non-Travel",
          "Non-Travel",
          "Travel_Rarely",
          "Travel_Rarely",
          "Travel_Rarely",
          "Travel_Frequently",
          "Travel_Rarely",
          "Travel_Rarely",
          "Travel_Rarely",
          "Travel_Rarely",
          "Travel_Rarely",
          "Non-Travel",
          "Travel_Rarely",
          "Travel_Rarely",
          "Travel_Frequently",
          "Travel_Rarely",
          "Travel_Rarely",
          "Non-Travel",
          "Travel_Rarely",
          "Travel_Rarely",
          "Travel_Rarely",
          "Travel_Rarely",
          "Travel_Rarely",
          "Travel_Rarely",
          "Travel_Rarely",
          "Travel_Rarely",
          "Travel_Rarely",
          "Travel_Rarely",
          "Travel_Rarely",
          "Travel_Rarely",
          "Non-Travel",
          "Travel_Rarely",
          "Travel_Rarely",
          "Non-Travel",
          "Travel_Rarely",
          "Travel_Frequently",
          "Non-Travel",
          "Travel_Rarely",
          "Travel_Rarely",
          "Travel_Rarely",
          "Non-Travel",
          "Travel_Rarely",
          "Travel_Rarely",
          "Travel_Rarely",
          "Travel_Rarely",
          "Travel_Rarely",
          "Travel_Rarely",
          "Travel_Rarely",
          "Travel_Frequently",
          "Travel_Rarely",
          "Travel_Rarely",
          "Travel_Rarely",
          "Travel_Rarely",
          "Travel_Rarely",
          "Non-Travel",
          "Travel_Rarely",
          "Travel_Frequently",
          "Travel_Rarely",
          "Travel_Rarely",
          "Travel_Frequently",
          "Travel_Rarely"
         ],
         "xaxis": "x",
         "yaxis": "y"
        }
       ],
       "layout": {
        "barmode": "group",
        "height": 390,
        "legend": {
         "title": {
          "text": "Attrition"
         },
         "tracegroupgap": 0
        },
        "margin": {
         "t": 60
        },
        "template": {
         "data": {
          "bar": [
           {
            "error_x": {
             "color": "#2a3f5f"
            },
            "error_y": {
             "color": "#2a3f5f"
            },
            "marker": {
             "line": {
              "color": "#E5ECF6",
              "width": 0.5
             },
             "pattern": {
              "fillmode": "overlay",
              "size": 10,
              "solidity": 0.2
             }
            },
            "type": "bar"
           }
          ],
          "barpolar": [
           {
            "marker": {
             "line": {
              "color": "#E5ECF6",
              "width": 0.5
             },
             "pattern": {
              "fillmode": "overlay",
              "size": 10,
              "solidity": 0.2
             }
            },
            "type": "barpolar"
           }
          ],
          "carpet": [
           {
            "aaxis": {
             "endlinecolor": "#2a3f5f",
             "gridcolor": "white",
             "linecolor": "white",
             "minorgridcolor": "white",
             "startlinecolor": "#2a3f5f"
            },
            "baxis": {
             "endlinecolor": "#2a3f5f",
             "gridcolor": "white",
             "linecolor": "white",
             "minorgridcolor": "white",
             "startlinecolor": "#2a3f5f"
            },
            "type": "carpet"
           }
          ],
          "choropleth": [
           {
            "colorbar": {
             "outlinewidth": 0,
             "ticks": ""
            },
            "type": "choropleth"
           }
          ],
          "contour": [
           {
            "colorbar": {
             "outlinewidth": 0,
             "ticks": ""
            },
            "colorscale": [
             [
              0,
              "#0d0887"
             ],
             [
              0.1111111111111111,
              "#46039f"
             ],
             [
              0.2222222222222222,
              "#7201a8"
             ],
             [
              0.3333333333333333,
              "#9c179e"
             ],
             [
              0.4444444444444444,
              "#bd3786"
             ],
             [
              0.5555555555555556,
              "#d8576b"
             ],
             [
              0.6666666666666666,
              "#ed7953"
             ],
             [
              0.7777777777777778,
              "#fb9f3a"
             ],
             [
              0.8888888888888888,
              "#fdca26"
             ],
             [
              1,
              "#f0f921"
             ]
            ],
            "type": "contour"
           }
          ],
          "contourcarpet": [
           {
            "colorbar": {
             "outlinewidth": 0,
             "ticks": ""
            },
            "type": "contourcarpet"
           }
          ],
          "heatmap": [
           {
            "colorbar": {
             "outlinewidth": 0,
             "ticks": ""
            },
            "colorscale": [
             [
              0,
              "#0d0887"
             ],
             [
              0.1111111111111111,
              "#46039f"
             ],
             [
              0.2222222222222222,
              "#7201a8"
             ],
             [
              0.3333333333333333,
              "#9c179e"
             ],
             [
              0.4444444444444444,
              "#bd3786"
             ],
             [
              0.5555555555555556,
              "#d8576b"
             ],
             [
              0.6666666666666666,
              "#ed7953"
             ],
             [
              0.7777777777777778,
              "#fb9f3a"
             ],
             [
              0.8888888888888888,
              "#fdca26"
             ],
             [
              1,
              "#f0f921"
             ]
            ],
            "type": "heatmap"
           }
          ],
          "heatmapgl": [
           {
            "colorbar": {
             "outlinewidth": 0,
             "ticks": ""
            },
            "colorscale": [
             [
              0,
              "#0d0887"
             ],
             [
              0.1111111111111111,
              "#46039f"
             ],
             [
              0.2222222222222222,
              "#7201a8"
             ],
             [
              0.3333333333333333,
              "#9c179e"
             ],
             [
              0.4444444444444444,
              "#bd3786"
             ],
             [
              0.5555555555555556,
              "#d8576b"
             ],
             [
              0.6666666666666666,
              "#ed7953"
             ],
             [
              0.7777777777777778,
              "#fb9f3a"
             ],
             [
              0.8888888888888888,
              "#fdca26"
             ],
             [
              1,
              "#f0f921"
             ]
            ],
            "type": "heatmapgl"
           }
          ],
          "histogram": [
           {
            "marker": {
             "pattern": {
              "fillmode": "overlay",
              "size": 10,
              "solidity": 0.2
             }
            },
            "type": "histogram"
           }
          ],
          "histogram2d": [
           {
            "colorbar": {
             "outlinewidth": 0,
             "ticks": ""
            },
            "colorscale": [
             [
              0,
              "#0d0887"
             ],
             [
              0.1111111111111111,
              "#46039f"
             ],
             [
              0.2222222222222222,
              "#7201a8"
             ],
             [
              0.3333333333333333,
              "#9c179e"
             ],
             [
              0.4444444444444444,
              "#bd3786"
             ],
             [
              0.5555555555555556,
              "#d8576b"
             ],
             [
              0.6666666666666666,
              "#ed7953"
             ],
             [
              0.7777777777777778,
              "#fb9f3a"
             ],
             [
              0.8888888888888888,
              "#fdca26"
             ],
             [
              1,
              "#f0f921"
             ]
            ],
            "type": "histogram2d"
           }
          ],
          "histogram2dcontour": [
           {
            "colorbar": {
             "outlinewidth": 0,
             "ticks": ""
            },
            "colorscale": [
             [
              0,
              "#0d0887"
             ],
             [
              0.1111111111111111,
              "#46039f"
             ],
             [
              0.2222222222222222,
              "#7201a8"
             ],
             [
              0.3333333333333333,
              "#9c179e"
             ],
             [
              0.4444444444444444,
              "#bd3786"
             ],
             [
              0.5555555555555556,
              "#d8576b"
             ],
             [
              0.6666666666666666,
              "#ed7953"
             ],
             [
              0.7777777777777778,
              "#fb9f3a"
             ],
             [
              0.8888888888888888,
              "#fdca26"
             ],
             [
              1,
              "#f0f921"
             ]
            ],
            "type": "histogram2dcontour"
           }
          ],
          "mesh3d": [
           {
            "colorbar": {
             "outlinewidth": 0,
             "ticks": ""
            },
            "type": "mesh3d"
           }
          ],
          "parcoords": [
           {
            "line": {
             "colorbar": {
              "outlinewidth": 0,
              "ticks": ""
             }
            },
            "type": "parcoords"
           }
          ],
          "pie": [
           {
            "automargin": true,
            "type": "pie"
           }
          ],
          "scatter": [
           {
            "marker": {
             "colorbar": {
              "outlinewidth": 0,
              "ticks": ""
             }
            },
            "type": "scatter"
           }
          ],
          "scatter3d": [
           {
            "line": {
             "colorbar": {
              "outlinewidth": 0,
              "ticks": ""
             }
            },
            "marker": {
             "colorbar": {
              "outlinewidth": 0,
              "ticks": ""
             }
            },
            "type": "scatter3d"
           }
          ],
          "scattercarpet": [
           {
            "marker": {
             "colorbar": {
              "outlinewidth": 0,
              "ticks": ""
             }
            },
            "type": "scattercarpet"
           }
          ],
          "scattergeo": [
           {
            "marker": {
             "colorbar": {
              "outlinewidth": 0,
              "ticks": ""
             }
            },
            "type": "scattergeo"
           }
          ],
          "scattergl": [
           {
            "marker": {
             "colorbar": {
              "outlinewidth": 0,
              "ticks": ""
             }
            },
            "type": "scattergl"
           }
          ],
          "scattermapbox": [
           {
            "marker": {
             "colorbar": {
              "outlinewidth": 0,
              "ticks": ""
             }
            },
            "type": "scattermapbox"
           }
          ],
          "scatterpolar": [
           {
            "marker": {
             "colorbar": {
              "outlinewidth": 0,
              "ticks": ""
             }
            },
            "type": "scatterpolar"
           }
          ],
          "scatterpolargl": [
           {
            "marker": {
             "colorbar": {
              "outlinewidth": 0,
              "ticks": ""
             }
            },
            "type": "scatterpolargl"
           }
          ],
          "scatterternary": [
           {
            "marker": {
             "colorbar": {
              "outlinewidth": 0,
              "ticks": ""
             }
            },
            "type": "scatterternary"
           }
          ],
          "surface": [
           {
            "colorbar": {
             "outlinewidth": 0,
             "ticks": ""
            },
            "colorscale": [
             [
              0,
              "#0d0887"
             ],
             [
              0.1111111111111111,
              "#46039f"
             ],
             [
              0.2222222222222222,
              "#7201a8"
             ],
             [
              0.3333333333333333,
              "#9c179e"
             ],
             [
              0.4444444444444444,
              "#bd3786"
             ],
             [
              0.5555555555555556,
              "#d8576b"
             ],
             [
              0.6666666666666666,
              "#ed7953"
             ],
             [
              0.7777777777777778,
              "#fb9f3a"
             ],
             [
              0.8888888888888888,
              "#fdca26"
             ],
             [
              1,
              "#f0f921"
             ]
            ],
            "type": "surface"
           }
          ],
          "table": [
           {
            "cells": {
             "fill": {
              "color": "#EBF0F8"
             },
             "line": {
              "color": "white"
             }
            },
            "header": {
             "fill": {
              "color": "#C8D4E3"
             },
             "line": {
              "color": "white"
             }
            },
            "type": "table"
           }
          ]
         },
         "layout": {
          "annotationdefaults": {
           "arrowcolor": "#2a3f5f",
           "arrowhead": 0,
           "arrowwidth": 1
          },
          "autotypenumbers": "strict",
          "coloraxis": {
           "colorbar": {
            "outlinewidth": 0,
            "ticks": ""
           }
          },
          "colorscale": {
           "diverging": [
            [
             0,
             "#8e0152"
            ],
            [
             0.1,
             "#c51b7d"
            ],
            [
             0.2,
             "#de77ae"
            ],
            [
             0.3,
             "#f1b6da"
            ],
            [
             0.4,
             "#fde0ef"
            ],
            [
             0.5,
             "#f7f7f7"
            ],
            [
             0.6,
             "#e6f5d0"
            ],
            [
             0.7,
             "#b8e186"
            ],
            [
             0.8,
             "#7fbc41"
            ],
            [
             0.9,
             "#4d9221"
            ],
            [
             1,
             "#276419"
            ]
           ],
           "sequential": [
            [
             0,
             "#0d0887"
            ],
            [
             0.1111111111111111,
             "#46039f"
            ],
            [
             0.2222222222222222,
             "#7201a8"
            ],
            [
             0.3333333333333333,
             "#9c179e"
            ],
            [
             0.4444444444444444,
             "#bd3786"
            ],
            [
             0.5555555555555556,
             "#d8576b"
            ],
            [
             0.6666666666666666,
             "#ed7953"
            ],
            [
             0.7777777777777778,
             "#fb9f3a"
            ],
            [
             0.8888888888888888,
             "#fdca26"
            ],
            [
             1,
             "#f0f921"
            ]
           ],
           "sequentialminus": [
            [
             0,
             "#0d0887"
            ],
            [
             0.1111111111111111,
             "#46039f"
            ],
            [
             0.2222222222222222,
             "#7201a8"
            ],
            [
             0.3333333333333333,
             "#9c179e"
            ],
            [
             0.4444444444444444,
             "#bd3786"
            ],
            [
             0.5555555555555556,
             "#d8576b"
            ],
            [
             0.6666666666666666,
             "#ed7953"
            ],
            [
             0.7777777777777778,
             "#fb9f3a"
            ],
            [
             0.8888888888888888,
             "#fdca26"
            ],
            [
             1,
             "#f0f921"
            ]
           ]
          },
          "colorway": [
           "#636efa",
           "#EF553B",
           "#00cc96",
           "#ab63fa",
           "#FFA15A",
           "#19d3f3",
           "#FF6692",
           "#B6E880",
           "#FF97FF",
           "#FECB52"
          ],
          "font": {
           "color": "#2a3f5f"
          },
          "geo": {
           "bgcolor": "white",
           "lakecolor": "white",
           "landcolor": "#E5ECF6",
           "showlakes": true,
           "showland": true,
           "subunitcolor": "white"
          },
          "hoverlabel": {
           "align": "left"
          },
          "hovermode": "closest",
          "mapbox": {
           "style": "light"
          },
          "paper_bgcolor": "white",
          "plot_bgcolor": "#E5ECF6",
          "polar": {
           "angularaxis": {
            "gridcolor": "white",
            "linecolor": "white",
            "ticks": ""
           },
           "bgcolor": "#E5ECF6",
           "radialaxis": {
            "gridcolor": "white",
            "linecolor": "white",
            "ticks": ""
           }
          },
          "scene": {
           "xaxis": {
            "backgroundcolor": "#E5ECF6",
            "gridcolor": "white",
            "gridwidth": 2,
            "linecolor": "white",
            "showbackground": true,
            "ticks": "",
            "zerolinecolor": "white"
           },
           "yaxis": {
            "backgroundcolor": "#E5ECF6",
            "gridcolor": "white",
            "gridwidth": 2,
            "linecolor": "white",
            "showbackground": true,
            "ticks": "",
            "zerolinecolor": "white"
           },
           "zaxis": {
            "backgroundcolor": "#E5ECF6",
            "gridcolor": "white",
            "gridwidth": 2,
            "linecolor": "white",
            "showbackground": true,
            "ticks": "",
            "zerolinecolor": "white"
           }
          },
          "shapedefaults": {
           "line": {
            "color": "#2a3f5f"
           }
          },
          "ternary": {
           "aaxis": {
            "gridcolor": "white",
            "linecolor": "white",
            "ticks": ""
           },
           "baxis": {
            "gridcolor": "white",
            "linecolor": "white",
            "ticks": ""
           },
           "bgcolor": "#E5ECF6",
           "caxis": {
            "gridcolor": "white",
            "linecolor": "white",
            "ticks": ""
           }
          },
          "title": {
           "x": 0.05
          },
          "xaxis": {
           "automargin": true,
           "gridcolor": "white",
           "linecolor": "white",
           "ticks": "",
           "title": {
            "standoff": 15
           },
           "zerolinecolor": "white",
           "zerolinewidth": 2
          },
          "yaxis": {
           "automargin": true,
           "gridcolor": "white",
           "linecolor": "white",
           "ticks": "",
           "title": {
            "standoff": 15
           },
           "zerolinecolor": "white",
           "zerolinewidth": 2
          }
         }
        },
        "width": 650,
        "xaxis": {
         "anchor": "y",
         "domain": [
          0,
          1
         ],
         "title": {
          "text": "BusinessTravel"
         }
        },
        "yaxis": {
         "anchor": "x",
         "domain": [
          0,
          1
         ],
         "title": {
          "text": "count"
         }
        }
       }
      },
      "text/html": [
       "<div>                            <div id=\"7304dc33-95ce-4a3e-b06e-c0344bf50737\" class=\"plotly-graph-div\" style=\"height:390px; width:650px;\"></div>            <script type=\"text/javascript\">                require([\"plotly\"], function(Plotly) {                    window.PLOTLYENV=window.PLOTLYENV || {};                                    if (document.getElementById(\"7304dc33-95ce-4a3e-b06e-c0344bf50737\")) {                    Plotly.newPlot(                        \"7304dc33-95ce-4a3e-b06e-c0344bf50737\",                        [{\"alignmentgroup\":\"True\",\"bingroup\":\"x\",\"hovertemplate\":\"Attrition=Yes<br>BusinessTravel=%{x}<br>count=%{y}<extra></extra>\",\"legendgroup\":\"Yes\",\"marker\":{\"color\":\"#636efa\",\"pattern\":{\"shape\":\"\"}},\"name\":\"Yes\",\"offsetgroup\":\"Yes\",\"orientation\":\"v\",\"showlegend\":true,\"type\":\"histogram\",\"x\":[\"Travel_Rarely\",\"Travel_Rarely\",\"Travel_Rarely\",\"Travel_Rarely\",\"Travel_Rarely\",\"Travel_Frequently\",\"Travel_Rarely\",\"Travel_Rarely\",\"Travel_Rarely\",\"Travel_Rarely\",\"Travel_Rarely\",\"Travel_Rarely\",\"Travel_Rarely\",\"Travel_Rarely\",\"Travel_Rarely\",\"Travel_Rarely\",\"Travel_Frequently\",\"Travel_Rarely\",\"Travel_Frequently\",\"Travel_Rarely\",\"Travel_Rarely\",\"Travel_Rarely\",\"Travel_Rarely\",\"Travel_Rarely\",\"Travel_Frequently\",\"Travel_Rarely\",\"Travel_Frequently\",\"Travel_Rarely\",\"Travel_Rarely\",\"Travel_Rarely\",\"Travel_Rarely\",\"Travel_Rarely\",\"Travel_Rarely\",\"Travel_Rarely\",\"Travel_Frequently\",\"Travel_Rarely\",\"Travel_Rarely\",\"Travel_Rarely\",\"Travel_Rarely\",\"Travel_Rarely\",\"Travel_Frequently\",\"Travel_Frequently\",\"Travel_Rarely\",\"Non-Travel\",\"Travel_Frequently\",\"Travel_Rarely\",\"Travel_Rarely\",\"Travel_Rarely\",\"Travel_Rarely\",\"Travel_Rarely\",\"Travel_Rarely\",\"Travel_Rarely\",\"Travel_Frequently\",\"Travel_Rarely\",\"Travel_Frequently\",\"Travel_Rarely\",\"Travel_Rarely\",\"Non-Travel\",\"Travel_Frequently\",\"Travel_Frequently\",\"Travel_Rarely\",\"Travel_Rarely\",\"Travel_Frequently\",\"Travel_Rarely\",\"Travel_Rarely\",\"Travel_Rarely\",\"Travel_Rarely\",\"Travel_Frequently\",\"Travel_Frequently\",\"Travel_Frequently\",\"Travel_Frequently\",\"Travel_Frequently\",\"Travel_Rarely\",\"Non-Travel\",\"Travel_Frequently\",\"Travel_Frequently\",\"Travel_Rarely\",\"Travel_Rarely\",\"Travel_Frequently\",\"Travel_Rarely\",\"Travel_Frequently\",\"Travel_Rarely\",\"Travel_Frequently\",\"Travel_Rarely\",\"Travel_Frequently\",\"Travel_Rarely\",\"Travel_Frequently\",\"Travel_Rarely\",\"Travel_Rarely\",\"Travel_Rarely\",\"Travel_Rarely\",\"Travel_Rarely\",\"Travel_Rarely\",\"Travel_Rarely\",\"Travel_Rarely\",\"Travel_Rarely\",\"Travel_Frequently\",\"Travel_Frequently\",\"Travel_Rarely\",\"Travel_Rarely\",\"Travel_Frequently\",\"Travel_Rarely\",\"Travel_Rarely\",\"Travel_Rarely\",\"Travel_Rarely\",\"Travel_Rarely\",\"Travel_Rarely\",\"Travel_Rarely\",\"Travel_Rarely\",\"Travel_Rarely\",\"Travel_Rarely\",\"Travel_Rarely\",\"Non-Travel\",\"Non-Travel\",\"Travel_Rarely\",\"Travel_Rarely\",\"Travel_Rarely\",\"Travel_Rarely\",\"Travel_Frequently\",\"Travel_Rarely\",\"Non-Travel\",\"Travel_Rarely\",\"Travel_Rarely\",\"Travel_Rarely\",\"Travel_Frequently\",\"Travel_Frequently\",\"Travel_Rarely\",\"Travel_Rarely\",\"Non-Travel\",\"Travel_Rarely\",\"Travel_Rarely\",\"Travel_Frequently\",\"Travel_Rarely\",\"Travel_Rarely\",\"Travel_Rarely\",\"Travel_Frequently\",\"Travel_Frequently\",\"Travel_Frequently\",\"Non-Travel\",\"Travel_Rarely\",\"Travel_Frequently\",\"Travel_Rarely\",\"Travel_Frequently\",\"Travel_Rarely\",\"Travel_Rarely\",\"Travel_Rarely\",\"Travel_Frequently\",\"Non-Travel\",\"Travel_Rarely\",\"Non-Travel\",\"Travel_Frequently\",\"Travel_Rarely\",\"Travel_Frequently\",\"Travel_Rarely\",\"Travel_Rarely\",\"Travel_Rarely\",\"Travel_Rarely\",\"Travel_Rarely\",\"Travel_Rarely\",\"Travel_Frequently\",\"Travel_Rarely\",\"Travel_Rarely\",\"Travel_Rarely\",\"Travel_Frequently\",\"Travel_Frequently\",\"Travel_Rarely\",\"Travel_Rarely\",\"Travel_Frequently\",\"Travel_Frequently\",\"Travel_Frequently\",\"Travel_Rarely\",\"Travel_Rarely\",\"Travel_Rarely\",\"Non-Travel\",\"Travel_Frequently\",\"Travel_Frequently\",\"Travel_Rarely\",\"Travel_Frequently\",\"Travel_Frequently\",\"Travel_Rarely\",\"Travel_Frequently\",\"Travel_Frequently\",\"Travel_Rarely\",\"Travel_Rarely\",\"Travel_Frequently\",\"Travel_Rarely\",\"Travel_Rarely\",\"Travel_Rarely\",\"Travel_Rarely\",\"Travel_Rarely\",\"Travel_Frequently\",\"Travel_Rarely\",\"Travel_Rarely\",\"Travel_Rarely\",\"Travel_Frequently\",\"Travel_Rarely\",\"Travel_Frequently\",\"Travel_Rarely\",\"Travel_Rarely\",\"Travel_Rarely\",\"Travel_Frequently\",\"Travel_Rarely\",\"Travel_Rarely\",\"Travel_Frequently\",\"Travel_Rarely\",\"Travel_Rarely\",\"Travel_Rarely\",\"Travel_Frequently\",\"Travel_Rarely\",\"Travel_Rarely\",\"Travel_Frequently\",\"Travel_Rarely\",\"Travel_Frequently\",\"Travel_Rarely\",\"Travel_Rarely\",\"Travel_Rarely\",\"Travel_Rarely\",\"Travel_Rarely\",\"Travel_Rarely\",\"Travel_Frequently\",\"Travel_Rarely\",\"Travel_Rarely\",\"Travel_Rarely\",\"Non-Travel\",\"Travel_Rarely\",\"Travel_Frequently\",\"Travel_Rarely\",\"Travel_Frequently\",\"Travel_Frequently\",\"Travel_Rarely\",\"Travel_Frequently\",\"Travel_Rarely\",\"Travel_Frequently\",\"Travel_Rarely\",\"Travel_Rarely\",\"Travel_Frequently\",\"Travel_Rarely\"],\"xaxis\":\"x\",\"yaxis\":\"y\"},{\"alignmentgroup\":\"True\",\"bingroup\":\"x\",\"hovertemplate\":\"Attrition=No<br>BusinessTravel=%{x}<br>count=%{y}<extra></extra>\",\"legendgroup\":\"No\",\"marker\":{\"color\":\"#EF553B\",\"pattern\":{\"shape\":\"\"}},\"name\":\"No\",\"offsetgroup\":\"No\",\"orientation\":\"v\",\"showlegend\":true,\"type\":\"histogram\",\"x\":[\"Travel_Frequently\",\"Travel_Frequently\",\"Travel_Rarely\",\"Travel_Frequently\",\"Travel_Rarely\",\"Travel_Rarely\",\"Travel_Frequently\",\"Travel_Rarely\",\"Travel_Rarely\",\"Travel_Rarely\",\"Travel_Rarely\",\"Travel_Rarely\",\"Travel_Rarely\",\"Travel_Rarely\",\"Non-Travel\",\"Travel_Rarely\",\"Travel_Rarely\",\"Non-Travel\",\"Travel_Rarely\",\"Travel_Rarely\",\"Travel_Rarely\",\"Travel_Rarely\",\"Travel_Rarely\",\"Travel_Rarely\",\"Travel_Rarely\",\"Travel_Rarely\",\"Travel_Rarely\",\"Travel_Rarely\",\"Travel_Rarely\",\"Travel_Rarely\",\"Travel_Frequently\",\"Travel_Rarely\",\"Travel_Rarely\",\"Travel_Frequently\",\"Travel_Frequently\",\"Non-Travel\",\"Travel_Rarely\",\"Travel_Frequently\",\"Travel_Rarely\",\"Travel_Rarely\",\"Non-Travel\",\"Travel_Rarely\",\"Travel_Frequently\",\"Travel_Frequently\",\"Travel_Rarely\",\"Travel_Rarely\",\"Travel_Rarely\",\"Travel_Rarely\",\"Travel_Frequently\",\"Travel_Rarely\",\"Travel_Rarely\",\"Travel_Rarely\",\"Travel_Rarely\",\"Travel_Frequently\",\"Travel_Rarely\",\"Travel_Frequently\",\"Travel_Frequently\",\"Travel_Rarely\",\"Travel_Rarely\",\"Travel_Rarely\",\"Travel_Rarely\",\"Travel_Rarely\",\"Travel_Rarely\",\"Travel_Rarely\",\"Travel_Rarely\",\"Travel_Rarely\",\"Travel_Rarely\",\"Travel_Rarely\",\"Travel_Rarely\",\"Non-Travel\",\"Travel_Rarely\",\"Travel_Rarely\",\"Travel_Rarely\",\"Travel_Rarely\",\"Travel_Rarely\",\"Travel_Frequently\",\"Travel_Rarely\",\"Travel_Rarely\",\"Travel_Frequently\",\"Travel_Rarely\",\"Travel_Rarely\",\"Travel_Rarely\",\"Non-Travel\",\"Travel_Rarely\",\"Non-Travel\",\"Travel_Rarely\",\"Travel_Rarely\",\"Non-Travel\",\"Non-Travel\",\"Travel_Frequently\",\"Travel_Rarely\",\"Travel_Rarely\",\"Travel_Frequently\",\"Non-Travel\",\"Travel_Rarely\",\"Travel_Rarely\",\"Travel_Rarely\",\"Travel_Rarely\",\"Travel_Frequently\",\"Travel_Rarely\",\"Travel_Frequently\",\"Travel_Frequently\",\"Non-Travel\",\"Travel_Rarely\",\"Travel_Rarely\",\"Travel_Rarely\",\"Travel_Rarely\",\"Travel_Frequently\",\"Travel_Frequently\",\"Travel_Rarely\",\"Travel_Rarely\",\"Travel_Rarely\",\"Travel_Rarely\",\"Travel_Rarely\",\"Travel_Rarely\",\"Travel_Rarely\",\"Travel_Rarely\",\"Travel_Rarely\",\"Travel_Frequently\",\"Travel_Rarely\",\"Travel_Rarely\",\"Travel_Frequently\",\"Travel_Rarely\",\"Travel_Rarely\",\"Travel_Frequently\",\"Travel_Rarely\",\"Travel_Rarely\",\"Travel_Rarely\",\"Travel_Frequently\",\"Non-Travel\",\"Travel_Rarely\",\"Travel_Rarely\",\"Travel_Rarely\",\"Travel_Frequently\",\"Travel_Rarely\",\"Non-Travel\",\"Travel_Rarely\",\"Travel_Rarely\",\"Non-Travel\",\"Travel_Rarely\",\"Travel_Rarely\",\"Travel_Rarely\",\"Travel_Rarely\",\"Travel_Rarely\",\"Travel_Rarely\",\"Travel_Frequently\",\"Non-Travel\",\"Travel_Rarely\",\"Travel_Rarely\",\"Travel_Rarely\",\"Travel_Rarely\",\"Travel_Rarely\",\"Travel_Rarely\",\"Travel_Rarely\",\"Travel_Rarely\",\"Travel_Rarely\",\"Travel_Rarely\",\"Travel_Rarely\",\"Travel_Rarely\",\"Travel_Frequently\",\"Travel_Rarely\",\"Travel_Rarely\",\"Travel_Rarely\",\"Non-Travel\",\"Non-Travel\",\"Travel_Rarely\",\"Travel_Frequently\",\"Non-Travel\",\"Travel_Rarely\",\"Travel_Rarely\",\"Travel_Frequently\",\"Non-Travel\",\"Travel_Frequently\",\"Travel_Rarely\",\"Travel_Rarely\",\"Travel_Frequently\",\"Non-Travel\",\"Travel_Rarely\",\"Non-Travel\",\"Travel_Frequently\",\"Travel_Rarely\",\"Travel_Rarely\",\"Non-Travel\",\"Travel_Rarely\",\"Travel_Rarely\",\"Travel_Rarely\",\"Travel_Frequently\",\"Travel_Rarely\",\"Non-Travel\",\"Travel_Rarely\",\"Travel_Frequently\",\"Travel_Frequently\",\"Travel_Frequently\",\"Travel_Rarely\",\"Travel_Rarely\",\"Travel_Rarely\",\"Travel_Rarely\",\"Travel_Rarely\",\"Non-Travel\",\"Travel_Rarely\",\"Travel_Rarely\",\"Non-Travel\",\"Travel_Rarely\",\"Travel_Rarely\",\"Travel_Rarely\",\"Travel_Frequently\",\"Travel_Rarely\",\"Travel_Rarely\",\"Travel_Rarely\",\"Travel_Frequently\",\"Travel_Frequently\",\"Travel_Rarely\",\"Travel_Rarely\",\"Travel_Rarely\",\"Travel_Rarely\",\"Travel_Rarely\",\"Travel_Rarely\",\"Travel_Rarely\",\"Travel_Frequently\",\"Non-Travel\",\"Travel_Rarely\",\"Travel_Rarely\",\"Travel_Rarely\",\"Travel_Rarely\",\"Non-Travel\",\"Travel_Rarely\",\"Travel_Rarely\",\"Travel_Rarely\",\"Travel_Rarely\",\"Travel_Rarely\",\"Travel_Rarely\",\"Non-Travel\",\"Travel_Rarely\",\"Travel_Rarely\",\"Travel_Frequently\",\"Travel_Rarely\",\"Travel_Rarely\",\"Travel_Rarely\",\"Travel_Frequently\",\"Travel_Rarely\",\"Travel_Frequently\",\"Travel_Rarely\",\"Travel_Rarely\",\"Travel_Rarely\",\"Travel_Frequently\",\"Travel_Rarely\",\"Travel_Frequently\",\"Travel_Frequently\",\"Travel_Frequently\",\"Travel_Rarely\",\"Travel_Frequently\",\"Travel_Rarely\",\"Travel_Rarely\",\"Travel_Rarely\",\"Travel_Rarely\",\"Travel_Rarely\",\"Travel_Rarely\",\"Non-Travel\",\"Travel_Rarely\",\"Travel_Rarely\",\"Non-Travel\",\"Travel_Rarely\",\"Travel_Rarely\",\"Travel_Frequently\",\"Travel_Rarely\",\"Travel_Frequently\",\"Travel_Rarely\",\"Travel_Frequently\",\"Travel_Rarely\",\"Travel_Rarely\",\"Travel_Rarely\",\"Travel_Rarely\",\"Travel_Rarely\",\"Travel_Rarely\",\"Travel_Rarely\",\"Travel_Frequently\",\"Travel_Frequently\",\"Travel_Frequently\",\"Travel_Rarely\",\"Travel_Frequently\",\"Non-Travel\",\"Travel_Frequently\",\"Travel_Rarely\",\"Travel_Rarely\",\"Travel_Rarely\",\"Travel_Rarely\",\"Travel_Rarely\",\"Travel_Rarely\",\"Travel_Rarely\",\"Travel_Rarely\",\"Travel_Rarely\",\"Travel_Rarely\",\"Travel_Rarely\",\"Travel_Rarely\",\"Travel_Rarely\",\"Travel_Frequently\",\"Travel_Rarely\",\"Non-Travel\",\"Travel_Rarely\",\"Travel_Rarely\",\"Travel_Rarely\",\"Travel_Rarely\",\"Non-Travel\",\"Travel_Rarely\",\"Travel_Rarely\",\"Non-Travel\",\"Travel_Frequently\",\"Travel_Rarely\",\"Travel_Rarely\",\"Non-Travel\",\"Travel_Rarely\",\"Non-Travel\",\"Travel_Rarely\",\"Travel_Rarely\",\"Travel_Rarely\",\"Travel_Rarely\",\"Travel_Rarely\",\"Travel_Rarely\",\"Travel_Rarely\",\"Travel_Rarely\",\"Travel_Rarely\",\"Travel_Rarely\",\"Travel_Rarely\",\"Travel_Rarely\",\"Travel_Rarely\",\"Travel_Rarely\",\"Travel_Rarely\",\"Travel_Rarely\",\"Travel_Rarely\",\"Travel_Rarely\",\"Travel_Rarely\",\"Travel_Rarely\",\"Travel_Rarely\",\"Non-Travel\",\"Travel_Rarely\",\"Travel_Frequently\",\"Travel_Rarely\",\"Travel_Rarely\",\"Non-Travel\",\"Travel_Rarely\",\"Travel_Frequently\",\"Travel_Frequently\",\"Travel_Rarely\",\"Travel_Rarely\",\"Travel_Rarely\",\"Travel_Rarely\",\"Travel_Rarely\",\"Travel_Rarely\",\"Travel_Frequently\",\"Travel_Rarely\",\"Travel_Rarely\",\"Travel_Rarely\",\"Travel_Frequently\",\"Travel_Frequently\",\"Travel_Rarely\",\"Travel_Rarely\",\"Non-Travel\",\"Travel_Rarely\",\"Non-Travel\",\"Travel_Rarely\",\"Travel_Rarely\",\"Non-Travel\",\"Travel_Frequently\",\"Travel_Rarely\",\"Travel_Rarely\",\"Travel_Rarely\",\"Travel_Rarely\",\"Travel_Rarely\",\"Travel_Rarely\",\"Travel_Rarely\",\"Travel_Rarely\",\"Travel_Rarely\",\"Travel_Frequently\",\"Non-Travel\",\"Travel_Rarely\",\"Travel_Rarely\",\"Non-Travel\",\"Travel_Rarely\",\"Travel_Rarely\",\"Travel_Frequently\",\"Travel_Rarely\",\"Travel_Rarely\",\"Travel_Rarely\",\"Travel_Rarely\",\"Travel_Rarely\",\"Travel_Rarely\",\"Non-Travel\",\"Non-Travel\",\"Travel_Rarely\",\"Travel_Rarely\",\"Travel_Rarely\",\"Travel_Rarely\",\"Travel_Frequently\",\"Travel_Rarely\",\"Non-Travel\",\"Travel_Rarely\",\"Travel_Frequently\",\"Travel_Rarely\",\"Travel_Rarely\",\"Travel_Rarely\",\"Travel_Rarely\",\"Travel_Rarely\",\"Travel_Rarely\",\"Travel_Frequently\",\"Travel_Rarely\",\"Travel_Rarely\",\"Travel_Rarely\",\"Travel_Rarely\",\"Travel_Rarely\",\"Travel_Rarely\",\"Travel_Rarely\",\"Travel_Rarely\",\"Travel_Rarely\",\"Travel_Rarely\",\"Travel_Frequently\",\"Travel_Rarely\",\"Travel_Rarely\",\"Travel_Rarely\",\"Travel_Rarely\",\"Travel_Rarely\",\"Travel_Rarely\",\"Travel_Rarely\",\"Travel_Rarely\",\"Travel_Frequently\",\"Travel_Rarely\",\"Travel_Rarely\",\"Travel_Rarely\",\"Travel_Rarely\",\"Travel_Rarely\",\"Travel_Rarely\",\"Travel_Frequently\",\"Travel_Rarely\",\"Travel_Rarely\",\"Travel_Rarely\",\"Non-Travel\",\"Travel_Rarely\",\"Travel_Rarely\",\"Travel_Rarely\",\"Travel_Frequently\",\"Travel_Rarely\",\"Travel_Frequently\",\"Travel_Rarely\",\"Travel_Rarely\",\"Travel_Rarely\",\"Travel_Rarely\",\"Travel_Rarely\",\"Travel_Rarely\",\"Travel_Rarely\",\"Travel_Rarely\",\"Travel_Rarely\",\"Travel_Frequently\",\"Travel_Rarely\",\"Travel_Rarely\",\"Travel_Rarely\",\"Travel_Frequently\",\"Travel_Rarely\",\"Travel_Rarely\",\"Non-Travel\",\"Travel_Rarely\",\"Non-Travel\",\"Travel_Frequently\",\"Travel_Rarely\",\"Travel_Rarely\",\"Travel_Frequently\",\"Travel_Rarely\",\"Travel_Rarely\",\"Travel_Rarely\",\"Travel_Rarely\",\"Travel_Rarely\",\"Travel_Rarely\",\"Travel_Rarely\",\"Travel_Rarely\",\"Non-Travel\",\"Travel_Frequently\",\"Travel_Rarely\",\"Travel_Rarely\",\"Travel_Rarely\",\"Travel_Rarely\",\"Travel_Rarely\",\"Travel_Rarely\",\"Travel_Rarely\",\"Non-Travel\",\"Non-Travel\",\"Travel_Frequently\",\"Travel_Rarely\",\"Travel_Rarely\",\"Travel_Rarely\",\"Travel_Frequently\",\"Travel_Rarely\",\"Travel_Frequently\",\"Travel_Rarely\",\"Travel_Rarely\",\"Travel_Rarely\",\"Travel_Frequently\",\"Travel_Rarely\",\"Travel_Frequently\",\"Non-Travel\",\"Travel_Rarely\",\"Travel_Rarely\",\"Travel_Rarely\",\"Travel_Rarely\",\"Travel_Rarely\",\"Travel_Rarely\",\"Travel_Rarely\",\"Travel_Rarely\",\"Travel_Rarely\",\"Travel_Rarely\",\"Travel_Frequently\",\"Travel_Rarely\",\"Travel_Rarely\",\"Travel_Rarely\",\"Travel_Frequently\",\"Travel_Frequently\",\"Travel_Rarely\",\"Travel_Rarely\",\"Travel_Rarely\",\"Travel_Rarely\",\"Travel_Rarely\",\"Non-Travel\",\"Travel_Rarely\",\"Travel_Rarely\",\"Travel_Rarely\",\"Travel_Rarely\",\"Travel_Rarely\",\"Travel_Rarely\",\"Travel_Rarely\",\"Travel_Frequently\",\"Travel_Rarely\",\"Travel_Rarely\",\"Travel_Rarely\",\"Travel_Frequently\",\"Travel_Rarely\",\"Travel_Rarely\",\"Travel_Rarely\",\"Travel_Rarely\",\"Travel_Frequently\",\"Travel_Rarely\",\"Travel_Rarely\",\"Travel_Rarely\",\"Non-Travel\",\"Travel_Rarely\",\"Travel_Rarely\",\"Non-Travel\",\"Travel_Frequently\",\"Travel_Rarely\",\"Travel_Rarely\",\"Travel_Rarely\",\"Travel_Rarely\",\"Travel_Rarely\",\"Travel_Frequently\",\"Travel_Rarely\",\"Travel_Frequently\",\"Travel_Rarely\",\"Non-Travel\",\"Non-Travel\",\"Travel_Rarely\",\"Travel_Rarely\",\"Travel_Rarely\",\"Travel_Rarely\",\"Travel_Rarely\",\"Travel_Rarely\",\"Travel_Rarely\",\"Travel_Rarely\",\"Travel_Rarely\",\"Travel_Rarely\",\"Travel_Rarely\",\"Travel_Rarely\",\"Travel_Rarely\",\"Travel_Rarely\",\"Travel_Rarely\",\"Travel_Rarely\",\"Travel_Rarely\",\"Travel_Rarely\",\"Non-Travel\",\"Travel_Rarely\",\"Travel_Rarely\",\"Non-Travel\",\"Travel_Rarely\",\"Travel_Frequently\",\"Travel_Rarely\",\"Travel_Rarely\",\"Travel_Rarely\",\"Travel_Frequently\",\"Travel_Rarely\",\"Travel_Rarely\",\"Non-Travel\",\"Travel_Frequently\",\"Travel_Rarely\",\"Travel_Rarely\",\"Travel_Rarely\",\"Travel_Rarely\",\"Non-Travel\",\"Travel_Rarely\",\"Travel_Rarely\",\"Travel_Frequently\",\"Non-Travel\",\"Non-Travel\",\"Travel_Rarely\",\"Travel_Rarely\",\"Travel_Rarely\",\"Travel_Frequently\",\"Travel_Frequently\",\"Travel_Rarely\",\"Non-Travel\",\"Travel_Rarely\",\"Travel_Rarely\",\"Travel_Frequently\",\"Travel_Rarely\",\"Travel_Rarely\",\"Travel_Frequently\",\"Non-Travel\",\"Travel_Rarely\",\"Travel_Rarely\",\"Travel_Rarely\",\"Travel_Rarely\",\"Travel_Rarely\",\"Travel_Rarely\",\"Travel_Rarely\",\"Travel_Rarely\",\"Travel_Rarely\",\"Travel_Rarely\",\"Travel_Rarely\",\"Travel_Rarely\",\"Travel_Rarely\",\"Travel_Rarely\",\"Travel_Frequently\",\"Non-Travel\",\"Travel_Rarely\",\"Travel_Rarely\",\"Non-Travel\",\"Travel_Frequently\",\"Non-Travel\",\"Travel_Rarely\",\"Non-Travel\",\"Travel_Rarely\",\"Travel_Rarely\",\"Travel_Rarely\",\"Travel_Frequently\",\"Travel_Rarely\",\"Travel_Rarely\",\"Travel_Frequently\",\"Travel_Rarely\",\"Travel_Rarely\",\"Travel_Rarely\",\"Travel_Frequently\",\"Travel_Rarely\",\"Travel_Rarely\",\"Travel_Frequently\",\"Travel_Rarely\",\"Non-Travel\",\"Travel_Rarely\",\"Travel_Rarely\",\"Travel_Rarely\",\"Travel_Rarely\",\"Travel_Rarely\",\"Travel_Rarely\",\"Travel_Rarely\",\"Non-Travel\",\"Travel_Frequently\",\"Travel_Rarely\",\"Travel_Rarely\",\"Travel_Rarely\",\"Travel_Frequently\",\"Travel_Rarely\",\"Travel_Rarely\",\"Travel_Frequently\",\"Non-Travel\",\"Non-Travel\",\"Non-Travel\",\"Travel_Rarely\",\"Travel_Rarely\",\"Travel_Rarely\",\"Travel_Rarely\",\"Travel_Rarely\",\"Travel_Rarely\",\"Travel_Frequently\",\"Travel_Rarely\",\"Travel_Rarely\",\"Non-Travel\",\"Non-Travel\",\"Travel_Frequently\",\"Travel_Rarely\",\"Travel_Frequently\",\"Travel_Rarely\",\"Travel_Frequently\",\"Travel_Frequently\",\"Travel_Rarely\",\"Travel_Rarely\",\"Travel_Rarely\",\"Travel_Frequently\",\"Travel_Rarely\",\"Travel_Rarely\",\"Travel_Rarely\",\"Travel_Rarely\",\"Travel_Rarely\",\"Travel_Frequently\",\"Travel_Rarely\",\"Travel_Rarely\",\"Travel_Rarely\",\"Travel_Rarely\",\"Travel_Rarely\",\"Travel_Frequently\",\"Travel_Rarely\",\"Travel_Frequently\",\"Travel_Frequently\",\"Non-Travel\",\"Travel_Rarely\",\"Travel_Rarely\",\"Travel_Rarely\",\"Travel_Rarely\",\"Travel_Rarely\",\"Travel_Rarely\",\"Travel_Rarely\",\"Travel_Rarely\",\"Travel_Rarely\",\"Non-Travel\",\"Travel_Rarely\",\"Travel_Rarely\",\"Travel_Frequently\",\"Travel_Frequently\",\"Travel_Rarely\",\"Travel_Rarely\",\"Travel_Rarely\",\"Travel_Frequently\",\"Travel_Rarely\",\"Travel_Rarely\",\"Travel_Rarely\",\"Travel_Rarely\",\"Travel_Rarely\",\"Non-Travel\",\"Travel_Rarely\",\"Travel_Frequently\",\"Travel_Frequently\",\"Travel_Rarely\",\"Travel_Rarely\",\"Travel_Rarely\",\"Travel_Rarely\",\"Travel_Rarely\",\"Travel_Frequently\",\"Non-Travel\",\"Travel_Rarely\",\"Travel_Frequently\",\"Travel_Rarely\",\"Travel_Rarely\",\"Travel_Rarely\",\"Travel_Rarely\",\"Travel_Rarely\",\"Travel_Rarely\",\"Travel_Rarely\",\"Travel_Rarely\",\"Travel_Frequently\",\"Travel_Rarely\",\"Travel_Rarely\",\"Travel_Rarely\",\"Travel_Rarely\",\"Travel_Rarely\",\"Travel_Rarely\",\"Travel_Rarely\",\"Travel_Rarely\",\"Travel_Rarely\",\"Travel_Rarely\",\"Travel_Rarely\",\"Non-Travel\",\"Travel_Rarely\",\"Travel_Rarely\",\"Travel_Frequently\",\"Travel_Rarely\",\"Travel_Frequently\",\"Travel_Frequently\",\"Travel_Rarely\",\"Travel_Frequently\",\"Travel_Rarely\",\"Travel_Rarely\",\"Travel_Rarely\",\"Travel_Rarely\",\"Travel_Frequently\",\"Travel_Frequently\",\"Non-Travel\",\"Travel_Rarely\",\"Travel_Rarely\",\"Travel_Rarely\",\"Travel_Frequently\",\"Travel_Rarely\",\"Travel_Rarely\",\"Travel_Rarely\",\"Travel_Rarely\",\"Travel_Rarely\",\"Non-Travel\",\"Travel_Rarely\",\"Travel_Rarely\",\"Travel_Rarely\",\"Non-Travel\",\"Non-Travel\",\"Non-Travel\",\"Travel_Rarely\",\"Travel_Rarely\",\"Non-Travel\",\"Travel_Rarely\",\"Travel_Rarely\",\"Travel_Frequently\",\"Travel_Frequently\",\"Travel_Rarely\",\"Travel_Rarely\",\"Travel_Rarely\",\"Travel_Rarely\",\"Travel_Rarely\",\"Travel_Frequently\",\"Travel_Rarely\",\"Travel_Rarely\",\"Travel_Rarely\",\"Non-Travel\",\"Travel_Rarely\",\"Travel_Frequently\",\"Travel_Rarely\",\"Non-Travel\",\"Travel_Rarely\",\"Travel_Rarely\",\"Travel_Frequently\",\"Travel_Rarely\",\"Travel_Rarely\",\"Travel_Rarely\",\"Travel_Frequently\",\"Travel_Frequently\",\"Travel_Rarely\",\"Travel_Frequently\",\"Travel_Rarely\",\"Non-Travel\",\"Travel_Rarely\",\"Travel_Frequently\",\"Travel_Rarely\",\"Travel_Rarely\",\"Travel_Rarely\",\"Travel_Rarely\",\"Travel_Rarely\",\"Travel_Rarely\",\"Travel_Frequently\",\"Travel_Rarely\",\"Travel_Rarely\",\"Travel_Rarely\",\"Travel_Rarely\",\"Travel_Rarely\",\"Travel_Rarely\",\"Travel_Rarely\",\"Travel_Rarely\",\"Travel_Rarely\",\"Travel_Frequently\",\"Travel_Rarely\",\"Travel_Rarely\",\"Travel_Rarely\",\"Travel_Rarely\",\"Non-Travel\",\"Travel_Rarely\",\"Travel_Rarely\",\"Travel_Rarely\",\"Travel_Rarely\",\"Travel_Rarely\",\"Travel_Rarely\",\"Non-Travel\",\"Travel_Rarely\",\"Travel_Rarely\",\"Travel_Rarely\",\"Travel_Rarely\",\"Travel_Rarely\",\"Non-Travel\",\"Travel_Rarely\",\"Non-Travel\",\"Travel_Rarely\",\"Travel_Rarely\",\"Travel_Rarely\",\"Travel_Rarely\",\"Travel_Frequently\",\"Travel_Rarely\",\"Travel_Rarely\",\"Travel_Frequently\",\"Travel_Frequently\",\"Non-Travel\",\"Travel_Rarely\",\"Travel_Rarely\",\"Travel_Frequently\",\"Travel_Rarely\",\"Non-Travel\",\"Travel_Frequently\",\"Travel_Rarely\",\"Travel_Rarely\",\"Travel_Rarely\",\"Travel_Rarely\",\"Travel_Rarely\",\"Travel_Rarely\",\"Travel_Frequently\",\"Travel_Rarely\",\"Travel_Frequently\",\"Travel_Rarely\",\"Travel_Rarely\",\"Travel_Rarely\",\"Travel_Frequently\",\"Travel_Rarely\",\"Travel_Rarely\",\"Travel_Rarely\",\"Travel_Rarely\",\"Travel_Rarely\",\"Travel_Rarely\",\"Travel_Frequently\",\"Travel_Rarely\",\"Travel_Rarely\",\"Travel_Rarely\",\"Travel_Rarely\",\"Travel_Rarely\",\"Travel_Rarely\",\"Travel_Frequently\",\"Travel_Rarely\",\"Travel_Rarely\",\"Travel_Rarely\",\"Travel_Rarely\",\"Non-Travel\",\"Travel_Rarely\",\"Travel_Rarely\",\"Travel_Rarely\",\"Travel_Rarely\",\"Travel_Rarely\",\"Travel_Rarely\",\"Travel_Rarely\",\"Travel_Frequently\",\"Travel_Rarely\",\"Travel_Rarely\",\"Non-Travel\",\"Travel_Rarely\",\"Travel_Rarely\",\"Travel_Rarely\",\"Travel_Rarely\",\"Travel_Rarely\",\"Travel_Rarely\",\"Travel_Rarely\",\"Travel_Rarely\",\"Travel_Rarely\",\"Travel_Rarely\",\"Travel_Rarely\",\"Travel_Frequently\",\"Travel_Rarely\",\"Travel_Rarely\",\"Travel_Frequently\",\"Travel_Rarely\",\"Travel_Rarely\",\"Travel_Frequently\",\"Travel_Rarely\",\"Travel_Rarely\",\"Travel_Rarely\",\"Travel_Rarely\",\"Non-Travel\",\"Travel_Frequently\",\"Travel_Rarely\",\"Travel_Rarely\",\"Travel_Rarely\",\"Travel_Rarely\",\"Non-Travel\",\"Travel_Frequently\",\"Travel_Rarely\",\"Travel_Frequently\",\"Travel_Rarely\",\"Travel_Rarely\",\"Travel_Rarely\",\"Travel_Rarely\",\"Travel_Rarely\",\"Travel_Rarely\",\"Travel_Rarely\",\"Travel_Rarely\",\"Travel_Rarely\",\"Non-Travel\",\"Travel_Rarely\",\"Travel_Frequently\",\"Travel_Rarely\",\"Travel_Rarely\",\"Travel_Rarely\",\"Travel_Rarely\",\"Travel_Frequently\",\"Travel_Frequently\",\"Travel_Frequently\",\"Travel_Rarely\",\"Travel_Frequently\",\"Travel_Rarely\",\"Travel_Rarely\",\"Travel_Frequently\",\"Travel_Rarely\",\"Travel_Rarely\",\"Travel_Rarely\",\"Travel_Rarely\",\"Travel_Rarely\",\"Travel_Rarely\",\"Travel_Rarely\",\"Non-Travel\",\"Travel_Rarely\",\"Travel_Rarely\",\"Travel_Rarely\",\"Travel_Frequently\",\"Travel_Rarely\",\"Travel_Rarely\",\"Travel_Rarely\",\"Travel_Rarely\",\"Travel_Rarely\",\"Travel_Frequently\",\"Travel_Rarely\",\"Travel_Rarely\",\"Travel_Rarely\",\"Travel_Rarely\",\"Non-Travel\",\"Travel_Rarely\",\"Travel_Rarely\",\"Travel_Rarely\",\"Travel_Rarely\",\"Non-Travel\",\"Travel_Rarely\",\"Travel_Rarely\",\"Travel_Rarely\",\"Travel_Rarely\",\"Travel_Frequently\",\"Travel_Rarely\",\"Travel_Rarely\",\"Travel_Frequently\",\"Travel_Rarely\",\"Travel_Rarely\",\"Travel_Rarely\",\"Travel_Rarely\",\"Travel_Rarely\",\"Non-Travel\",\"Travel_Rarely\",\"Travel_Rarely\",\"Travel_Frequently\",\"Travel_Rarely\",\"Non-Travel\",\"Travel_Rarely\",\"Travel_Rarely\",\"Travel_Rarely\",\"Travel_Rarely\",\"Travel_Rarely\",\"Non-Travel\",\"Travel_Rarely\",\"Travel_Rarely\",\"Travel_Frequently\",\"Non-Travel\",\"Travel_Rarely\",\"Travel_Rarely\",\"Travel_Rarely\",\"Travel_Frequently\",\"Travel_Frequently\",\"Travel_Rarely\",\"Travel_Rarely\",\"Travel_Frequently\",\"Travel_Rarely\",\"Travel_Rarely\",\"Non-Travel\",\"Travel_Rarely\",\"Travel_Frequently\",\"Travel_Rarely\",\"Travel_Rarely\",\"Non-Travel\",\"Travel_Rarely\",\"Travel_Rarely\",\"Travel_Rarely\",\"Non-Travel\",\"Travel_Rarely\",\"Non-Travel\",\"Non-Travel\",\"Travel_Rarely\",\"Travel_Rarely\",\"Travel_Rarely\",\"Travel_Rarely\",\"Travel_Rarely\",\"Travel_Rarely\",\"Travel_Rarely\",\"Travel_Rarely\",\"Travel_Rarely\",\"Travel_Rarely\",\"Travel_Rarely\",\"Travel_Rarely\",\"Non-Travel\",\"Travel_Rarely\",\"Travel_Rarely\",\"Non-Travel\",\"Non-Travel\",\"Travel_Frequently\",\"Non-Travel\",\"Travel_Rarely\",\"Travel_Rarely\",\"Travel_Rarely\",\"Travel_Rarely\",\"Travel_Rarely\",\"Non-Travel\",\"Travel_Rarely\",\"Travel_Rarely\",\"Travel_Rarely\",\"Travel_Rarely\",\"Travel_Frequently\",\"Travel_Rarely\",\"Travel_Rarely\",\"Travel_Rarely\",\"Travel_Frequently\",\"Non-Travel\",\"Non-Travel\",\"Travel_Rarely\",\"Travel_Frequently\",\"Travel_Frequently\",\"Travel_Frequently\",\"Travel_Frequently\",\"Non-Travel\",\"Travel_Rarely\",\"Travel_Rarely\",\"Non-Travel\",\"Travel_Rarely\",\"Travel_Rarely\",\"Travel_Rarely\",\"Travel_Rarely\",\"Travel_Rarely\",\"Travel_Rarely\",\"Travel_Rarely\",\"Travel_Frequently\",\"Travel_Rarely\",\"Travel_Rarely\",\"Travel_Rarely\",\"Travel_Rarely\",\"Travel_Rarely\",\"Travel_Rarely\",\"Travel_Rarely\",\"Travel_Rarely\",\"Travel_Rarely\",\"Travel_Rarely\",\"Travel_Frequently\",\"Travel_Rarely\",\"Travel_Rarely\",\"Travel_Rarely\",\"Travel_Frequently\",\"Travel_Rarely\",\"Travel_Rarely\",\"Travel_Rarely\",\"Travel_Rarely\",\"Travel_Rarely\",\"Travel_Rarely\",\"Travel_Rarely\",\"Travel_Frequently\",\"Travel_Frequently\",\"Travel_Rarely\",\"Travel_Frequently\",\"Non-Travel\",\"Travel_Rarely\",\"Travel_Frequently\",\"Non-Travel\",\"Travel_Rarely\",\"Travel_Rarely\",\"Travel_Frequently\",\"Travel_Rarely\",\"Travel_Rarely\",\"Travel_Frequently\",\"Travel_Rarely\",\"Travel_Rarely\",\"Non-Travel\",\"Non-Travel\",\"Non-Travel\",\"Travel_Rarely\",\"Travel_Rarely\",\"Travel_Rarely\",\"Travel_Rarely\",\"Non-Travel\",\"Travel_Frequently\",\"Travel_Rarely\",\"Travel_Rarely\",\"Travel_Rarely\",\"Travel_Rarely\",\"Travel_Rarely\",\"Travel_Frequently\",\"Travel_Rarely\",\"Travel_Frequently\",\"Travel_Rarely\",\"Travel_Rarely\",\"Travel_Rarely\",\"Non-Travel\",\"Non-Travel\",\"Travel_Rarely\",\"Travel_Rarely\",\"Travel_Rarely\",\"Travel_Frequently\",\"Travel_Rarely\",\"Travel_Rarely\",\"Travel_Rarely\",\"Travel_Rarely\",\"Travel_Rarely\",\"Non-Travel\",\"Travel_Rarely\",\"Travel_Rarely\",\"Travel_Frequently\",\"Travel_Rarely\",\"Travel_Rarely\",\"Non-Travel\",\"Travel_Rarely\",\"Travel_Rarely\",\"Travel_Rarely\",\"Travel_Rarely\",\"Travel_Rarely\",\"Travel_Rarely\",\"Travel_Rarely\",\"Travel_Rarely\",\"Travel_Rarely\",\"Travel_Rarely\",\"Travel_Rarely\",\"Travel_Rarely\",\"Non-Travel\",\"Travel_Rarely\",\"Travel_Rarely\",\"Non-Travel\",\"Travel_Rarely\",\"Travel_Frequently\",\"Non-Travel\",\"Travel_Rarely\",\"Travel_Rarely\",\"Travel_Rarely\",\"Non-Travel\",\"Travel_Rarely\",\"Travel_Rarely\",\"Travel_Rarely\",\"Travel_Rarely\",\"Travel_Rarely\",\"Travel_Rarely\",\"Travel_Rarely\",\"Travel_Frequently\",\"Travel_Rarely\",\"Travel_Rarely\",\"Travel_Rarely\",\"Travel_Rarely\",\"Travel_Rarely\",\"Non-Travel\",\"Travel_Rarely\",\"Travel_Frequently\",\"Travel_Rarely\",\"Travel_Rarely\",\"Travel_Frequently\",\"Travel_Rarely\"],\"xaxis\":\"x\",\"yaxis\":\"y\"}],                        {\"barmode\":\"group\",\"height\":390,\"legend\":{\"title\":{\"text\":\"Attrition\"},\"tracegroupgap\":0},\"margin\":{\"t\":60},\"template\":{\"data\":{\"bar\":[{\"error_x\":{\"color\":\"#2a3f5f\"},\"error_y\":{\"color\":\"#2a3f5f\"},\"marker\":{\"line\":{\"color\":\"#E5ECF6\",\"width\":0.5},\"pattern\":{\"fillmode\":\"overlay\",\"size\":10,\"solidity\":0.2}},\"type\":\"bar\"}],\"barpolar\":[{\"marker\":{\"line\":{\"color\":\"#E5ECF6\",\"width\":0.5},\"pattern\":{\"fillmode\":\"overlay\",\"size\":10,\"solidity\":0.2}},\"type\":\"barpolar\"}],\"carpet\":[{\"aaxis\":{\"endlinecolor\":\"#2a3f5f\",\"gridcolor\":\"white\",\"linecolor\":\"white\",\"minorgridcolor\":\"white\",\"startlinecolor\":\"#2a3f5f\"},\"baxis\":{\"endlinecolor\":\"#2a3f5f\",\"gridcolor\":\"white\",\"linecolor\":\"white\",\"minorgridcolor\":\"white\",\"startlinecolor\":\"#2a3f5f\"},\"type\":\"carpet\"}],\"choropleth\":[{\"colorbar\":{\"outlinewidth\":0,\"ticks\":\"\"},\"type\":\"choropleth\"}],\"contour\":[{\"colorbar\":{\"outlinewidth\":0,\"ticks\":\"\"},\"colorscale\":[[0.0,\"#0d0887\"],[0.1111111111111111,\"#46039f\"],[0.2222222222222222,\"#7201a8\"],[0.3333333333333333,\"#9c179e\"],[0.4444444444444444,\"#bd3786\"],[0.5555555555555556,\"#d8576b\"],[0.6666666666666666,\"#ed7953\"],[0.7777777777777778,\"#fb9f3a\"],[0.8888888888888888,\"#fdca26\"],[1.0,\"#f0f921\"]],\"type\":\"contour\"}],\"contourcarpet\":[{\"colorbar\":{\"outlinewidth\":0,\"ticks\":\"\"},\"type\":\"contourcarpet\"}],\"heatmap\":[{\"colorbar\":{\"outlinewidth\":0,\"ticks\":\"\"},\"colorscale\":[[0.0,\"#0d0887\"],[0.1111111111111111,\"#46039f\"],[0.2222222222222222,\"#7201a8\"],[0.3333333333333333,\"#9c179e\"],[0.4444444444444444,\"#bd3786\"],[0.5555555555555556,\"#d8576b\"],[0.6666666666666666,\"#ed7953\"],[0.7777777777777778,\"#fb9f3a\"],[0.8888888888888888,\"#fdca26\"],[1.0,\"#f0f921\"]],\"type\":\"heatmap\"}],\"heatmapgl\":[{\"colorbar\":{\"outlinewidth\":0,\"ticks\":\"\"},\"colorscale\":[[0.0,\"#0d0887\"],[0.1111111111111111,\"#46039f\"],[0.2222222222222222,\"#7201a8\"],[0.3333333333333333,\"#9c179e\"],[0.4444444444444444,\"#bd3786\"],[0.5555555555555556,\"#d8576b\"],[0.6666666666666666,\"#ed7953\"],[0.7777777777777778,\"#fb9f3a\"],[0.8888888888888888,\"#fdca26\"],[1.0,\"#f0f921\"]],\"type\":\"heatmapgl\"}],\"histogram\":[{\"marker\":{\"pattern\":{\"fillmode\":\"overlay\",\"size\":10,\"solidity\":0.2}},\"type\":\"histogram\"}],\"histogram2d\":[{\"colorbar\":{\"outlinewidth\":0,\"ticks\":\"\"},\"colorscale\":[[0.0,\"#0d0887\"],[0.1111111111111111,\"#46039f\"],[0.2222222222222222,\"#7201a8\"],[0.3333333333333333,\"#9c179e\"],[0.4444444444444444,\"#bd3786\"],[0.5555555555555556,\"#d8576b\"],[0.6666666666666666,\"#ed7953\"],[0.7777777777777778,\"#fb9f3a\"],[0.8888888888888888,\"#fdca26\"],[1.0,\"#f0f921\"]],\"type\":\"histogram2d\"}],\"histogram2dcontour\":[{\"colorbar\":{\"outlinewidth\":0,\"ticks\":\"\"},\"colorscale\":[[0.0,\"#0d0887\"],[0.1111111111111111,\"#46039f\"],[0.2222222222222222,\"#7201a8\"],[0.3333333333333333,\"#9c179e\"],[0.4444444444444444,\"#bd3786\"],[0.5555555555555556,\"#d8576b\"],[0.6666666666666666,\"#ed7953\"],[0.7777777777777778,\"#fb9f3a\"],[0.8888888888888888,\"#fdca26\"],[1.0,\"#f0f921\"]],\"type\":\"histogram2dcontour\"}],\"mesh3d\":[{\"colorbar\":{\"outlinewidth\":0,\"ticks\":\"\"},\"type\":\"mesh3d\"}],\"parcoords\":[{\"line\":{\"colorbar\":{\"outlinewidth\":0,\"ticks\":\"\"}},\"type\":\"parcoords\"}],\"pie\":[{\"automargin\":true,\"type\":\"pie\"}],\"scatter\":[{\"marker\":{\"colorbar\":{\"outlinewidth\":0,\"ticks\":\"\"}},\"type\":\"scatter\"}],\"scatter3d\":[{\"line\":{\"colorbar\":{\"outlinewidth\":0,\"ticks\":\"\"}},\"marker\":{\"colorbar\":{\"outlinewidth\":0,\"ticks\":\"\"}},\"type\":\"scatter3d\"}],\"scattercarpet\":[{\"marker\":{\"colorbar\":{\"outlinewidth\":0,\"ticks\":\"\"}},\"type\":\"scattercarpet\"}],\"scattergeo\":[{\"marker\":{\"colorbar\":{\"outlinewidth\":0,\"ticks\":\"\"}},\"type\":\"scattergeo\"}],\"scattergl\":[{\"marker\":{\"colorbar\":{\"outlinewidth\":0,\"ticks\":\"\"}},\"type\":\"scattergl\"}],\"scattermapbox\":[{\"marker\":{\"colorbar\":{\"outlinewidth\":0,\"ticks\":\"\"}},\"type\":\"scattermapbox\"}],\"scatterpolar\":[{\"marker\":{\"colorbar\":{\"outlinewidth\":0,\"ticks\":\"\"}},\"type\":\"scatterpolar\"}],\"scatterpolargl\":[{\"marker\":{\"colorbar\":{\"outlinewidth\":0,\"ticks\":\"\"}},\"type\":\"scatterpolargl\"}],\"scatterternary\":[{\"marker\":{\"colorbar\":{\"outlinewidth\":0,\"ticks\":\"\"}},\"type\":\"scatterternary\"}],\"surface\":[{\"colorbar\":{\"outlinewidth\":0,\"ticks\":\"\"},\"colorscale\":[[0.0,\"#0d0887\"],[0.1111111111111111,\"#46039f\"],[0.2222222222222222,\"#7201a8\"],[0.3333333333333333,\"#9c179e\"],[0.4444444444444444,\"#bd3786\"],[0.5555555555555556,\"#d8576b\"],[0.6666666666666666,\"#ed7953\"],[0.7777777777777778,\"#fb9f3a\"],[0.8888888888888888,\"#fdca26\"],[1.0,\"#f0f921\"]],\"type\":\"surface\"}],\"table\":[{\"cells\":{\"fill\":{\"color\":\"#EBF0F8\"},\"line\":{\"color\":\"white\"}},\"header\":{\"fill\":{\"color\":\"#C8D4E3\"},\"line\":{\"color\":\"white\"}},\"type\":\"table\"}]},\"layout\":{\"annotationdefaults\":{\"arrowcolor\":\"#2a3f5f\",\"arrowhead\":0,\"arrowwidth\":1},\"autotypenumbers\":\"strict\",\"coloraxis\":{\"colorbar\":{\"outlinewidth\":0,\"ticks\":\"\"}},\"colorscale\":{\"diverging\":[[0,\"#8e0152\"],[0.1,\"#c51b7d\"],[0.2,\"#de77ae\"],[0.3,\"#f1b6da\"],[0.4,\"#fde0ef\"],[0.5,\"#f7f7f7\"],[0.6,\"#e6f5d0\"],[0.7,\"#b8e186\"],[0.8,\"#7fbc41\"],[0.9,\"#4d9221\"],[1,\"#276419\"]],\"sequential\":[[0.0,\"#0d0887\"],[0.1111111111111111,\"#46039f\"],[0.2222222222222222,\"#7201a8\"],[0.3333333333333333,\"#9c179e\"],[0.4444444444444444,\"#bd3786\"],[0.5555555555555556,\"#d8576b\"],[0.6666666666666666,\"#ed7953\"],[0.7777777777777778,\"#fb9f3a\"],[0.8888888888888888,\"#fdca26\"],[1.0,\"#f0f921\"]],\"sequentialminus\":[[0.0,\"#0d0887\"],[0.1111111111111111,\"#46039f\"],[0.2222222222222222,\"#7201a8\"],[0.3333333333333333,\"#9c179e\"],[0.4444444444444444,\"#bd3786\"],[0.5555555555555556,\"#d8576b\"],[0.6666666666666666,\"#ed7953\"],[0.7777777777777778,\"#fb9f3a\"],[0.8888888888888888,\"#fdca26\"],[1.0,\"#f0f921\"]]},\"colorway\":[\"#636efa\",\"#EF553B\",\"#00cc96\",\"#ab63fa\",\"#FFA15A\",\"#19d3f3\",\"#FF6692\",\"#B6E880\",\"#FF97FF\",\"#FECB52\"],\"font\":{\"color\":\"#2a3f5f\"},\"geo\":{\"bgcolor\":\"white\",\"lakecolor\":\"white\",\"landcolor\":\"#E5ECF6\",\"showlakes\":true,\"showland\":true,\"subunitcolor\":\"white\"},\"hoverlabel\":{\"align\":\"left\"},\"hovermode\":\"closest\",\"mapbox\":{\"style\":\"light\"},\"paper_bgcolor\":\"white\",\"plot_bgcolor\":\"#E5ECF6\",\"polar\":{\"angularaxis\":{\"gridcolor\":\"white\",\"linecolor\":\"white\",\"ticks\":\"\"},\"bgcolor\":\"#E5ECF6\",\"radialaxis\":{\"gridcolor\":\"white\",\"linecolor\":\"white\",\"ticks\":\"\"}},\"scene\":{\"xaxis\":{\"backgroundcolor\":\"#E5ECF6\",\"gridcolor\":\"white\",\"gridwidth\":2,\"linecolor\":\"white\",\"showbackground\":true,\"ticks\":\"\",\"zerolinecolor\":\"white\"},\"yaxis\":{\"backgroundcolor\":\"#E5ECF6\",\"gridcolor\":\"white\",\"gridwidth\":2,\"linecolor\":\"white\",\"showbackground\":true,\"ticks\":\"\",\"zerolinecolor\":\"white\"},\"zaxis\":{\"backgroundcolor\":\"#E5ECF6\",\"gridcolor\":\"white\",\"gridwidth\":2,\"linecolor\":\"white\",\"showbackground\":true,\"ticks\":\"\",\"zerolinecolor\":\"white\"}},\"shapedefaults\":{\"line\":{\"color\":\"#2a3f5f\"}},\"ternary\":{\"aaxis\":{\"gridcolor\":\"white\",\"linecolor\":\"white\",\"ticks\":\"\"},\"baxis\":{\"gridcolor\":\"white\",\"linecolor\":\"white\",\"ticks\":\"\"},\"bgcolor\":\"#E5ECF6\",\"caxis\":{\"gridcolor\":\"white\",\"linecolor\":\"white\",\"ticks\":\"\"}},\"title\":{\"x\":0.05},\"xaxis\":{\"automargin\":true,\"gridcolor\":\"white\",\"linecolor\":\"white\",\"ticks\":\"\",\"title\":{\"standoff\":15},\"zerolinecolor\":\"white\",\"zerolinewidth\":2},\"yaxis\":{\"automargin\":true,\"gridcolor\":\"white\",\"linecolor\":\"white\",\"ticks\":\"\",\"title\":{\"standoff\":15},\"zerolinecolor\":\"white\",\"zerolinewidth\":2}}},\"width\":650,\"xaxis\":{\"anchor\":\"y\",\"domain\":[0.0,1.0],\"title\":{\"text\":\"BusinessTravel\"}},\"yaxis\":{\"anchor\":\"x\",\"domain\":[0.0,1.0],\"title\":{\"text\":\"count\"}}},                        {\"responsive\": true}                    ).then(function(){\n",
       "                            \n",
       "var gd = document.getElementById('7304dc33-95ce-4a3e-b06e-c0344bf50737');\n",
       "var x = new MutationObserver(function (mutations, observer) {{\n",
       "        var display = window.getComputedStyle(gd).display;\n",
       "        if (!display || display === 'none') {{\n",
       "            console.log([gd, 'removed!']);\n",
       "            Plotly.purge(gd);\n",
       "            observer.disconnect();\n",
       "        }}\n",
       "}});\n",
       "\n",
       "// Listen for the removal of the full notebook cells\n",
       "var notebookContainer = gd.closest('#notebook-container');\n",
       "if (notebookContainer) {{\n",
       "    x.observe(notebookContainer, {childList: true});\n",
       "}}\n",
       "\n",
       "// Listen for the clearing of the current output cell\n",
       "var outputEl = gd.closest('.output');\n",
       "if (outputEl) {{\n",
       "    x.observe(outputEl, {childList: true});\n",
       "}}\n",
       "\n",
       "                        })                };                });            </script>        </div>"
      ]
     },
     "metadata": {},
     "output_type": "display_data"
    }
   ],
   "source": [
    "# using plotly express.\n",
    "fig = px.histogram(maindf, x='BusinessTravel', color='Attrition', barmode=\"group\",\n",
    "            width=650,height=390)\n",
    "fig.show()"
   ]
  },
  {
   "cell_type": "code",
   "execution_count": 107,
   "metadata": {},
   "outputs": [
    {
     "data": {
      "text/plain": [
       "Research & Development    961\n",
       "Sales                     446\n",
       "Human Resources            63\n",
       "Name: Department, dtype: int64"
      ]
     },
     "execution_count": 107,
     "metadata": {},
     "output_type": "execute_result"
    }
   ],
   "source": [
    "#Department\n",
    "maindf['Department'].value_counts()"
   ]
  },
  {
   "cell_type": "code",
   "execution_count": 108,
   "metadata": {},
   "outputs": [
    {
     "data": {
      "image/png": "[encoded data removed]",
      "text/plain": [
       "<Figure size 576x360 with 1 Axes>"
      ]
     },
     "metadata": {
      "needs_background": "light"
     },
     "output_type": "display_data"
    }
   ],
   "source": [
    "# Department wrt Attrition\n",
    "plt.figure(figsize=(8,5))\n",
    "sns.countplot(x='Department',hue='Attrition', data=maindf, palette='rocket')\n",
    "plt.title(\"Attrition w.r.t Department\")\n",
    "plt.show()"
   ]
  },
  {
   "cell_type": "code",
   "execution_count": 109,
   "metadata": {},
   "outputs": [
    {
     "data": {
      "text/plain": [
       "Life Sciences       606\n",
       "Medical             464\n",
       "Marketing           159\n",
       "Technical Degree    132\n",
       "Other                82\n",
       "Human Resources      27\n",
       "Name: EducationField, dtype: int64"
      ]
     },
     "execution_count": 109,
     "metadata": {},
     "output_type": "execute_result"
    }
   ],
   "source": [
    "#EducationField\n",
    "maindf['EducationField'].value_counts()"
   ]
  },
  {
   "cell_type": "code",
   "execution_count": 110,
   "metadata": {},
   "outputs": [
    {
     "data": {
      "image/png": "[encoded data removed]",
      "text/plain": [
       "<Figure size 576x360 with 1 Axes>"
      ]
     },
     "metadata": {
      "needs_background": "light"
     },
     "output_type": "display_data"
    }
   ],
   "source": [
    "# Department wrt Attrition\n",
    "plt.figure(figsize=(8,5))\n",
    "sns.countplot(x='EducationField',hue='Attrition', data=maindf, palette='seismic')\n",
    "plt.title(\"Attrition w.r.t EducationField\")\n",
    "plt.xticks(rotation=45)\n",
    "plt.show()"
   ]
  },
  {
   "cell_type": "code",
   "execution_count": 111,
   "metadata": {},
   "outputs": [
    {
     "data": {
      "text/plain": [
       "Male      882\n",
       "Female    588\n",
       "Name: Gender, dtype: int64"
      ]
     },
     "execution_count": 111,
     "metadata": {},
     "output_type": "execute_result"
    }
   ],
   "source": [
    "#Gender\n",
    "maindf['Gender'].value_counts()"
   ]
  },
  {
   "cell_type": "code",
   "execution_count": 112,
   "metadata": {},
   "outputs": [
    {
     "data": {
      "image/png": "[encoded data removed]",
      "text/plain": [
       "<Figure size 504x360 with 1 Axes>"
      ]
     },
     "metadata": {
      "needs_background": "light"
     },
     "output_type": "display_data"
    }
   ],
   "source": [
    "# most male of female employes Attriate\n",
    "# Department wrt Attrition\n",
    "plt.figure(figsize=(7,5))\n",
    "sns.countplot(x='Gender',hue='Attrition', data=maindf, palette='plasma')\n",
    "plt.title(\"Gender w.r.t Attrition\")\n",
    "plt.legend(loc='best')\n",
    "plt.show()"
   ]
  },
  {
   "cell_type": "code",
   "execution_count": 113,
   "metadata": {},
   "outputs": [
    {
     "data": {
      "text/html": [
       "<div>\n",
       "<style scoped>\n",
       "    .dataframe tbody tr th:only-of-type {\n",
       "        vertical-align: middle;\n",
       "    }\n",
       "\n",
       "    .dataframe tbody tr th {\n",
       "        vertical-align: top;\n",
       "    }\n",
       "\n",
       "    .dataframe thead th {\n",
       "        text-align: right;\n",
       "    }\n",
       "</style>\n",
       "<table border=\"1\" class=\"dataframe\">\n",
       "  <thead>\n",
       "    <tr style=\"text-align: right;\">\n",
       "      <th>Gender</th>\n",
       "      <th>Female</th>\n",
       "      <th>Male</th>\n",
       "    </tr>\n",
       "    <tr>\n",
       "      <th>MaritalStatus</th>\n",
       "      <th></th>\n",
       "      <th></th>\n",
       "    </tr>\n",
       "  </thead>\n",
       "  <tbody>\n",
       "    <tr>\n",
       "      <th>Divorced</th>\n",
       "      <td>117</td>\n",
       "      <td>210</td>\n",
       "    </tr>\n",
       "    <tr>\n",
       "      <th>Married</th>\n",
       "      <td>272</td>\n",
       "      <td>401</td>\n",
       "    </tr>\n",
       "    <tr>\n",
       "      <th>Single</th>\n",
       "      <td>199</td>\n",
       "      <td>271</td>\n",
       "    </tr>\n",
       "  </tbody>\n",
       "</table>\n",
       "</div>"
      ],
      "text/plain": [
       "Gender         Female  Male\n",
       "MaritalStatus              \n",
       "Divorced          117   210\n",
       "Married           272   401\n",
       "Single            199   271"
      ]
     },
     "execution_count": 113,
     "metadata": {},
     "output_type": "execute_result"
    }
   ],
   "source": [
    "# let's also see, how any male and female are Married\n",
    "pd.crosstab(maindf['MaritalStatus'],empdf['Gender'])"
   ]
  },
  {
   "cell_type": "code",
   "execution_count": 114,
   "metadata": {},
   "outputs": [
    {
     "data": {
      "text/plain": [
       "9"
      ]
     },
     "execution_count": 114,
     "metadata": {},
     "output_type": "execute_result"
    }
   ],
   "source": [
    "#JobRole\n",
    "maindf['JobRole'].nunique()"
   ]
  },
  {
   "cell_type": "code",
   "execution_count": 115,
   "metadata": {},
   "outputs": [
    {
     "data": {
      "image/png": "[encoded data removed]",
      "text/plain": [
       "<Figure size 576x360 with 1 Axes>"
      ]
     },
     "metadata": {
      "needs_background": "light"
     },
     "output_type": "display_data"
    }
   ],
   "source": [
    "# let's see at which post most people are leaving the jobs\n",
    "# JobRole\n",
    "plt.figure(figsize=(8,5))\n",
    "sns.countplot(x='JobRole',hue='Attrition', data=maindf, palette='plasma')\n",
    "plt.title(\"JobRole w.r.t Attrition\")\n",
    "plt.legend(loc='best')\n",
    "plt.xticks(rotation=45)\n",
    "plt.show()"
   ]
  },
  {
   "cell_type": "code",
   "execution_count": 116,
   "metadata": {},
   "outputs": [
    {
     "data": {
      "text/plain": [
       "No     1054\n",
       "Yes     416\n",
       "Name: OverTime, dtype: int64"
      ]
     },
     "execution_count": 116,
     "metadata": {},
     "output_type": "execute_result"
    }
   ],
   "source": [
    "#OverTime\n",
    "maindf['OverTime'].value_counts()"
   ]
  },
  {
   "cell_type": "code",
   "execution_count": 117,
   "metadata": {},
   "outputs": [
    {
     "data": {
      "image/png": "[encoded data removed]",
      "text/plain": [
       "<Figure size 504x360 with 1 Axes>"
      ]
     },
     "metadata": {
      "needs_background": "light"
     },
     "output_type": "display_data"
    }
   ],
   "source": [
    "plt.figure(figsize=(7,5))\n",
    "sns.countplot(x='OverTime',hue='Attrition', data=maindf, palette='plasma')\n",
    "plt.title(\"OverTime w.r.t Attrition\")\n",
    "plt.legend(loc='best')\n",
    "plt.show()"
   ]
  },
  {
   "cell_type": "code",
   "execution_count": 118,
   "metadata": {},
   "outputs": [
    {
     "data": {
      "text/html": [
       "<div>\n",
       "<style scoped>\n",
       "    .dataframe tbody tr th:only-of-type {\n",
       "        vertical-align: middle;\n",
       "    }\n",
       "\n",
       "    .dataframe tbody tr th {\n",
       "        vertical-align: top;\n",
       "    }\n",
       "\n",
       "    .dataframe thead th {\n",
       "        text-align: right;\n",
       "    }\n",
       "</style>\n",
       "<table border=\"1\" class=\"dataframe\">\n",
       "  <thead>\n",
       "    <tr style=\"text-align: right;\">\n",
       "      <th>Gender</th>\n",
       "      <th>Female</th>\n",
       "      <th>Male</th>\n",
       "    </tr>\n",
       "    <tr>\n",
       "      <th>OverTime</th>\n",
       "      <th></th>\n",
       "      <th></th>\n",
       "    </tr>\n",
       "  </thead>\n",
       "  <tbody>\n",
       "    <tr>\n",
       "      <th>No</th>\n",
       "      <td>408</td>\n",
       "      <td>646</td>\n",
       "    </tr>\n",
       "    <tr>\n",
       "      <th>Yes</th>\n",
       "      <td>180</td>\n",
       "      <td>236</td>\n",
       "    </tr>\n",
       "  </tbody>\n",
       "</table>\n",
       "</div>"
      ],
      "text/plain": [
       "Gender    Female  Male\n",
       "OverTime              \n",
       "No           408   646\n",
       "Yes          180   236"
      ]
     },
     "execution_count": 118,
     "metadata": {},
     "output_type": "execute_result"
    }
   ],
   "source": [
    "# how many male and female do overTime\n",
    "pd.crosstab(maindf['OverTime'], empdf['Gender'])"
   ]
  },
  {
   "cell_type": "code",
   "execution_count": 119,
   "metadata": {},
   "outputs": [
    {
     "name": "stdout",
     "output_type": "stream",
     "text": [
      "Total numerical_features 26\n"
     ]
    }
   ],
   "source": [
    "numerical_features = [feature for feature in maindf.columns if maindf[feature].dtype != 'O']\n",
    "print(\"Total numerical_features\", len(numerical_features))"
   ]
  },
  {
   "cell_type": "code",
   "execution_count": 120,
   "metadata": {},
   "outputs": [
    {
     "data": {
      "text/html": [
       "<div>\n",
       "<style scoped>\n",
       "    .dataframe tbody tr th:only-of-type {\n",
       "        vertical-align: middle;\n",
       "    }\n",
       "\n",
       "    .dataframe tbody tr th {\n",
       "        vertical-align: top;\n",
       "    }\n",
       "\n",
       "    .dataframe thead th {\n",
       "        text-align: right;\n",
       "    }\n",
       "</style>\n",
       "<table border=\"1\" class=\"dataframe\">\n",
       "  <thead>\n",
       "    <tr style=\"text-align: right;\">\n",
       "      <th></th>\n",
       "      <th>Age</th>\n",
       "      <th>DailyRate</th>\n",
       "      <th>DistanceFromHome</th>\n",
       "      <th>Education</th>\n",
       "      <th>EmployeeCount</th>\n",
       "      <th>EmployeeNumber</th>\n",
       "      <th>EnvironmentSatisfaction</th>\n",
       "      <th>HourlyRate</th>\n",
       "      <th>JobInvolvement</th>\n",
       "      <th>JobLevel</th>\n",
       "      <th>JobSatisfaction</th>\n",
       "      <th>MonthlyIncome</th>\n",
       "      <th>MonthlyRate</th>\n",
       "      <th>NumCompaniesWorked</th>\n",
       "      <th>PercentSalaryHike</th>\n",
       "      <th>PerformanceRating</th>\n",
       "      <th>RelationshipSatisfaction</th>\n",
       "      <th>StandardHours</th>\n",
       "      <th>StockOptionLevel</th>\n",
       "      <th>TotalWorkingYears</th>\n",
       "      <th>TrainingTimesLastYear</th>\n",
       "      <th>WorkLifeBalance</th>\n",
       "      <th>YearsAtCompany</th>\n",
       "      <th>YearsInCurrentRole</th>\n",
       "      <th>YearsSinceLastPromotion</th>\n",
       "      <th>YearsWithCurrManager</th>\n",
       "    </tr>\n",
       "  </thead>\n",
       "  <tbody>\n",
       "    <tr>\n",
       "      <th>0</th>\n",
       "      <td>41</td>\n",
       "      <td>1102</td>\n",
       "      <td>1</td>\n",
       "      <td>2</td>\n",
       "      <td>1</td>\n",
       "      <td>1</td>\n",
       "      <td>2</td>\n",
       "      <td>94</td>\n",
       "      <td>3</td>\n",
       "      <td>2</td>\n",
       "      <td>4</td>\n",
       "      <td>5993</td>\n",
       "      <td>19479</td>\n",
       "      <td>8</td>\n",
       "      <td>11</td>\n",
       "      <td>3</td>\n",
       "      <td>1</td>\n",
       "      <td>80</td>\n",
       "      <td>0</td>\n",
       "      <td>8</td>\n",
       "      <td>0</td>\n",
       "      <td>1</td>\n",
       "      <td>6</td>\n",
       "      <td>4</td>\n",
       "      <td>0</td>\n",
       "      <td>5</td>\n",
       "    </tr>\n",
       "    <tr>\n",
       "      <th>1</th>\n",
       "      <td>49</td>\n",
       "      <td>279</td>\n",
       "      <td>8</td>\n",
       "      <td>1</td>\n",
       "      <td>1</td>\n",
       "      <td>2</td>\n",
       "      <td>3</td>\n",
       "      <td>61</td>\n",
       "      <td>2</td>\n",
       "      <td>2</td>\n",
       "      <td>2</td>\n",
       "      <td>5130</td>\n",
       "      <td>24907</td>\n",
       "      <td>1</td>\n",
       "      <td>23</td>\n",
       "      <td>4</td>\n",
       "      <td>4</td>\n",
       "      <td>80</td>\n",
       "      <td>1</td>\n",
       "      <td>10</td>\n",
       "      <td>3</td>\n",
       "      <td>3</td>\n",
       "      <td>10</td>\n",
       "      <td>7</td>\n",
       "      <td>1</td>\n",
       "      <td>7</td>\n",
       "    </tr>\n",
       "    <tr>\n",
       "      <th>2</th>\n",
       "      <td>37</td>\n",
       "      <td>1373</td>\n",
       "      <td>2</td>\n",
       "      <td>2</td>\n",
       "      <td>1</td>\n",
       "      <td>4</td>\n",
       "      <td>4</td>\n",
       "      <td>92</td>\n",
       "      <td>2</td>\n",
       "      <td>1</td>\n",
       "      <td>3</td>\n",
       "      <td>2090</td>\n",
       "      <td>2396</td>\n",
       "      <td>6</td>\n",
       "      <td>15</td>\n",
       "      <td>3</td>\n",
       "      <td>2</td>\n",
       "      <td>80</td>\n",
       "      <td>0</td>\n",
       "      <td>7</td>\n",
       "      <td>3</td>\n",
       "      <td>3</td>\n",
       "      <td>0</td>\n",
       "      <td>0</td>\n",
       "      <td>0</td>\n",
       "      <td>0</td>\n",
       "    </tr>\n",
       "    <tr>\n",
       "      <th>3</th>\n",
       "      <td>33</td>\n",
       "      <td>1392</td>\n",
       "      <td>3</td>\n",
       "      <td>4</td>\n",
       "      <td>1</td>\n",
       "      <td>5</td>\n",
       "      <td>4</td>\n",
       "      <td>56</td>\n",
       "      <td>3</td>\n",
       "      <td>1</td>\n",
       "      <td>3</td>\n",
       "      <td>2909</td>\n",
       "      <td>23159</td>\n",
       "      <td>1</td>\n",
       "      <td>11</td>\n",
       "      <td>3</td>\n",
       "      <td>3</td>\n",
       "      <td>80</td>\n",
       "      <td>0</td>\n",
       "      <td>8</td>\n",
       "      <td>3</td>\n",
       "      <td>3</td>\n",
       "      <td>8</td>\n",
       "      <td>7</td>\n",
       "      <td>3</td>\n",
       "      <td>0</td>\n",
       "    </tr>\n",
       "    <tr>\n",
       "      <th>4</th>\n",
       "      <td>27</td>\n",
       "      <td>591</td>\n",
       "      <td>2</td>\n",
       "      <td>1</td>\n",
       "      <td>1</td>\n",
       "      <td>7</td>\n",
       "      <td>1</td>\n",
       "      <td>40</td>\n",
       "      <td>3</td>\n",
       "      <td>1</td>\n",
       "      <td>2</td>\n",
       "      <td>3468</td>\n",
       "      <td>16632</td>\n",
       "      <td>9</td>\n",
       "      <td>12</td>\n",
       "      <td>3</td>\n",
       "      <td>4</td>\n",
       "      <td>80</td>\n",
       "      <td>1</td>\n",
       "      <td>6</td>\n",
       "      <td>3</td>\n",
       "      <td>3</td>\n",
       "      <td>2</td>\n",
       "      <td>2</td>\n",
       "      <td>2</td>\n",
       "      <td>2</td>\n",
       "    </tr>\n",
       "  </tbody>\n",
       "</table>\n",
       "</div>"
      ],
      "text/plain": [
       "   Age  DailyRate  DistanceFromHome  Education  EmployeeCount  EmployeeNumber  \\\n",
       "0   41       1102                 1          2              1               1   \n",
       "1   49        279                 8          1              1               2   \n",
       "2   37       1373                 2          2              1               4   \n",
       "3   33       1392                 3          4              1               5   \n",
       "4   27        591                 2          1              1               7   \n",
       "\n",
       "   EnvironmentSatisfaction  HourlyRate  JobInvolvement  JobLevel  \\\n",
       "0                        2          94               3         2   \n",
       "1                        3          61               2         2   \n",
       "2                        4          92               2         1   \n",
       "3                        4          56               3         1   \n",
       "4                        1          40               3         1   \n",
       "\n",
       "   JobSatisfaction  MonthlyIncome  MonthlyRate  NumCompaniesWorked  \\\n",
       "0                4           5993        19479                   8   \n",
       "1                2           5130        24907                   1   \n",
       "2                3           2090         2396                   6   \n",
       "3                3           2909        23159                   1   \n",
       "4                2           3468        16632                   9   \n",
       "\n",
       "   PercentSalaryHike  PerformanceRating  RelationshipSatisfaction  \\\n",
       "0                 11                  3                         1   \n",
       "1                 23                  4                         4   \n",
       "2                 15                  3                         2   \n",
       "3                 11                  3                         3   \n",
       "4                 12                  3                         4   \n",
       "\n",
       "   StandardHours  StockOptionLevel  TotalWorkingYears  TrainingTimesLastYear  \\\n",
       "0             80                 0                  8                      0   \n",
       "1             80                 1                 10                      3   \n",
       "2             80                 0                  7                      3   \n",
       "3             80                 0                  8                      3   \n",
       "4             80                 1                  6                      3   \n",
       "\n",
       "   WorkLifeBalance  YearsAtCompany  YearsInCurrentRole  \\\n",
       "0                1               6                   4   \n",
       "1                3              10                   7   \n",
       "2                3               0                   0   \n",
       "3                3               8                   7   \n",
       "4                3               2                   2   \n",
       "\n",
       "   YearsSinceLastPromotion  YearsWithCurrManager  \n",
       "0                        0                     5  \n",
       "1                        1                     7  \n",
       "2                        0                     0  \n",
       "3                        3                     0  \n",
       "4                        2                     2  "
      ]
     },
     "execution_count": 120,
     "metadata": {},
     "output_type": "execute_result"
    }
   ],
   "source": [
    "maindf[numerical_features].head()"
   ]
  },
  {
   "cell_type": "code",
   "execution_count": 121,
   "metadata": {},
   "outputs": [
    {
     "data": {
      "image/png": "[encoded data removed]",
      "text/plain": [
       "<Figure size 432x288 with 1 Axes>"
      ]
     },
     "metadata": {
      "needs_background": "light"
     },
     "output_type": "display_data"
    }
   ],
   "source": [
    "# distribution of age\n",
    "sns.distplot(maindf['Age'],hist=False)\n",
    "plt.show()"
   ]
  },
  {
   "cell_type": "code",
   "execution_count": 122,
   "metadata": {},
   "outputs": [
    {
     "data": {
      "text/plain": [
       "43"
      ]
     },
     "execution_count": 122,
     "metadata": {},
     "output_type": "execute_result"
    }
   ],
   "source": [
    "maindf['Age'].nunique()"
   ]
  },
  {
   "cell_type": "code",
   "execution_count": 123,
   "metadata": {},
   "outputs": [
    {
     "data": {
      "text/html": [
       "<div>\n",
       "<style scoped>\n",
       "    .dataframe tbody tr th:only-of-type {\n",
       "        vertical-align: middle;\n",
       "    }\n",
       "\n",
       "    .dataframe tbody tr th {\n",
       "        vertical-align: top;\n",
       "    }\n",
       "\n",
       "    .dataframe thead th {\n",
       "        text-align: right;\n",
       "    }\n",
       "</style>\n",
       "<table border=\"1\" class=\"dataframe\">\n",
       "  <thead>\n",
       "    <tr style=\"text-align: right;\">\n",
       "      <th></th>\n",
       "      <th>Education</th>\n",
       "      <th>EnvironmentSatisfaction</th>\n",
       "      <th>JobInvolvement</th>\n",
       "      <th>JobSatisfaction</th>\n",
       "      <th>PerformanceRating</th>\n",
       "      <th>RelationshipSatisfaction</th>\n",
       "      <th>WorkLifeBalance</th>\n",
       "    </tr>\n",
       "  </thead>\n",
       "  <tbody>\n",
       "    <tr>\n",
       "      <th>0</th>\n",
       "      <td>2</td>\n",
       "      <td>2</td>\n",
       "      <td>3</td>\n",
       "      <td>4</td>\n",
       "      <td>3</td>\n",
       "      <td>1</td>\n",
       "      <td>1</td>\n",
       "    </tr>\n",
       "    <tr>\n",
       "      <th>1</th>\n",
       "      <td>1</td>\n",
       "      <td>3</td>\n",
       "      <td>2</td>\n",
       "      <td>2</td>\n",
       "      <td>4</td>\n",
       "      <td>4</td>\n",
       "      <td>3</td>\n",
       "    </tr>\n",
       "    <tr>\n",
       "      <th>2</th>\n",
       "      <td>2</td>\n",
       "      <td>4</td>\n",
       "      <td>2</td>\n",
       "      <td>3</td>\n",
       "      <td>3</td>\n",
       "      <td>2</td>\n",
       "      <td>3</td>\n",
       "    </tr>\n",
       "    <tr>\n",
       "      <th>3</th>\n",
       "      <td>4</td>\n",
       "      <td>4</td>\n",
       "      <td>3</td>\n",
       "      <td>3</td>\n",
       "      <td>3</td>\n",
       "      <td>3</td>\n",
       "      <td>3</td>\n",
       "    </tr>\n",
       "    <tr>\n",
       "      <th>4</th>\n",
       "      <td>1</td>\n",
       "      <td>1</td>\n",
       "      <td>3</td>\n",
       "      <td>2</td>\n",
       "      <td>3</td>\n",
       "      <td>4</td>\n",
       "      <td>3</td>\n",
       "    </tr>\n",
       "  </tbody>\n",
       "</table>\n",
       "</div>"
      ],
      "text/plain": [
       "   Education  EnvironmentSatisfaction  JobInvolvement  JobSatisfaction  \\\n",
       "0          2                        2               3                4   \n",
       "1          1                        3               2                2   \n",
       "2          2                        4               2                3   \n",
       "3          4                        4               3                3   \n",
       "4          1                        1               3                2   \n",
       "\n",
       "   PerformanceRating  RelationshipSatisfaction  WorkLifeBalance  \n",
       "0                  3                         1                1  \n",
       "1                  4                         4                3  \n",
       "2                  3                         2                3  \n",
       "3                  3                         3                3  \n",
       "4                  3                         4                3  "
      ]
     },
     "execution_count": 123,
     "metadata": {},
     "output_type": "execute_result"
    }
   ],
   "source": [
    "ordinal_features = ['Education','EnvironmentSatisfaction','JobInvolvement','JobSatisfaction',\n",
    "                    'PerformanceRating','RelationshipSatisfaction','WorkLifeBalance']\n",
    "maindf[ordinal_features].head()"
   ]
  },
  {
   "cell_type": "code",
   "execution_count": 124,
   "metadata": {},
   "outputs": [
    {
     "data": {
      "text/plain": [
       "3    572\n",
       "4    398\n",
       "2    282\n",
       "1    170\n",
       "5     48\n",
       "Name: Education, dtype: int64"
      ]
     },
     "execution_count": 124,
     "metadata": {},
     "output_type": "execute_result"
    }
   ],
   "source": [
    "# Education\n",
    "maindf['Education'].value_counts()"
   ]
  },
  {
   "cell_type": "code",
   "execution_count": 125,
   "metadata": {},
   "outputs": [
    {
     "data": {
      "image/png": "[encoded data removed]",
      "text/plain": [
       "<Figure size 504x360 with 1 Axes>"
      ]
     },
     "metadata": {
      "needs_background": "light"
     },
     "output_type": "display_data"
    }
   ],
   "source": [
    "edu_map = {1 :'Below College', 2: 'College', 3 :'Bachelor', 4 :'Master', 5: 'Doctor'}\n",
    "plt.figure(figsize=(7,5))\n",
    "sns.countplot(x=empdf['Education'].map(edu_map), hue='Attrition', data=maindf, palette='prism')\n",
    "plt.title(\"Education W.R.T Attrition\")\n",
    "plt.show()"
   ]
  },
  {
   "cell_type": "code",
   "execution_count": 126,
   "metadata": {},
   "outputs": [
    {
     "data": {
      "text/plain": [
       "3    453\n",
       "4    446\n",
       "2    287\n",
       "1    284\n",
       "Name: EnvironmentSatisfaction, dtype: int64"
      ]
     },
     "execution_count": 126,
     "metadata": {},
     "output_type": "execute_result"
    }
   ],
   "source": [
    "#EnvironmentSatisfaction\n",
    "maindf['EnvironmentSatisfaction'].value_counts()   # it is very nice response from employees"
   ]
  },
  {
   "cell_type": "code",
   "execution_count": 127,
   "metadata": {},
   "outputs": [
    {
     "data": {
      "text/plain": [
       "3    868\n",
       "2    375\n",
       "4    144\n",
       "1     83\n",
       "Name: JobInvolvement, dtype: int64"
      ]
     },
     "execution_count": 127,
     "metadata": {},
     "output_type": "execute_result"
    }
   ],
   "source": [
    "#JobInvolvement\n",
    "maindf['JobInvolvement'].value_counts()"
   ]
  },
  {
   "cell_type": "code",
   "execution_count": 128,
   "metadata": {},
   "outputs": [
    {
     "name": "stdout",
     "output_type": "stream",
     "text": [
      "total numerical_features 19\n"
     ]
    }
   ],
   "source": [
    "numerical_features = [feature for feature in maindf.columns if maindf[feature].dtype != 'O' and feature not in ordinal_features]\n",
    "print(\"total numerical_features\",len(numerical_features))"
   ]
  },
  {
   "cell_type": "code",
   "execution_count": 129,
   "metadata": {},
   "outputs": [
    {
     "data": {
      "text/html": [
       "<div>\n",
       "<style scoped>\n",
       "    .dataframe tbody tr th:only-of-type {\n",
       "        vertical-align: middle;\n",
       "    }\n",
       "\n",
       "    .dataframe tbody tr th {\n",
       "        vertical-align: top;\n",
       "    }\n",
       "\n",
       "    .dataframe thead th {\n",
       "        text-align: right;\n",
       "    }\n",
       "</style>\n",
       "<table border=\"1\" class=\"dataframe\">\n",
       "  <thead>\n",
       "    <tr style=\"text-align: right;\">\n",
       "      <th></th>\n",
       "      <th>Age</th>\n",
       "      <th>DailyRate</th>\n",
       "      <th>DistanceFromHome</th>\n",
       "      <th>EmployeeCount</th>\n",
       "      <th>EmployeeNumber</th>\n",
       "      <th>HourlyRate</th>\n",
       "      <th>JobLevel</th>\n",
       "      <th>MonthlyIncome</th>\n",
       "      <th>MonthlyRate</th>\n",
       "      <th>NumCompaniesWorked</th>\n",
       "      <th>PercentSalaryHike</th>\n",
       "      <th>StandardHours</th>\n",
       "      <th>StockOptionLevel</th>\n",
       "      <th>TotalWorkingYears</th>\n",
       "      <th>TrainingTimesLastYear</th>\n",
       "      <th>YearsAtCompany</th>\n",
       "      <th>YearsInCurrentRole</th>\n",
       "      <th>YearsSinceLastPromotion</th>\n",
       "      <th>YearsWithCurrManager</th>\n",
       "    </tr>\n",
       "  </thead>\n",
       "  <tbody>\n",
       "    <tr>\n",
       "      <th>0</th>\n",
       "      <td>41</td>\n",
       "      <td>1102</td>\n",
       "      <td>1</td>\n",
       "      <td>1</td>\n",
       "      <td>1</td>\n",
       "      <td>94</td>\n",
       "      <td>2</td>\n",
       "      <td>5993</td>\n",
       "      <td>19479</td>\n",
       "      <td>8</td>\n",
       "      <td>11</td>\n",
       "      <td>80</td>\n",
       "      <td>0</td>\n",
       "      <td>8</td>\n",
       "      <td>0</td>\n",
       "      <td>6</td>\n",
       "      <td>4</td>\n",
       "      <td>0</td>\n",
       "      <td>5</td>\n",
       "    </tr>\n",
       "    <tr>\n",
       "      <th>1</th>\n",
       "      <td>49</td>\n",
       "      <td>279</td>\n",
       "      <td>8</td>\n",
       "      <td>1</td>\n",
       "      <td>2</td>\n",
       "      <td>61</td>\n",
       "      <td>2</td>\n",
       "      <td>5130</td>\n",
       "      <td>24907</td>\n",
       "      <td>1</td>\n",
       "      <td>23</td>\n",
       "      <td>80</td>\n",
       "      <td>1</td>\n",
       "      <td>10</td>\n",
       "      <td>3</td>\n",
       "      <td>10</td>\n",
       "      <td>7</td>\n",
       "      <td>1</td>\n",
       "      <td>7</td>\n",
       "    </tr>\n",
       "    <tr>\n",
       "      <th>2</th>\n",
       "      <td>37</td>\n",
       "      <td>1373</td>\n",
       "      <td>2</td>\n",
       "      <td>1</td>\n",
       "      <td>4</td>\n",
       "      <td>92</td>\n",
       "      <td>1</td>\n",
       "      <td>2090</td>\n",
       "      <td>2396</td>\n",
       "      <td>6</td>\n",
       "      <td>15</td>\n",
       "      <td>80</td>\n",
       "      <td>0</td>\n",
       "      <td>7</td>\n",
       "      <td>3</td>\n",
       "      <td>0</td>\n",
       "      <td>0</td>\n",
       "      <td>0</td>\n",
       "      <td>0</td>\n",
       "    </tr>\n",
       "    <tr>\n",
       "      <th>3</th>\n",
       "      <td>33</td>\n",
       "      <td>1392</td>\n",
       "      <td>3</td>\n",
       "      <td>1</td>\n",
       "      <td>5</td>\n",
       "      <td>56</td>\n",
       "      <td>1</td>\n",
       "      <td>2909</td>\n",
       "      <td>23159</td>\n",
       "      <td>1</td>\n",
       "      <td>11</td>\n",
       "      <td>80</td>\n",
       "      <td>0</td>\n",
       "      <td>8</td>\n",
       "      <td>3</td>\n",
       "      <td>8</td>\n",
       "      <td>7</td>\n",
       "      <td>3</td>\n",
       "      <td>0</td>\n",
       "    </tr>\n",
       "    <tr>\n",
       "      <th>4</th>\n",
       "      <td>27</td>\n",
       "      <td>591</td>\n",
       "      <td>2</td>\n",
       "      <td>1</td>\n",
       "      <td>7</td>\n",
       "      <td>40</td>\n",
       "      <td>1</td>\n",
       "      <td>3468</td>\n",
       "      <td>16632</td>\n",
       "      <td>9</td>\n",
       "      <td>12</td>\n",
       "      <td>80</td>\n",
       "      <td>1</td>\n",
       "      <td>6</td>\n",
       "      <td>3</td>\n",
       "      <td>2</td>\n",
       "      <td>2</td>\n",
       "      <td>2</td>\n",
       "      <td>2</td>\n",
       "    </tr>\n",
       "  </tbody>\n",
       "</table>\n",
       "</div>"
      ],
      "text/plain": [
       "   Age  DailyRate  DistanceFromHome  EmployeeCount  EmployeeNumber  \\\n",
       "0   41       1102                 1              1               1   \n",
       "1   49        279                 8              1               2   \n",
       "2   37       1373                 2              1               4   \n",
       "3   33       1392                 3              1               5   \n",
       "4   27        591                 2              1               7   \n",
       "\n",
       "   HourlyRate  JobLevel  MonthlyIncome  MonthlyRate  NumCompaniesWorked  \\\n",
       "0          94         2           5993        19479                   8   \n",
       "1          61         2           5130        24907                   1   \n",
       "2          92         1           2090         2396                   6   \n",
       "3          56         1           2909        23159                   1   \n",
       "4          40         1           3468        16632                   9   \n",
       "\n",
       "   PercentSalaryHike  StandardHours  StockOptionLevel  TotalWorkingYears  \\\n",
       "0                 11             80                 0                  8   \n",
       "1                 23             80                 1                 10   \n",
       "2                 15             80                 0                  7   \n",
       "3                 11             80                 0                  8   \n",
       "4                 12             80                 1                  6   \n",
       "\n",
       "   TrainingTimesLastYear  YearsAtCompany  YearsInCurrentRole  \\\n",
       "0                      0               6                   4   \n",
       "1                      3              10                   7   \n",
       "2                      3               0                   0   \n",
       "3                      3               8                   7   \n",
       "4                      3               2                   2   \n",
       "\n",
       "   YearsSinceLastPromotion  YearsWithCurrManager  \n",
       "0                        0                     5  \n",
       "1                        1                     7  \n",
       "2                        0                     0  \n",
       "3                        3                     0  \n",
       "4                        2                     2  "
      ]
     },
     "execution_count": 129,
     "metadata": {},
     "output_type": "execute_result"
    }
   ],
   "source": [
    "maindf[numerical_features].head()"
   ]
  },
  {
   "cell_type": "code",
   "execution_count": 130,
   "metadata": {},
   "outputs": [
    {
     "data": {
      "image/png": "[encoded data removed]",
      "text/plain": [
       "<Figure size 432x288 with 1 Axes>"
      ]
     },
     "metadata": {
      "needs_background": "light"
     },
     "output_type": "display_data"
    }
   ],
   "source": [
    "#MonthlyIncome\n",
    "sns.distplot(maindf['MonthlyIncome'],hist=False)\n",
    "plt.show()"
   ]
  },
  {
   "cell_type": "code",
   "execution_count": 131,
   "metadata": {},
   "outputs": [
    {
     "data": {
      "image/png": "[encoded data removed]",
      "text/plain": [
       "<Figure size 432x360 with 1 Axes>"
      ]
     },
     "metadata": {
      "needs_background": "light"
     },
     "output_type": "display_data"
    }
   ],
   "source": [
    "plt.figure(figsize=(6,5))\n",
    "sns.boxplot(maindf['MonthlyIncome'])\n",
    "plt.show()"
   ]
  },
  {
   "cell_type": "code",
   "execution_count": 132,
   "metadata": {},
   "outputs": [
    {
     "data": {
      "text/plain": [
       "Age\n",
       "35    78\n",
       "34    77\n",
       "31    69\n",
       "36    69\n",
       "29    68\n",
       "Name: EmployeeCount, dtype: int64"
      ]
     },
     "execution_count": 132,
     "metadata": {},
     "output_type": "execute_result"
    }
   ],
   "source": [
    "# employee count in age group and whicg age employees are more\n",
    "maindf.groupby('Age')['EmployeeCount'].sum().sort_values(ascending=False).head()"
   ]
  },
  {
   "cell_type": "code",
   "execution_count": 133,
   "metadata": {},
   "outputs": [
    {
     "data": {
      "text/plain": [
       "1    543\n",
       "2    534\n",
       "3    218\n",
       "4    106\n",
       "5     69\n",
       "Name: JobLevel, dtype: int64"
      ]
     },
     "execution_count": 133,
     "metadata": {},
     "output_type": "execute_result"
    }
   ],
   "source": [
    "#JobLevel\n",
    "maindf['JobLevel'].value_counts()"
   ]
  },
  {
   "cell_type": "code",
   "execution_count": 134,
   "metadata": {},
   "outputs": [
    {
     "data": {
      "image/png": "[encoded data removed]",
      "text/plain": [
       "<Figure size 432x288 with 1 Axes>"
      ]
     },
     "metadata": {
      "needs_background": "light"
     },
     "output_type": "display_data"
    }
   ],
   "source": [
    "# JobLevel can have some effect on Attrition of Employees\n",
    "sns.countplot(x='JobLevel',hue='Attrition',data=maindf)\n",
    "plt.show()"
   ]
  },
  {
   "cell_type": "code",
   "execution_count": 135,
   "metadata": {},
   "outputs": [
    {
     "data": {
      "image/png": "[encoded data removed]",
      "text/plain": [
       "<Figure size 432x288 with 1 Axes>"
      ]
     },
     "metadata": {
      "needs_background": "light"
     },
     "output_type": "display_data"
    }
   ],
   "source": [
    "#NumCompaniesWorked\n",
    "sns.countplot(x='JobLevel',hue='Attrition',data=maindf)\n",
    "plt.show()"
   ]
  },
  {
   "cell_type": "code",
   "execution_count": 136,
   "metadata": {},
   "outputs": [
    {
     "data": {
      "text/plain": [
       "0    631\n",
       "1    596\n",
       "2    158\n",
       "3     85\n",
       "Name: StockOptionLevel, dtype: int64"
      ]
     },
     "execution_count": 136,
     "metadata": {},
     "output_type": "execute_result"
    }
   ],
   "source": [
    "maindf['StockOptionLevel'].value_counts()"
   ]
  },
  {
   "cell_type": "code",
   "execution_count": 137,
   "metadata": {},
   "outputs": [],
   "source": [
    "#drop the columns which have save val in whole dataset or which are unrelevant for Attrition prediction. \n",
    "maindf.drop(['EmployeeCount','EmployeeNumber','StandardHours'],axis=1, inplace=True)"
   ]
  },
  {
   "cell_type": "code",
   "execution_count": 138,
   "metadata": {},
   "outputs": [
    {
     "data": {
      "text/html": [
       "<div>\n",
       "<style scoped>\n",
       "    .dataframe tbody tr th:only-of-type {\n",
       "        vertical-align: middle;\n",
       "    }\n",
       "\n",
       "    .dataframe tbody tr th {\n",
       "        vertical-align: top;\n",
       "    }\n",
       "\n",
       "    .dataframe thead th {\n",
       "        text-align: right;\n",
       "    }\n",
       "</style>\n",
       "<table border=\"1\" class=\"dataframe\">\n",
       "  <thead>\n",
       "    <tr style=\"text-align: right;\">\n",
       "      <th></th>\n",
       "      <th>Attrition</th>\n",
       "      <th>BusinessTravel</th>\n",
       "      <th>Department</th>\n",
       "      <th>EducationField</th>\n",
       "      <th>Gender</th>\n",
       "      <th>JobRole</th>\n",
       "      <th>MaritalStatus</th>\n",
       "      <th>Over18</th>\n",
       "      <th>OverTime</th>\n",
       "    </tr>\n",
       "  </thead>\n",
       "  <tbody>\n",
       "    <tr>\n",
       "      <th>0</th>\n",
       "      <td>Yes</td>\n",
       "      <td>Travel_Rarely</td>\n",
       "      <td>Sales</td>\n",
       "      <td>Life Sciences</td>\n",
       "      <td>Female</td>\n",
       "      <td>Sales Executive</td>\n",
       "      <td>Single</td>\n",
       "      <td>Y</td>\n",
       "      <td>Yes</td>\n",
       "    </tr>\n",
       "    <tr>\n",
       "      <th>1</th>\n",
       "      <td>No</td>\n",
       "      <td>Travel_Frequently</td>\n",
       "      <td>Research &amp; Development</td>\n",
       "      <td>Life Sciences</td>\n",
       "      <td>Male</td>\n",
       "      <td>Research Scientist</td>\n",
       "      <td>Married</td>\n",
       "      <td>Y</td>\n",
       "      <td>No</td>\n",
       "    </tr>\n",
       "    <tr>\n",
       "      <th>2</th>\n",
       "      <td>Yes</td>\n",
       "      <td>Travel_Rarely</td>\n",
       "      <td>Research &amp; Development</td>\n",
       "      <td>Other</td>\n",
       "      <td>Male</td>\n",
       "      <td>Laboratory Technician</td>\n",
       "      <td>Single</td>\n",
       "      <td>Y</td>\n",
       "      <td>Yes</td>\n",
       "    </tr>\n",
       "    <tr>\n",
       "      <th>3</th>\n",
       "      <td>No</td>\n",
       "      <td>Travel_Frequently</td>\n",
       "      <td>Research &amp; Development</td>\n",
       "      <td>Life Sciences</td>\n",
       "      <td>Female</td>\n",
       "      <td>Research Scientist</td>\n",
       "      <td>Married</td>\n",
       "      <td>Y</td>\n",
       "      <td>Yes</td>\n",
       "    </tr>\n",
       "    <tr>\n",
       "      <th>4</th>\n",
       "      <td>No</td>\n",
       "      <td>Travel_Rarely</td>\n",
       "      <td>Research &amp; Development</td>\n",
       "      <td>Medical</td>\n",
       "      <td>Male</td>\n",
       "      <td>Laboratory Technician</td>\n",
       "      <td>Married</td>\n",
       "      <td>Y</td>\n",
       "      <td>No</td>\n",
       "    </tr>\n",
       "  </tbody>\n",
       "</table>\n",
       "</div>"
      ],
      "text/plain": [
       "  Attrition     BusinessTravel              Department EducationField  Gender  \\\n",
       "0       Yes      Travel_Rarely                   Sales  Life Sciences  Female   \n",
       "1        No  Travel_Frequently  Research & Development  Life Sciences    Male   \n",
       "2       Yes      Travel_Rarely  Research & Development          Other    Male   \n",
       "3        No  Travel_Frequently  Research & Development  Life Sciences  Female   \n",
       "4        No      Travel_Rarely  Research & Development        Medical    Male   \n",
       "\n",
       "                 JobRole MaritalStatus Over18 OverTime  \n",
       "0        Sales Executive        Single      Y      Yes  \n",
       "1     Research Scientist       Married      Y       No  \n",
       "2  Laboratory Technician        Single      Y      Yes  \n",
       "3     Research Scientist       Married      Y      Yes  \n",
       "4  Laboratory Technician       Married      Y       No  "
      ]
     },
     "execution_count": 138,
     "metadata": {},
     "output_type": "execute_result"
    }
   ],
   "source": [
    "maindf[categorical_features].head()"
   ]
  },
  {
   "cell_type": "code",
   "execution_count": 139,
   "metadata": {},
   "outputs": [],
   "source": [
    "# Target Variable(Attrition)\n",
    "maindf['Attrition'] = maindf['Attrition'].replace({'No':0,'Yes':1})"
   ]
  },
  {
   "cell_type": "code",
   "execution_count": 140,
   "metadata": {},
   "outputs": [],
   "source": [
    "#encode binary variables\n",
    "maindf['OverTime'] = maindf['OverTime'].map({'No':0,'Yes':1})\n",
    "maindf['Gender'] = maindf['Gender'].map({'Male':0,'Female':1})"
   ]
  },
  {
   "cell_type": "code",
   "execution_count": 141,
   "metadata": {},
   "outputs": [],
   "source": [
    "#encode categorical columns which are ordinal, use labelEncoding\n",
    "cat_cols = ['BusinessTravel','Department','EducationField','JobRole','MaritalStatus']\n",
    "for col in cat_cols:\n",
    "    map_dict = {k:i for i, k in enumerate(maindf[col].value_counts().index,0)}\n",
    "    maindf[col] = maindf[col].map(map_dict)"
   ]
  },
  {
   "cell_type": "code",
   "execution_count": 142,
   "metadata": {},
   "outputs": [],
   "source": [
    "# drop the Over18 column\n",
    "maindf.drop('Over18',axis=1,inplace=True)"
   ]
  },
  {
   "cell_type": "code",
   "execution_count": 143,
   "metadata": {},
   "outputs": [
    {
     "data": {
      "text/plain": [
       "Attrition                   1.000000\n",
       "OverTime                    0.246118\n",
       "DistanceFromHome            0.077924\n",
       "Department                  0.077351\n",
       "EducationField              0.062320\n",
       "NumCompaniesWorked          0.043494\n",
       "MonthlyRate                 0.015170\n",
       "MaritalStatus               0.011195\n",
       "PerformanceRating           0.002889\n",
       "BusinessTravel             -0.000074\n",
       "HourlyRate                 -0.006846\n",
       "PercentSalaryHike          -0.013478\n",
       "JobRole                    -0.027930\n",
       "Gender                     -0.029453\n",
       "Education                  -0.031373\n",
       "YearsSinceLastPromotion    -0.033019\n",
       "RelationshipSatisfaction   -0.045872\n",
       "DailyRate                  -0.056652\n",
       "TrainingTimesLastYear      -0.059478\n",
       "WorkLifeBalance            -0.063939\n",
       "EnvironmentSatisfaction    -0.103369\n",
       "JobSatisfaction            -0.103481\n",
       "JobInvolvement             -0.130016\n",
       "YearsAtCompany             -0.134392\n",
       "StockOptionLevel           -0.137145\n",
       "Age                        -0.159205\n",
       "MonthlyIncome              -0.159840\n",
       "YearsInCurrentRole         -0.160545\n",
       "JobLevel                   -0.169105\n",
       "TotalWorkingYears          -0.171063\n",
       "Name: Attrition, dtype: float64"
      ]
     },
     "execution_count": 143,
     "metadata": {},
     "output_type": "execute_result"
    }
   ],
   "source": [
    "maindf.corr()['Attrition'][:-1].sort_values(ascending=False)"
   ]
  },
  {
   "cell_type": "code",
   "execution_count": 144,
   "metadata": {},
   "outputs": [
    {
     "data": {
      "image/png": "[encoded data removed]",
      "text/plain": [
       "<Figure size 936x648 with 2 Axes>"
      ]
     },
     "metadata": {
      "needs_background": "light"
     },
     "output_type": "display_data"
    }
   ],
   "source": [
    "plt.figure(figsize=(13,9))\n",
    "sns.heatmap(maindf.corr(),vmax=0.8,linewidth=0.1,cmap='coolwarm')\n",
    "plt.show()"
   ]
  },
  {
   "cell_type": "code",
   "execution_count": 145,
   "metadata": {},
   "outputs": [
    {
     "data": {
      "text/html": [
       "<div>\n",
       "<style scoped>\n",
       "    .dataframe tbody tr th:only-of-type {\n",
       "        vertical-align: middle;\n",
       "    }\n",
       "\n",
       "    .dataframe tbody tr th {\n",
       "        vertical-align: top;\n",
       "    }\n",
       "\n",
       "    .dataframe thead th {\n",
       "        text-align: right;\n",
       "    }\n",
       "</style>\n",
       "<table border=\"1\" class=\"dataframe\">\n",
       "  <thead>\n",
       "    <tr style=\"text-align: right;\">\n",
       "      <th></th>\n",
       "      <th>Age</th>\n",
       "      <th>Attrition</th>\n",
       "      <th>BusinessTravel</th>\n",
       "      <th>DailyRate</th>\n",
       "      <th>Department</th>\n",
       "      <th>DistanceFromHome</th>\n",
       "      <th>Education</th>\n",
       "      <th>EducationField</th>\n",
       "      <th>EnvironmentSatisfaction</th>\n",
       "      <th>Gender</th>\n",
       "      <th>HourlyRate</th>\n",
       "      <th>JobInvolvement</th>\n",
       "      <th>JobLevel</th>\n",
       "      <th>JobRole</th>\n",
       "      <th>JobSatisfaction</th>\n",
       "      <th>MaritalStatus</th>\n",
       "      <th>MonthlyIncome</th>\n",
       "      <th>MonthlyRate</th>\n",
       "      <th>NumCompaniesWorked</th>\n",
       "      <th>OverTime</th>\n",
       "      <th>PercentSalaryHike</th>\n",
       "      <th>PerformanceRating</th>\n",
       "      <th>RelationshipSatisfaction</th>\n",
       "      <th>StockOptionLevel</th>\n",
       "      <th>TotalWorkingYears</th>\n",
       "      <th>TrainingTimesLastYear</th>\n",
       "      <th>WorkLifeBalance</th>\n",
       "      <th>YearsAtCompany</th>\n",
       "      <th>YearsInCurrentRole</th>\n",
       "      <th>YearsSinceLastPromotion</th>\n",
       "      <th>YearsWithCurrManager</th>\n",
       "    </tr>\n",
       "  </thead>\n",
       "  <tbody>\n",
       "    <tr>\n",
       "      <th>0</th>\n",
       "      <td>41</td>\n",
       "      <td>1</td>\n",
       "      <td>0</td>\n",
       "      <td>1102</td>\n",
       "      <td>1</td>\n",
       "      <td>1</td>\n",
       "      <td>2</td>\n",
       "      <td>0</td>\n",
       "      <td>2</td>\n",
       "      <td>1</td>\n",
       "      <td>94</td>\n",
       "      <td>3</td>\n",
       "      <td>2</td>\n",
       "      <td>0</td>\n",
       "      <td>4</td>\n",
       "      <td>1</td>\n",
       "      <td>5993</td>\n",
       "      <td>19479</td>\n",
       "      <td>8</td>\n",
       "      <td>1</td>\n",
       "      <td>11</td>\n",
       "      <td>3</td>\n",
       "      <td>1</td>\n",
       "      <td>0</td>\n",
       "      <td>8</td>\n",
       "      <td>0</td>\n",
       "      <td>1</td>\n",
       "      <td>6</td>\n",
       "      <td>4</td>\n",
       "      <td>0</td>\n",
       "      <td>5</td>\n",
       "    </tr>\n",
       "    <tr>\n",
       "      <th>1</th>\n",
       "      <td>49</td>\n",
       "      <td>0</td>\n",
       "      <td>1</td>\n",
       "      <td>279</td>\n",
       "      <td>0</td>\n",
       "      <td>8</td>\n",
       "      <td>1</td>\n",
       "      <td>0</td>\n",
       "      <td>3</td>\n",
       "      <td>0</td>\n",
       "      <td>61</td>\n",
       "      <td>2</td>\n",
       "      <td>2</td>\n",
       "      <td>1</td>\n",
       "      <td>2</td>\n",
       "      <td>0</td>\n",
       "      <td>5130</td>\n",
       "      <td>24907</td>\n",
       "      <td>1</td>\n",
       "      <td>0</td>\n",
       "      <td>23</td>\n",
       "      <td>4</td>\n",
       "      <td>4</td>\n",
       "      <td>1</td>\n",
       "      <td>10</td>\n",
       "      <td>3</td>\n",
       "      <td>3</td>\n",
       "      <td>10</td>\n",
       "      <td>7</td>\n",
       "      <td>1</td>\n",
       "      <td>7</td>\n",
       "    </tr>\n",
       "    <tr>\n",
       "      <th>2</th>\n",
       "      <td>37</td>\n",
       "      <td>1</td>\n",
       "      <td>0</td>\n",
       "      <td>1373</td>\n",
       "      <td>0</td>\n",
       "      <td>2</td>\n",
       "      <td>2</td>\n",
       "      <td>4</td>\n",
       "      <td>4</td>\n",
       "      <td>0</td>\n",
       "      <td>92</td>\n",
       "      <td>2</td>\n",
       "      <td>1</td>\n",
       "      <td>2</td>\n",
       "      <td>3</td>\n",
       "      <td>1</td>\n",
       "      <td>2090</td>\n",
       "      <td>2396</td>\n",
       "      <td>6</td>\n",
       "      <td>1</td>\n",
       "      <td>15</td>\n",
       "      <td>3</td>\n",
       "      <td>2</td>\n",
       "      <td>0</td>\n",
       "      <td>7</td>\n",
       "      <td>3</td>\n",
       "      <td>3</td>\n",
       "      <td>0</td>\n",
       "      <td>0</td>\n",
       "      <td>0</td>\n",
       "      <td>0</td>\n",
       "    </tr>\n",
       "    <tr>\n",
       "      <th>3</th>\n",
       "      <td>33</td>\n",
       "      <td>0</td>\n",
       "      <td>1</td>\n",
       "      <td>1392</td>\n",
       "      <td>0</td>\n",
       "      <td>3</td>\n",
       "      <td>4</td>\n",
       "      <td>0</td>\n",
       "      <td>4</td>\n",
       "      <td>1</td>\n",
       "      <td>56</td>\n",
       "      <td>3</td>\n",
       "      <td>1</td>\n",
       "      <td>1</td>\n",
       "      <td>3</td>\n",
       "      <td>0</td>\n",
       "      <td>2909</td>\n",
       "      <td>23159</td>\n",
       "      <td>1</td>\n",
       "      <td>1</td>\n",
       "      <td>11</td>\n",
       "      <td>3</td>\n",
       "      <td>3</td>\n",
       "      <td>0</td>\n",
       "      <td>8</td>\n",
       "      <td>3</td>\n",
       "      <td>3</td>\n",
       "      <td>8</td>\n",
       "      <td>7</td>\n",
       "      <td>3</td>\n",
       "      <td>0</td>\n",
       "    </tr>\n",
       "    <tr>\n",
       "      <th>4</th>\n",
       "      <td>27</td>\n",
       "      <td>0</td>\n",
       "      <td>0</td>\n",
       "      <td>591</td>\n",
       "      <td>0</td>\n",
       "      <td>2</td>\n",
       "      <td>1</td>\n",
       "      <td>1</td>\n",
       "      <td>1</td>\n",
       "      <td>0</td>\n",
       "      <td>40</td>\n",
       "      <td>3</td>\n",
       "      <td>1</td>\n",
       "      <td>2</td>\n",
       "      <td>2</td>\n",
       "      <td>0</td>\n",
       "      <td>3468</td>\n",
       "      <td>16632</td>\n",
       "      <td>9</td>\n",
       "      <td>0</td>\n",
       "      <td>12</td>\n",
       "      <td>3</td>\n",
       "      <td>4</td>\n",
       "      <td>1</td>\n",
       "      <td>6</td>\n",
       "      <td>3</td>\n",
       "      <td>3</td>\n",
       "      <td>2</td>\n",
       "      <td>2</td>\n",
       "      <td>2</td>\n",
       "      <td>2</td>\n",
       "    </tr>\n",
       "  </tbody>\n",
       "</table>\n",
       "</div>"
      ],
      "text/plain": [
       "   Age  Attrition  BusinessTravel  DailyRate  Department  DistanceFromHome  \\\n",
       "0   41          1               0       1102           1                 1   \n",
       "1   49          0               1        279           0                 8   \n",
       "2   37          1               0       1373           0                 2   \n",
       "3   33          0               1       1392           0                 3   \n",
       "4   27          0               0        591           0                 2   \n",
       "\n",
       "   Education  EducationField  EnvironmentSatisfaction  Gender  HourlyRate  \\\n",
       "0          2               0                        2       1          94   \n",
       "1          1               0                        3       0          61   \n",
       "2          2               4                        4       0          92   \n",
       "3          4               0                        4       1          56   \n",
       "4          1               1                        1       0          40   \n",
       "\n",
       "   JobInvolvement  JobLevel  JobRole  JobSatisfaction  MaritalStatus  \\\n",
       "0               3         2        0                4              1   \n",
       "1               2         2        1                2              0   \n",
       "2               2         1        2                3              1   \n",
       "3               3         1        1                3              0   \n",
       "4               3         1        2                2              0   \n",
       "\n",
       "   MonthlyIncome  MonthlyRate  NumCompaniesWorked  OverTime  \\\n",
       "0           5993        19479                   8         1   \n",
       "1           5130        24907                   1         0   \n",
       "2           2090         2396                   6         1   \n",
       "3           2909        23159                   1         1   \n",
       "4           3468        16632                   9         0   \n",
       "\n",
       "   PercentSalaryHike  PerformanceRating  RelationshipSatisfaction  \\\n",
       "0                 11                  3                         1   \n",
       "1                 23                  4                         4   \n",
       "2                 15                  3                         2   \n",
       "3                 11                  3                         3   \n",
       "4                 12                  3                         4   \n",
       "\n",
       "   StockOptionLevel  TotalWorkingYears  TrainingTimesLastYear  \\\n",
       "0                 0                  8                      0   \n",
       "1                 1                 10                      3   \n",
       "2                 0                  7                      3   \n",
       "3                 0                  8                      3   \n",
       "4                 1                  6                      3   \n",
       "\n",
       "   WorkLifeBalance  YearsAtCompany  YearsInCurrentRole  \\\n",
       "0                1               6                   4   \n",
       "1                3              10                   7   \n",
       "2                3               0                   0   \n",
       "3                3               8                   7   \n",
       "4                3               2                   2   \n",
       "\n",
       "   YearsSinceLastPromotion  YearsWithCurrManager  \n",
       "0                        0                     5  \n",
       "1                        1                     7  \n",
       "2                        0                     0  \n",
       "3                        3                     0  \n",
       "4                        2                     2  "
      ]
     },
     "execution_count": 145,
     "metadata": {},
     "output_type": "execute_result"
    }
   ],
   "source": [
    "maindf.head()"
   ]
  },
  {
   "cell_type": "code",
   "execution_count": 146,
   "metadata": {},
   "outputs": [],
   "source": [
    "x = maindf.drop('Attrition',axis=1)\n",
    "y = maindf['Attrition']"
   ]
  },
  {
   "cell_type": "code",
   "execution_count": 147,
   "metadata": {},
   "outputs": [],
   "source": [
    "from sklearn.ensemble import ExtraTreesClassifier\n",
    "\n",
    "extra_tree = ExtraTreesClassifier()\n",
    "\n",
    "extra_tree.fit(x,y)\n",
    "\n",
    "feat_importance = extra_tree.feature_importances_"
   ]
  },
  {
   "cell_type": "code",
   "execution_count": 148,
   "metadata": {},
   "outputs": [
    {
     "data": {
      "image/png": "[encoded data removed]",
      "text/plain": [
       "<Figure size 792x648 with 1 Axes>"
      ]
     },
     "metadata": {
      "needs_background": "light"
     },
     "output_type": "display_data"
    }
   ],
   "source": [
    "#plotting a feature importance\n",
    "plt.figure(figsize=(11,9))\n",
    "feat_imp = pd.Series(extra_tree.feature_importances_, index=x.columns)\n",
    "\n",
    "feat_imp.nlargest(20).plot(kind='barh')\n",
    "plt.show()"
   ]
  },
  {
   "cell_type": "code",
   "execution_count": 149,
   "metadata": {},
   "outputs": [],
   "source": [
    "from sklearn.preprocessing import MinMaxScaler\n",
    "\n",
    "min_max = MinMaxScaler()\n",
    "\n",
    "x_scaled = min_max.fit(x).transform(x)"
   ]
  },
  {
   "cell_type": "code",
   "execution_count": 150,
   "metadata": {},
   "outputs": [
    {
     "data": {
      "text/plain": [
       "Age                         0.050411\n",
       "BusinessTravel              0.022457\n",
       "DailyRate                   0.030638\n",
       "Department                  0.021699\n",
       "DistanceFromHome            0.038785\n",
       "Education                   0.024873\n",
       "EducationField              0.031372\n",
       "EnvironmentSatisfaction     0.030345\n",
       "Gender                      0.019584\n",
       "HourlyRate                  0.029156\n",
       "JobInvolvement              0.033815\n",
       "JobLevel                    0.034413\n",
       "JobRole                     0.036556\n",
       "JobSatisfaction             0.039646\n",
       "MaritalStatus               0.025611\n",
       "MonthlyIncome               0.043393\n",
       "MonthlyRate                 0.028453\n",
       "NumCompaniesWorked          0.031523\n",
       "OverTime                    0.068367\n",
       "PercentSalaryHike           0.031797\n",
       "PerformanceRating           0.013780\n",
       "RelationshipSatisfaction    0.035009\n",
       "StockOptionLevel            0.037480\n",
       "TotalWorkingYears           0.037376\n",
       "TrainingTimesLastYear       0.032024\n",
       "WorkLifeBalance             0.032254\n",
       "YearsAtCompany              0.039451\n",
       "YearsInCurrentRole          0.031601\n",
       "YearsSinceLastPromotion     0.036336\n",
       "YearsWithCurrManager        0.031794\n",
       "dtype: float64"
      ]
     },
     "execution_count": 150,
     "metadata": {},
     "output_type": "execute_result"
    }
   ],
   "source": [
    "ExtraTree = ExtraTreesClassifier()\n",
    "\n",
    "ExtraTree.fit(x_scaled, y)\n",
    "\n",
    "feature_importance = pd.Series(ExtraTree.feature_importances_, index=x.columns)\n",
    "feature_importance"
   ]
  },
  {
   "cell_type": "code",
   "execution_count": 151,
   "metadata": {},
   "outputs": [
    {
     "data": {
      "image/png": "[encoded data removed]",
      "text/plain": [
       "<Figure size 720x648 with 1 Axes>"
      ]
     },
     "metadata": {
      "needs_background": "light"
     },
     "output_type": "display_data"
    }
   ],
   "source": [
    "plt.figure(figsize=(10,9))\n",
    "feature_importance.nlargest(20).plot(kind='barh')\n",
    "plt.show()"
   ]
  },
  {
   "cell_type": "code",
   "execution_count": 174,
   "metadata": {},
   "outputs": [],
   "source": [
    "from sklearn.model_selection import train_test_split\n",
    "\n",
    "from sklearn.linear_model import LogisticRegression\n",
    "from sklearn.svm import SVC\n",
    "from sklearn.neighbors import KNeighborsClassifier\n",
    "from sklearn.tree import DecisionTreeClassifier\n",
    "from sklearn.ensemble import RandomForestClassifier\n",
    "\n",
    "#metrics\n",
    "from sklearn.metrics import accuracy_score, classification_report"
   ]
  },
  {
   "cell_type": "code",
   "execution_count": 175,
   "metadata": {},
   "outputs": [
    {
     "name": "stdout",
     "output_type": "stream",
     "text": [
      "training shape:  (1102, 30)\n",
      "testing shape:  (368, 30)\n"
     ]
    }
   ],
   "source": [
    "#split data into train and test set.\n",
    "x_train,x_test,y_train,y_test = train_test_split(x,y,test_size=0.25,random_state=42)\n",
    "print(\"training shape: \",x_train.shape)\n",
    "print(\"testing shape: \",x_test.shape)"
   ]
  },
  {
   "cell_type": "code",
   "execution_count": 176,
   "metadata": {},
   "outputs": [],
   "source": [
    "#models\n",
    "log_clf = LogisticRegression()\n",
    "svc_clf = SVC()\n",
    "knn_clf = KNeighborsClassifier()\n",
    "dt_clf = DecisionTreeClassifier()\n",
    "rf_clf = RandomForestClassifier()"
   ]
  },
  {
   "cell_type": "code",
   "execution_count": 177,
   "metadata": {},
   "outputs": [
    {
     "name": "stdout",
     "output_type": "stream",
     "text": [
      "LogisticRegression   0.8722826086956522\n",
      "SVC   0.8695652173913043\n",
      "KNeighborsClassifier   0.8396739130434783\n",
      "DecisionTreeClassifier   0.7934782608695652\n",
      "RandomForestClassifier   0.8722826086956522\n"
     ]
    }
   ],
   "source": [
    "# first check the accuracy score on without scaled features\n",
    "for clf in [log_clf, svc_clf, knn_clf, dt_clf, rf_clf]:\n",
    "    clf.fit(x_train, y_train)\n",
    "    \n",
    "    pred = clf.predict(x_test)\n",
    "    \n",
    "    print(clf.__class__.__name__, \" \", accuracy_score(y_test,pred))"
   ]
  },
  {
   "cell_type": "code",
   "execution_count": 178,
   "metadata": {},
   "outputs": [
    {
     "name": "stdout",
     "output_type": "stream",
     "text": [
      "training shape:  (1102, 30)\n",
      "testing shape:  (368, 30)\n"
     ]
    }
   ],
   "source": [
    "# if we do same thing on scaled features\n",
    "#split data into train and test set using scaled data.\n",
    "x_train_scaled,x_test_scaled,y_train_scaled,y_test_scaled = train_test_split(x_scaled,y,test_size=0.25,random_state=42)\n",
    "print(\"training shape: \",x_train_scaled.shape)\n",
    "print(\"testing shape: \",x_test_scaled.shape)"
   ]
  },
  {
   "cell_type": "code",
   "execution_count": 179,
   "metadata": {},
   "outputs": [
    {
     "name": "stdout",
     "output_type": "stream",
     "text": [
      "LogisticRegression   0.8994565217391305\n",
      "SVC   0.8695652173913043\n",
      "KNeighborsClassifier   0.875\n",
      "DecisionTreeClassifier   0.8097826086956522\n",
      "RandomForestClassifier   0.8559782608695652\n"
     ]
    }
   ],
   "source": [
    "# Now check the accuracy score on scaled features\n",
    "for clf in [log_clf, svc_clf, knn_clf, dt_clf, rf_clf]:\n",
    "    clf.fit(x_train_scaled, y_train_scaled)\n",
    "    \n",
    "    pred = clf.predict(x_test_scaled)\n",
    "    \n",
    "    print(clf.__class__.__name__, \" \", accuracy_score(y_test,pred))"
   ]
  },
  {
   "cell_type": "code",
   "execution_count": 180,
   "metadata": {},
   "outputs": [],
   "source": [
    "from sklearn.ensemble import AdaBoostClassifier\n",
    "from xgboost import XGBClassifier"
   ]
  },
  {
   "cell_type": "code",
   "execution_count": 181,
   "metadata": {},
   "outputs": [
    {
     "name": "stdout",
     "output_type": "stream",
     "text": [
      "[16:41:22] WARNING: C:/Users/Administrator/workspace/xgboost-win64_release_1.4.0/src/learner.cc:1095: Starting in XGBoost 1.3.0, the default evaluation metric used with the objective 'binary:logistic' was changed from 'error' to 'logloss'. Explicitly set eval_metric if you'd like to restore the old behavior.\n",
      "accuracy:  0.8804347826086957\n"
     ]
    }
   ],
   "source": [
    "# XGBOOST\n",
    "xgb = XGBClassifier()\n",
    "\n",
    "xgb.fit(x_train_scaled, y_train_scaled)\n",
    "\n",
    "prediction = xgb.predict(x_test_scaled)\n",
    "\n",
    "print(\"accuracy: \",accuracy_score(y_test,prediction))"
   ]
  }
 ],
 "metadata": {
  "kernelspec": {
   "display_name": "Python 3",
   "language": "python",
   "name": "python3"
  },
  "language_info": {
   "codemirror_mode": {
    "name": "ipython",
    "version": 3
   },
   "file_extension": ".py",
   "mimetype": "text/x-python",
   "name": "python",
   "nbconvert_exporter": "python",
   "pygments_lexer": "ipython3",
   "version": "3.7.3"
  }
 },
 "nbformat": 4,
 "nbformat_minor": 2
}
